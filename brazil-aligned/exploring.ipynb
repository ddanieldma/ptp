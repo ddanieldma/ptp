{
 "cells": [
  {
   "cell_type": "code",
   "execution_count": 2,
   "metadata": {},
   "outputs": [],
   "source": [
    "import pandas as pd\n",
    "from utils import print_equals"
   ]
  },
  {
   "cell_type": "code",
   "execution_count": 6,
   "metadata": {},
   "outputs": [],
   "source": [
    "from pathlib import Path\n",
    "\n",
    "DATA_DIR = Path(\"data\")\n",
    "RAW_DIR = DATA_DIR / \"raw\"\n",
    "INTERIM_DIR = DATA_DIR / \"interim\"\n",
    "\n",
    "# Constants and setup\n",
    "FILE_PATH = RAW_DIR / 'Brazil-Aligned and Non-Aligned All Presidents.xlsx'\n",
    "SHEET_NAME = 'Cabinet & Bureaucracy'\n",
    "AGENCY_COLUMN = 'D'"
   ]
  },
  {
   "cell_type": "markdown",
   "metadata": {},
   "source": [
    "## Adding categories based on cell color"
   ]
  },
  {
   "cell_type": "code",
   "execution_count": 3,
   "metadata": {},
   "outputs": [],
   "source": [
    "import openpyxl\n",
    "from openpyxl import load_workbook"
   ]
  },
  {
   "cell_type": "code",
   "execution_count": 17,
   "metadata": {},
   "outputs": [],
   "source": [
    "# Loading workbook and sheet\n",
    "wb = load_workbook(FILE_PATH)\n",
    "ws = wb[SHEET_NAME]"
   ]
  },
  {
   "cell_type": "code",
   "execution_count": 4,
   "metadata": {},
   "outputs": [
    {
     "name": "stdout",
     "output_type": "stream",
     "text": [
      "get_color_index(ws[\"D1\"]): should be white/null -> (00000000)\n"
     ]
    },
    {
     "ename": "NameError",
     "evalue": "name 'ws' is not defined",
     "output_type": "error",
     "traceback": [
      "\u001b[1;31m---------------------------------------------------------------------------\u001b[0m",
      "\u001b[1;31mNameError\u001b[0m                                 Traceback (most recent call last)",
      "Cell \u001b[1;32mIn[4], line 8\u001b[0m\n\u001b[0;32m      6\u001b[0m \u001b[38;5;66;03m# Testing\u001b[39;00m\n\u001b[0;32m      7\u001b[0m \u001b[38;5;28mprint\u001b[39m(\u001b[38;5;124m'\u001b[39m\u001b[38;5;124mget_color_index(ws[\u001b[39m\u001b[38;5;124m\"\u001b[39m\u001b[38;5;124mD1\u001b[39m\u001b[38;5;124m\"\u001b[39m\u001b[38;5;124m]): should be white/null -> (00000000)\u001b[39m\u001b[38;5;124m'\u001b[39m)\n\u001b[1;32m----> 8\u001b[0m \u001b[38;5;28mprint\u001b[39m(get_color_index(\u001b[43mws\u001b[49m[\u001b[38;5;124m\"\u001b[39m\u001b[38;5;124mD1\u001b[39m\u001b[38;5;124m\"\u001b[39m]),) \u001b[38;5;66;03m# deve ser nulo\u001b[39;00m\n\u001b[0;32m      9\u001b[0m \u001b[38;5;28mprint\u001b[39m(\u001b[38;5;124m'\u001b[39m\u001b[38;5;124mget_color_index(ws[\u001b[39m\u001b[38;5;124m\"\u001b[39m\u001b[38;5;124mD16\u001b[39m\u001b[38;5;124m\"\u001b[39m\u001b[38;5;124m]): should be yellow -> (FFFFFF00)\u001b[39m\u001b[38;5;124m'\u001b[39m)\n\u001b[0;32m     10\u001b[0m \u001b[38;5;28mprint\u001b[39m(get_color_index(ws[\u001b[38;5;124m\"\u001b[39m\u001b[38;5;124mD16\u001b[39m\u001b[38;5;124m\"\u001b[39m])) \u001b[38;5;66;03m# deve ser amarelo\u001b[39;00m\n",
      "\u001b[1;31mNameError\u001b[0m: name 'ws' is not defined"
     ]
    }
   ],
   "source": [
    "def get_color_index(cell: openpyxl.cell) -> str:\n",
    "    \"\"\"\n",
    "    Returns the color index of the cell.\n",
    "    \"\"\"\n",
    "    return cell.fill.start_color.index if cell.fill.start_color else None\n",
    "# Testing\n",
    "print('get_color_index(ws[\"D1\"]): should be white/null -> (00000000)')\n",
    "print(get_color_index(ws[\"D1\"]),) # deve ser nulo\n",
    "print('get_color_index(ws[\"D16\"]): should be yellow -> (FFFFFF00)')\n",
    "print(get_color_index(ws[\"D16\"])) # deve ser amarelo\n",
    "print('get_color_index(ws[\"D257\"]): should be red -> (FFFF0000)')\n",
    "print(get_color_index(ws[\"D257\"])) # deve ser vermelho\n",
    "\n",
    "colors_dict = {\n",
    "    \"branco\": \"00000000\",\n",
    "    \"amarelo\": \"FFFFFF00\",\n",
    "    \"vermelho\": \"FFFF0000\",\n",
    "}"
   ]
  },
  {
   "cell_type": "code",
   "execution_count": 18,
   "metadata": {},
   "outputs": [
    {
     "name": "stdout",
     "output_type": "stream",
     "text": [
      "line 1: neutra\n",
      "line 16: contra\n",
      "line 257: alinhada\n"
     ]
    }
   ],
   "source": [
    "\n",
    "def categorize_rows(ws: openpyxl.worksheet, column_letter: str) -> list:\n",
    "    \"\"\"\n",
    "    Iterate through the rows in the column and add a category based\n",
    "    on the color of the cell\n",
    "    \"\"\"\n",
    "    categories = []\n",
    "    \n",
    "    for row in ws.iter_rows():\n",
    "        cell = row[ord(column_letter.upper()) - ord('A')] # Gets the column number using ord\n",
    "        color = get_color_index(cell) \n",
    "        \n",
    "        if color == colors_dict[\"amarelo\"]:\n",
    "            category = \"contra\"\n",
    "        elif color == colors_dict[\"vermelho\"]:\n",
    "            category = \"alinhada\"\n",
    "        else:\n",
    "            category = \"neutra\"\n",
    "        \n",
    "        categories.append(category)\n",
    "    \n",
    "    return categories\n",
    "\n",
    "# Testing\n",
    "categorized_rows_list = categorize_rows(ws, AGENCY_COLUMN)\n",
    "# 1: neutra\n",
    "print(f\"line 1: {categorized_rows_list[0]}\")\n",
    "# 16: contra\n",
    "print(f\"line 16: {categorized_rows_list[15]}\")\n",
    "# 257: alinhada\n",
    "print(f\"line 257: {categorized_rows_list[256]}\")"
   ]
  },
  {
   "cell_type": "markdown",
   "metadata": {},
   "source": [
    "## Loading dataset"
   ]
  },
  {
   "cell_type": "code",
   "execution_count": 19,
   "metadata": {},
   "outputs": [],
   "source": [
    "df = pd.read_excel(FILE_PATH, sheet_name=SHEET_NAME)\n",
    "df.head(5)\n",
    "df.to_parquet(\"brazil-aligned-parquet-raw.parquet\")"
   ]
  },
  {
   "cell_type": "markdown",
   "metadata": {},
   "source": [
    "## Transforming the dataset"
   ]
  },
  {
   "cell_type": "code",
   "execution_count": 20,
   "metadata": {},
   "outputs": [],
   "source": [
    "data_parquet = RAW_DIR / \"brazil-aligned-parquet-raw.parquet\"\n",
    "df = pd.read_parquet(data_parquet)"
   ]
  },
  {
   "cell_type": "code",
   "execution_count": 21,
   "metadata": {},
   "outputs": [
    {
     "name": "stdout",
     "output_type": "stream",
     "text": [
      "Testing categories\n",
      "====================\n",
      "Expected: line 0: neutra\n",
      "neutra\n",
      "==========\n",
      "Expected: line 154: contra\n",
      "contra\n",
      "==========\n",
      "Expected: line 255: alinhada\n",
      "alinhada\n",
      "==========\n"
     ]
    },
    {
     "data": {
      "text/html": [
       "<div>\n",
       "<style scoped>\n",
       "    .dataframe tbody tr th:only-of-type {\n",
       "        vertical-align: middle;\n",
       "    }\n",
       "\n",
       "    .dataframe tbody tr th {\n",
       "        vertical-align: top;\n",
       "    }\n",
       "\n",
       "    .dataframe thead th {\n",
       "        text-align: right;\n",
       "    }\n",
       "</style>\n",
       "<table border=\"1\" class=\"dataframe\">\n",
       "  <thead>\n",
       "    <tr style=\"text-align: right;\">\n",
       "      <th></th>\n",
       "      <th>president</th>\n",
       "      <th>year</th>\n",
       "      <th>agency</th>\n",
       "      <th>conc_parc</th>\n",
       "      <th>category</th>\n",
       "    </tr>\n",
       "  </thead>\n",
       "  <tbody>\n",
       "    <tr>\n",
       "      <th>0</th>\n",
       "      <td>Dilma Rousseff</td>\n",
       "      <td>2015</td>\n",
       "      <td>ABGF - Agencia Brasileira Gestora de Fundos Ga...</td>\n",
       "      <td>0.339623</td>\n",
       "      <td>neutra</td>\n",
       "    </tr>\n",
       "    <tr>\n",
       "      <th>1</th>\n",
       "      <td>Dilma Rousseff</td>\n",
       "      <td>2015</td>\n",
       "      <td>AEB – Agência Espacial Brasileira</td>\n",
       "      <td>0.962264</td>\n",
       "      <td>neutra</td>\n",
       "    </tr>\n",
       "    <tr>\n",
       "      <th>2</th>\n",
       "      <td>Dilma Rousseff</td>\n",
       "      <td>2015</td>\n",
       "      <td>AMAZUL - Amazônia Azul Tecnologias de Defesa S.A.</td>\n",
       "      <td>0.909091</td>\n",
       "      <td>neutra</td>\n",
       "    </tr>\n",
       "    <tr>\n",
       "      <th>3</th>\n",
       "      <td>Dilma Rousseff</td>\n",
       "      <td>2015</td>\n",
       "      <td>AN – Arquivo Nacional</td>\n",
       "      <td>0.955128</td>\n",
       "      <td>neutra</td>\n",
       "    </tr>\n",
       "    <tr>\n",
       "      <th>4</th>\n",
       "      <td>Dilma Rousseff</td>\n",
       "      <td>2015</td>\n",
       "      <td>ANA – Agência Nacional de Águas</td>\n",
       "      <td>0.996875</td>\n",
       "      <td>neutra</td>\n",
       "    </tr>\n",
       "  </tbody>\n",
       "</table>\n",
       "</div>"
      ],
      "text/plain": [
       "        president  year                                             agency  \\\n",
       "0  Dilma Rousseff  2015  ABGF - Agencia Brasileira Gestora de Fundos Ga...   \n",
       "1  Dilma Rousseff  2015                  AEB – Agência Espacial Brasileira   \n",
       "2  Dilma Rousseff  2015  AMAZUL - Amazônia Azul Tecnologias de Defesa S.A.   \n",
       "3  Dilma Rousseff  2015                              AN – Arquivo Nacional   \n",
       "4  Dilma Rousseff  2015                    ANA – Agência Nacional de Águas   \n",
       "\n",
       "   conc_parc category  \n",
       "0   0.339623   neutra  \n",
       "1   0.962264   neutra  \n",
       "2   0.909091   neutra  \n",
       "3   0.955128   neutra  \n",
       "4   0.996875   neutra  "
      ]
     },
     "metadata": {},
     "output_type": "display_data"
    },
    {
     "data": {
      "text/html": [
       "<div>\n",
       "<style scoped>\n",
       "    .dataframe tbody tr th:only-of-type {\n",
       "        vertical-align: middle;\n",
       "    }\n",
       "\n",
       "    .dataframe tbody tr th {\n",
       "        vertical-align: top;\n",
       "    }\n",
       "\n",
       "    .dataframe thead th {\n",
       "        text-align: right;\n",
       "    }\n",
       "</style>\n",
       "<table border=\"1\" class=\"dataframe\">\n",
       "  <thead>\n",
       "    <tr style=\"text-align: right;\">\n",
       "      <th></th>\n",
       "      <th>president</th>\n",
       "      <th>year</th>\n",
       "      <th>agency</th>\n",
       "      <th>conc_parc</th>\n",
       "      <th>category</th>\n",
       "    </tr>\n",
       "  </thead>\n",
       "  <tbody>\n",
       "    <tr>\n",
       "      <th>3204</th>\n",
       "      <td>Luiz Inácio Lula da Silva</td>\n",
       "      <td>2024</td>\n",
       "      <td>MT - Ministério dos Transportes</td>\n",
       "      <td>0.855362</td>\n",
       "      <td>neutra</td>\n",
       "    </tr>\n",
       "    <tr>\n",
       "      <th>3205</th>\n",
       "      <td>Luiz Inácio Lula da Silva</td>\n",
       "      <td>2024</td>\n",
       "      <td>MTE - Ministério do Trabalho e Emprego</td>\n",
       "      <td>0.733654</td>\n",
       "      <td>neutra</td>\n",
       "    </tr>\n",
       "    <tr>\n",
       "      <th>3206</th>\n",
       "      <td>Luiz Inácio Lula da Silva</td>\n",
       "      <td>2024</td>\n",
       "      <td>MTur - Ministério do Turismo</td>\n",
       "      <td>0.897810</td>\n",
       "      <td>neutra</td>\n",
       "    </tr>\n",
       "    <tr>\n",
       "      <th>3207</th>\n",
       "      <td>Luiz Inácio Lula da Silva</td>\n",
       "      <td>2024</td>\n",
       "      <td>SGPR – Secretaria-Geral da Presidência da Repú...</td>\n",
       "      <td>0.828947</td>\n",
       "      <td>neutra</td>\n",
       "    </tr>\n",
       "    <tr>\n",
       "      <th>3208</th>\n",
       "      <td>Luiz Inácio Lula da Silva</td>\n",
       "      <td>2024</td>\n",
       "      <td>SRI – Secretaria de Relações Institucionais da...</td>\n",
       "      <td>0.775510</td>\n",
       "      <td>neutra</td>\n",
       "    </tr>\n",
       "  </tbody>\n",
       "</table>\n",
       "</div>"
      ],
      "text/plain": [
       "                      president  year  \\\n",
       "3204  Luiz Inácio Lula da Silva  2024   \n",
       "3205  Luiz Inácio Lula da Silva  2024   \n",
       "3206  Luiz Inácio Lula da Silva  2024   \n",
       "3207  Luiz Inácio Lula da Silva  2024   \n",
       "3208  Luiz Inácio Lula da Silva  2024   \n",
       "\n",
       "                                                 agency  conc_parc category  \n",
       "3204                    MT - Ministério dos Transportes   0.855362   neutra  \n",
       "3205             MTE - Ministério do Trabalho e Emprego   0.733654   neutra  \n",
       "3206                       MTur - Ministério do Turismo   0.897810   neutra  \n",
       "3207  SGPR – Secretaria-Geral da Presidência da Repú...   0.828947   neutra  \n",
       "3208  SRI – Secretaria de Relações Institucionais da...   0.775510   neutra  "
      ]
     },
     "metadata": {},
     "output_type": "display_data"
    }
   ],
   "source": [
    "copy_df = df.copy()\n",
    "\n",
    "# Removing unnecessary columns\n",
    "columns = [\n",
    "    'President',\n",
    "    'Year',\n",
    "    'Agency',\n",
    "    '% Concedico e Parcialmente',\n",
    "]\n",
    "copy_df = copy_df[columns]\n",
    "\n",
    "# Propagating last valid observation in the columns (this will correctly\n",
    "# fill the President and Year columns)\n",
    "copy_df.ffill(inplace=True)\n",
    "\n",
    "# Adding column with category based in the color\n",
    "categorized_rows_list_copy = categorized_rows_list\n",
    "categorized_rows_list_copy = categorized_rows_list_copy[1:] # The first row is the header of the df\n",
    "copy_df[\"category\"] = pd.Series(categorized_rows_list_copy)\n",
    "\n",
    "print(\"Testing categories\")\n",
    "print_equals(20)\n",
    "\n",
    "print(f\"Expected: line 0: neutra\")\n",
    "print(copy_df[\"category\"].iloc[0])\n",
    "print_equals(10)\n",
    "\n",
    "print(f\"Expected: line 154: contra\")\n",
    "print(copy_df[\"category\"].iloc[14])\n",
    "print_equals(10)\n",
    "\n",
    "print(f\"Expected: line 255: alinhada\")\n",
    "print(copy_df[\"category\"].iloc[255])\n",
    "print_equals(10)\n",
    "\n",
    "# Setting year column to int\n",
    "copy_df[\"Year\"] = copy_df[\"Year\"].astype(int)\n",
    "\n",
    "# Renaming columns\n",
    "copy_df.rename(columns={\"% Concedico e Parcialmente\": \"conc_parc\"}, inplace=True)\n",
    "copy_df.columns = copy_df.columns.str.lower()\n",
    "\n",
    "display(copy_df.head(5))\n",
    "display(copy_df.tail(5))"
   ]
  },
  {
   "cell_type": "code",
   "execution_count": 23,
   "metadata": {},
   "outputs": [],
   "source": [
    "final_df = copy_df.copy()\n",
    "final_df.to_parquet(INTERIM_DIR / \"data_parquet_final_1.parquet\")"
   ]
  },
  {
   "cell_type": "markdown",
   "metadata": {},
   "source": [
    "### Comparando média de conformidade das agências contra governos populistas e a favor de governos populistas antes, depois e durante o governo bolsonaro"
   ]
  },
  {
   "cell_type": "code",
   "execution_count": 7,
   "metadata": {},
   "outputs": [],
   "source": [
    "final_df = pd.read_parquet(INTERIM_DIR / \"data_parquet_final_1.parquet\")"
   ]
  },
  {
   "cell_type": "code",
   "execution_count": 8,
   "metadata": {},
   "outputs": [
    {
     "data": {
      "application/vnd.plotly.v1+json": {
       "config": {
        "plotlyServerURL": "https://plot.ly"
       },
       "data": [
        {
         "customdata": [
          [
           "Dilma Rousseff"
          ],
          [
           "Dilma Rousseff"
          ],
          [
           "Michel Temer"
          ],
          [
           "Michel Temer"
          ],
          [
           "Michel Temer"
          ],
          [
           "Jair Bolsonaro"
          ],
          [
           "Jair Bolsonaro"
          ],
          [
           "Jair Bolsonaro"
          ],
          [
           "Jair Bolsonaro"
          ],
          [
           "Luiz Inácio Lula da Silva"
          ],
          [
           "Luiz Inácio Lula da Silva"
          ]
         ],
         "hovertemplate": "category=alinhada<br>Ano=%{x}<br>Média de Conformidade=%{y}<br>president=%{customdata[0]}<extra></extra>",
         "legendgroup": "alinhada",
         "line": {
          "color": "#636efa",
          "dash": "solid"
         },
         "marker": {
          "symbol": "circle"
         },
         "mode": "lines+markers",
         "name": "alinhada",
         "orientation": "v",
         "showlegend": true,
         "type": "scatter",
         "x": {
          "bdata": "3wfgB+AH4QfiB+MH5AflB+YH5wfoBw==",
          "dtype": "i2"
         },
         "xaxis": "x",
         "y": {
          "bdata": "+oXvNDAz6T8UQvWGGYboPxRC9YYZhug/mkqWCOQ85z/4lzzLuMHmP5L9K3Y62OU/2s3UQMLO5D8oswC6A3nlPyrZRKuYaOE/yfEyPznE5z8gRpuakZbnPw==",
          "dtype": "f8"
         },
         "yaxis": "y"
        },
        {
         "customdata": [
          [
           "Dilma Rousseff"
          ],
          [
           "Dilma Rousseff"
          ],
          [
           "Michel Temer"
          ],
          [
           "Michel Temer"
          ],
          [
           "Michel Temer"
          ],
          [
           "Jair Bolsonaro"
          ],
          [
           "Jair Bolsonaro"
          ],
          [
           "Jair Bolsonaro"
          ],
          [
           "Jair Bolsonaro"
          ],
          [
           "Luiz Inácio Lula da Silva"
          ],
          [
           "Luiz Inácio Lula da Silva"
          ]
         ],
         "hovertemplate": "category=contra<br>Ano=%{x}<br>Média de Conformidade=%{y}<br>president=%{customdata[0]}<extra></extra>",
         "legendgroup": "contra",
         "line": {
          "color": "#EF553B",
          "dash": "dot"
         },
         "marker": {
          "symbol": "circle"
         },
         "mode": "lines+markers",
         "name": "contra",
         "orientation": "v",
         "showlegend": true,
         "type": "scatter",
         "x": {
          "bdata": "3wfgB+AH4QfiB+MH5AflB+YH5wfoBw==",
          "dtype": "i2"
         },
         "xaxis": "x",
         "y": {
          "bdata": "ZfzDr9t56j9HlhT6xVbrP0eWFPrFVus/T2ZJAA6w6z9AKklI35PrP+/klK47aeo/9s4RDX0Q6z/NLlHKy5TqPz6L41So/+k/vs7OtBmY6T8IOOLwGZLqPw==",
          "dtype": "f8"
         },
         "yaxis": "y"
        },
        {
         "marker": {
          "size": 10,
          "symbol": "circle"
         },
         "mode": "markers",
         "name": "Dilma Rousseff",
         "type": "scatter",
         "x": {
          "bdata": "3wffB+AH4Ac=",
          "dtype": "i2"
         },
         "y": {
          "bdata": "+oXvNDAz6T9l/MOv23nqPxRC9YYZhug/R5YU+sVW6z8=",
          "dtype": "f8"
         }
        },
        {
         "marker": {
          "size": 10,
          "symbol": "circle"
         },
         "mode": "markers",
         "name": "Michel Temer",
         "type": "scatter",
         "x": {
          "bdata": "4AfgB+EH4QfiB+IH",
          "dtype": "i2"
         },
         "y": {
          "bdata": "FEL1hhmG6D9HlhT6xVbrP5pKlgjkPOc/T2ZJAA6w6z/4lzzLuMHmP0AqSUjfk+s/",
          "dtype": "f8"
         }
        },
        {
         "marker": {
          "size": 10,
          "symbol": "circle"
         },
         "mode": "markers",
         "name": "Jair Bolsonaro",
         "type": "scatter",
         "x": {
          "bdata": "4wfjB+QH5AflB+UH5gfmBw==",
          "dtype": "i2"
         },
         "y": {
          "bdata": "kv0rdjrY5T/v5JSuO2nqP9rN1EDCzuQ/9s4RDX0Q6z8oswC6A3nlP80uUcrLlOo/KtlEq5ho4T8+i+NUqP/pPw==",
          "dtype": "f8"
         }
        },
        {
         "marker": {
          "size": 10,
          "symbol": "circle"
         },
         "mode": "markers",
         "name": "Luiz Inácio Lula da Silva",
         "type": "scatter",
         "x": {
          "bdata": "5wfnB+gH6Ac=",
          "dtype": "i2"
         },
         "y": {
          "bdata": "yfEyPznE5z++zs60GZjpPyBGm5qRluc/CDji8BmS6j8=",
          "dtype": "f8"
         }
        }
       ],
       "layout": {
        "hovermode": "x unified",
        "legend": {
         "title": {
          "text": "Legenda"
         },
         "tracegroupgap": 0
        },
        "margin": {
         "t": 60
        },
        "template": {
         "data": {
          "bar": [
           {
            "error_x": {
             "color": "#2a3f5f"
            },
            "error_y": {
             "color": "#2a3f5f"
            },
            "marker": {
             "line": {
              "color": "#E5ECF6",
              "width": 0.5
             },
             "pattern": {
              "fillmode": "overlay",
              "size": 10,
              "solidity": 0.2
             }
            },
            "type": "bar"
           }
          ],
          "barpolar": [
           {
            "marker": {
             "line": {
              "color": "#E5ECF6",
              "width": 0.5
             },
             "pattern": {
              "fillmode": "overlay",
              "size": 10,
              "solidity": 0.2
             }
            },
            "type": "barpolar"
           }
          ],
          "carpet": [
           {
            "aaxis": {
             "endlinecolor": "#2a3f5f",
             "gridcolor": "white",
             "linecolor": "white",
             "minorgridcolor": "white",
             "startlinecolor": "#2a3f5f"
            },
            "baxis": {
             "endlinecolor": "#2a3f5f",
             "gridcolor": "white",
             "linecolor": "white",
             "minorgridcolor": "white",
             "startlinecolor": "#2a3f5f"
            },
            "type": "carpet"
           }
          ],
          "choropleth": [
           {
            "colorbar": {
             "outlinewidth": 0,
             "ticks": ""
            },
            "type": "choropleth"
           }
          ],
          "contour": [
           {
            "colorbar": {
             "outlinewidth": 0,
             "ticks": ""
            },
            "colorscale": [
             [
              0,
              "#0d0887"
             ],
             [
              0.1111111111111111,
              "#46039f"
             ],
             [
              0.2222222222222222,
              "#7201a8"
             ],
             [
              0.3333333333333333,
              "#9c179e"
             ],
             [
              0.4444444444444444,
              "#bd3786"
             ],
             [
              0.5555555555555556,
              "#d8576b"
             ],
             [
              0.6666666666666666,
              "#ed7953"
             ],
             [
              0.7777777777777778,
              "#fb9f3a"
             ],
             [
              0.8888888888888888,
              "#fdca26"
             ],
             [
              1,
              "#f0f921"
             ]
            ],
            "type": "contour"
           }
          ],
          "contourcarpet": [
           {
            "colorbar": {
             "outlinewidth": 0,
             "ticks": ""
            },
            "type": "contourcarpet"
           }
          ],
          "heatmap": [
           {
            "colorbar": {
             "outlinewidth": 0,
             "ticks": ""
            },
            "colorscale": [
             [
              0,
              "#0d0887"
             ],
             [
              0.1111111111111111,
              "#46039f"
             ],
             [
              0.2222222222222222,
              "#7201a8"
             ],
             [
              0.3333333333333333,
              "#9c179e"
             ],
             [
              0.4444444444444444,
              "#bd3786"
             ],
             [
              0.5555555555555556,
              "#d8576b"
             ],
             [
              0.6666666666666666,
              "#ed7953"
             ],
             [
              0.7777777777777778,
              "#fb9f3a"
             ],
             [
              0.8888888888888888,
              "#fdca26"
             ],
             [
              1,
              "#f0f921"
             ]
            ],
            "type": "heatmap"
           }
          ],
          "histogram": [
           {
            "marker": {
             "pattern": {
              "fillmode": "overlay",
              "size": 10,
              "solidity": 0.2
             }
            },
            "type": "histogram"
           }
          ],
          "histogram2d": [
           {
            "colorbar": {
             "outlinewidth": 0,
             "ticks": ""
            },
            "colorscale": [
             [
              0,
              "#0d0887"
             ],
             [
              0.1111111111111111,
              "#46039f"
             ],
             [
              0.2222222222222222,
              "#7201a8"
             ],
             [
              0.3333333333333333,
              "#9c179e"
             ],
             [
              0.4444444444444444,
              "#bd3786"
             ],
             [
              0.5555555555555556,
              "#d8576b"
             ],
             [
              0.6666666666666666,
              "#ed7953"
             ],
             [
              0.7777777777777778,
              "#fb9f3a"
             ],
             [
              0.8888888888888888,
              "#fdca26"
             ],
             [
              1,
              "#f0f921"
             ]
            ],
            "type": "histogram2d"
           }
          ],
          "histogram2dcontour": [
           {
            "colorbar": {
             "outlinewidth": 0,
             "ticks": ""
            },
            "colorscale": [
             [
              0,
              "#0d0887"
             ],
             [
              0.1111111111111111,
              "#46039f"
             ],
             [
              0.2222222222222222,
              "#7201a8"
             ],
             [
              0.3333333333333333,
              "#9c179e"
             ],
             [
              0.4444444444444444,
              "#bd3786"
             ],
             [
              0.5555555555555556,
              "#d8576b"
             ],
             [
              0.6666666666666666,
              "#ed7953"
             ],
             [
              0.7777777777777778,
              "#fb9f3a"
             ],
             [
              0.8888888888888888,
              "#fdca26"
             ],
             [
              1,
              "#f0f921"
             ]
            ],
            "type": "histogram2dcontour"
           }
          ],
          "mesh3d": [
           {
            "colorbar": {
             "outlinewidth": 0,
             "ticks": ""
            },
            "type": "mesh3d"
           }
          ],
          "parcoords": [
           {
            "line": {
             "colorbar": {
              "outlinewidth": 0,
              "ticks": ""
             }
            },
            "type": "parcoords"
           }
          ],
          "pie": [
           {
            "automargin": true,
            "type": "pie"
           }
          ],
          "scatter": [
           {
            "fillpattern": {
             "fillmode": "overlay",
             "size": 10,
             "solidity": 0.2
            },
            "type": "scatter"
           }
          ],
          "scatter3d": [
           {
            "line": {
             "colorbar": {
              "outlinewidth": 0,
              "ticks": ""
             }
            },
            "marker": {
             "colorbar": {
              "outlinewidth": 0,
              "ticks": ""
             }
            },
            "type": "scatter3d"
           }
          ],
          "scattercarpet": [
           {
            "marker": {
             "colorbar": {
              "outlinewidth": 0,
              "ticks": ""
             }
            },
            "type": "scattercarpet"
           }
          ],
          "scattergeo": [
           {
            "marker": {
             "colorbar": {
              "outlinewidth": 0,
              "ticks": ""
             }
            },
            "type": "scattergeo"
           }
          ],
          "scattergl": [
           {
            "marker": {
             "colorbar": {
              "outlinewidth": 0,
              "ticks": ""
             }
            },
            "type": "scattergl"
           }
          ],
          "scattermap": [
           {
            "marker": {
             "colorbar": {
              "outlinewidth": 0,
              "ticks": ""
             }
            },
            "type": "scattermap"
           }
          ],
          "scattermapbox": [
           {
            "marker": {
             "colorbar": {
              "outlinewidth": 0,
              "ticks": ""
             }
            },
            "type": "scattermapbox"
           }
          ],
          "scatterpolar": [
           {
            "marker": {
             "colorbar": {
              "outlinewidth": 0,
              "ticks": ""
             }
            },
            "type": "scatterpolar"
           }
          ],
          "scatterpolargl": [
           {
            "marker": {
             "colorbar": {
              "outlinewidth": 0,
              "ticks": ""
             }
            },
            "type": "scatterpolargl"
           }
          ],
          "scatterternary": [
           {
            "marker": {
             "colorbar": {
              "outlinewidth": 0,
              "ticks": ""
             }
            },
            "type": "scatterternary"
           }
          ],
          "surface": [
           {
            "colorbar": {
             "outlinewidth": 0,
             "ticks": ""
            },
            "colorscale": [
             [
              0,
              "#0d0887"
             ],
             [
              0.1111111111111111,
              "#46039f"
             ],
             [
              0.2222222222222222,
              "#7201a8"
             ],
             [
              0.3333333333333333,
              "#9c179e"
             ],
             [
              0.4444444444444444,
              "#bd3786"
             ],
             [
              0.5555555555555556,
              "#d8576b"
             ],
             [
              0.6666666666666666,
              "#ed7953"
             ],
             [
              0.7777777777777778,
              "#fb9f3a"
             ],
             [
              0.8888888888888888,
              "#fdca26"
             ],
             [
              1,
              "#f0f921"
             ]
            ],
            "type": "surface"
           }
          ],
          "table": [
           {
            "cells": {
             "fill": {
              "color": "#EBF0F8"
             },
             "line": {
              "color": "white"
             }
            },
            "header": {
             "fill": {
              "color": "#C8D4E3"
             },
             "line": {
              "color": "white"
             }
            },
            "type": "table"
           }
          ]
         },
         "layout": {
          "annotationdefaults": {
           "arrowcolor": "#2a3f5f",
           "arrowhead": 0,
           "arrowwidth": 1
          },
          "autotypenumbers": "strict",
          "coloraxis": {
           "colorbar": {
            "outlinewidth": 0,
            "ticks": ""
           }
          },
          "colorscale": {
           "diverging": [
            [
             0,
             "#8e0152"
            ],
            [
             0.1,
             "#c51b7d"
            ],
            [
             0.2,
             "#de77ae"
            ],
            [
             0.3,
             "#f1b6da"
            ],
            [
             0.4,
             "#fde0ef"
            ],
            [
             0.5,
             "#f7f7f7"
            ],
            [
             0.6,
             "#e6f5d0"
            ],
            [
             0.7,
             "#b8e186"
            ],
            [
             0.8,
             "#7fbc41"
            ],
            [
             0.9,
             "#4d9221"
            ],
            [
             1,
             "#276419"
            ]
           ],
           "sequential": [
            [
             0,
             "#0d0887"
            ],
            [
             0.1111111111111111,
             "#46039f"
            ],
            [
             0.2222222222222222,
             "#7201a8"
            ],
            [
             0.3333333333333333,
             "#9c179e"
            ],
            [
             0.4444444444444444,
             "#bd3786"
            ],
            [
             0.5555555555555556,
             "#d8576b"
            ],
            [
             0.6666666666666666,
             "#ed7953"
            ],
            [
             0.7777777777777778,
             "#fb9f3a"
            ],
            [
             0.8888888888888888,
             "#fdca26"
            ],
            [
             1,
             "#f0f921"
            ]
           ],
           "sequentialminus": [
            [
             0,
             "#0d0887"
            ],
            [
             0.1111111111111111,
             "#46039f"
            ],
            [
             0.2222222222222222,
             "#7201a8"
            ],
            [
             0.3333333333333333,
             "#9c179e"
            ],
            [
             0.4444444444444444,
             "#bd3786"
            ],
            [
             0.5555555555555556,
             "#d8576b"
            ],
            [
             0.6666666666666666,
             "#ed7953"
            ],
            [
             0.7777777777777778,
             "#fb9f3a"
            ],
            [
             0.8888888888888888,
             "#fdca26"
            ],
            [
             1,
             "#f0f921"
            ]
           ]
          },
          "colorway": [
           "#636efa",
           "#EF553B",
           "#00cc96",
           "#ab63fa",
           "#FFA15A",
           "#19d3f3",
           "#FF6692",
           "#B6E880",
           "#FF97FF",
           "#FECB52"
          ],
          "font": {
           "color": "#2a3f5f"
          },
          "geo": {
           "bgcolor": "white",
           "lakecolor": "white",
           "landcolor": "#E5ECF6",
           "showlakes": true,
           "showland": true,
           "subunitcolor": "white"
          },
          "hoverlabel": {
           "align": "left"
          },
          "hovermode": "closest",
          "mapbox": {
           "style": "light"
          },
          "paper_bgcolor": "white",
          "plot_bgcolor": "#E5ECF6",
          "polar": {
           "angularaxis": {
            "gridcolor": "white",
            "linecolor": "white",
            "ticks": ""
           },
           "bgcolor": "#E5ECF6",
           "radialaxis": {
            "gridcolor": "white",
            "linecolor": "white",
            "ticks": ""
           }
          },
          "scene": {
           "xaxis": {
            "backgroundcolor": "#E5ECF6",
            "gridcolor": "white",
            "gridwidth": 2,
            "linecolor": "white",
            "showbackground": true,
            "ticks": "",
            "zerolinecolor": "white"
           },
           "yaxis": {
            "backgroundcolor": "#E5ECF6",
            "gridcolor": "white",
            "gridwidth": 2,
            "linecolor": "white",
            "showbackground": true,
            "ticks": "",
            "zerolinecolor": "white"
           },
           "zaxis": {
            "backgroundcolor": "#E5ECF6",
            "gridcolor": "white",
            "gridwidth": 2,
            "linecolor": "white",
            "showbackground": true,
            "ticks": "",
            "zerolinecolor": "white"
           }
          },
          "shapedefaults": {
           "line": {
            "color": "#2a3f5f"
           }
          },
          "ternary": {
           "aaxis": {
            "gridcolor": "white",
            "linecolor": "white",
            "ticks": ""
           },
           "baxis": {
            "gridcolor": "white",
            "linecolor": "white",
            "ticks": ""
           },
           "bgcolor": "#E5ECF6",
           "caxis": {
            "gridcolor": "white",
            "linecolor": "white",
            "ticks": ""
           }
          },
          "title": {
           "x": 0.05
          },
          "xaxis": {
           "automargin": true,
           "gridcolor": "white",
           "linecolor": "white",
           "ticks": "",
           "title": {
            "standoff": 15
           },
           "zerolinecolor": "white",
           "zerolinewidth": 2
          },
          "yaxis": {
           "automargin": true,
           "gridcolor": "white",
           "linecolor": "white",
           "ticks": "",
           "title": {
            "standoff": 15
           },
           "zerolinecolor": "white",
           "zerolinewidth": 2
          }
         }
        },
        "title": {
         "text": "Média de Conformidade das Agências \"Contra\" e \"Alinhadas\" ao Longo dos Anos"
        },
        "xaxis": {
         "anchor": "y",
         "domain": [
          0,
          1
         ],
         "title": {
          "text": "Ano"
         }
        },
        "yaxis": {
         "anchor": "x",
         "domain": [
          0,
          1
         ],
         "title": {
          "text": "Média de Conformidade"
         }
        }
       }
      }
     },
     "metadata": {},
     "output_type": "display_data"
    }
   ],
   "source": [
    "import plotly.express as px\n",
    "import plotly.graph_objects as go\n",
    "\n",
    "# Filtering \"contra\" and \"alinhada\" agencies\n",
    "df_plot_1 = final_df.copy()\n",
    "df_plot_1 = df_plot_1[df_plot_1['category'].isin(['contra', 'alinhada'])]\n",
    "\n",
    "# Calculating mean of conformity by each year and category\n",
    "df_plot_1 = df_plot_1.groupby(['year', 'category'])['conc_parc'].mean().reset_index()\n",
    "\n",
    "# Getting the president of each year\n",
    "df_presidents = final_df[['year', 'president']].drop_duplicates()\n",
    "df_plot_1 = df_plot_1.merge(df_presidents, on='year', how='left')\n",
    "\n",
    "# Criar gráfico\n",
    "fig = px.line(\n",
    "    df_plot_1, x='year', y='conc_parc',\n",
    "    color='category',  # Apenas duas linhas para as categorys\n",
    "    line_dash='category',\n",
    "    markers=True, \n",
    "    hover_data={'year': True, 'conc_parc': True, 'president': True},\n",
    "    labels={'conc_parc': 'Média de Conformidade', 'year': 'Ano', 'category': 'category'}\n",
    ")\n",
    "\n",
    "# Adicionar pontos específicos para os presidentes\n",
    "for presidente in df_presidents['president'].unique():\n",
    "    df_pres = df_plot_1[df_plot_1['president'] == presidente]\n",
    "    fig.add_trace(go.Scatter(\n",
    "        x=df_pres['year'], y=df_pres['conc_parc'],\n",
    "        mode='markers',\n",
    "        marker=dict(size=10, symbol='circle'),\n",
    "        name=presidente\n",
    "    ))\n",
    "\n",
    "\n",
    "fig.update_layout(\n",
    "    title='Média de Conformidade das Agências \"Contra\" e \"Alinhadas\" ao Longo dos Anos',\n",
    "    xaxis_title='Ano',\n",
    "    yaxis_title='Média de Conformidade',\n",
    "    legend_title='Legenda',\n",
    "    hovermode='x unified'\n",
    ")\n",
    "\n",
    "fig.show()\n"
   ]
  },
  {
   "cell_type": "code",
   "execution_count": 10,
   "metadata": {},
   "outputs": [
    {
     "data": {
      "application/vnd.plotly.v1+json": {
       "config": {
        "plotlyServerURL": "https://plot.ly"
       },
       "data": [
        {
         "legendgroup": "contra",
         "line": {
          "color": "red",
          "dash": "dash"
         },
         "marker": {
          "color": "red"
         },
         "mode": "lines+markers",
         "name": "contra",
         "showlegend": true,
         "type": "scatter",
         "x": {
          "bdata": "3wfgB+AH4QfiB+MH5AflB+YH5wfoBw==",
          "dtype": "i2"
         },
         "xaxis": "x",
         "y": {
          "bdata": "VH1gP1KX6T/QYAgNhtDoPwGr40sZs+s/FneqdCIS7D+u2j5ga8TsP1ZAopdIw+s/bTqa+1H17T/GYA5r/RXuP95H8SSA3Ow/43Qdn8Zc6j+q2/2AUtDqPw==",
          "dtype": "f8"
         },
         "yaxis": "y"
        },
        {
         "legendgroup": "Dilma Rousseff",
         "marker": {
          "color": "black",
          "size": 10,
          "symbol": "circle"
         },
         "mode": "markers",
         "name": "Dilma Rousseff",
         "showlegend": true,
         "type": "scatter",
         "x": {
          "bdata": "3wfgBw==",
          "dtype": "i2"
         },
         "xaxis": "x",
         "y": {
          "bdata": "VH1gP1KX6T/QYAgNhtDoPw==",
          "dtype": "f8"
         },
         "yaxis": "y"
        },
        {
         "legendgroup": "Michel Temer",
         "marker": {
          "color": "black",
          "size": 10,
          "symbol": "circle"
         },
         "mode": "markers",
         "name": "Michel Temer",
         "showlegend": true,
         "type": "scatter",
         "x": {
          "bdata": "4AfhB+IH",
          "dtype": "i2"
         },
         "xaxis": "x",
         "y": {
          "bdata": "AavjSxmz6z8Wd6p0IhLsP67aPmBrxOw/",
          "dtype": "f8"
         },
         "yaxis": "y"
        },
        {
         "legendgroup": "Jair Bolsonaro",
         "marker": {
          "color": "black",
          "size": 10,
          "symbol": "circle"
         },
         "mode": "markers",
         "name": "Jair Bolsonaro",
         "showlegend": true,
         "type": "scatter",
         "x": {
          "bdata": "4wfkB+UH5gc=",
          "dtype": "i2"
         },
         "xaxis": "x",
         "y": {
          "bdata": "VkCil0jD6z9tOpr7UfXtP8ZgDmv9Fe4/3kfxJIDc7D8=",
          "dtype": "f8"
         },
         "yaxis": "y"
        },
        {
         "legendgroup": "Luiz Inácio Lula da Silva",
         "marker": {
          "color": "black",
          "size": 10,
          "symbol": "circle"
         },
         "mode": "markers",
         "name": "Luiz Inácio Lula da Silva",
         "showlegend": true,
         "type": "scatter",
         "x": {
          "bdata": "5wfoBw==",
          "dtype": "i2"
         },
         "xaxis": "x",
         "y": {
          "bdata": "43Qdn8Zc6j+q2/2AUtDqPw==",
          "dtype": "f8"
         },
         "yaxis": "y"
        },
        {
         "legendgroup": "contra",
         "line": {
          "color": "red",
          "dash": "dash"
         },
         "marker": {
          "color": "red"
         },
         "mode": "lines+markers",
         "name": "contra",
         "showlegend": false,
         "type": "scatter",
         "x": {
          "bdata": "3wfgB+AH4QfiB+MH5AflB+YH5wfoBw==",
          "dtype": "i2"
         },
         "xaxis": "x2",
         "y": {
          "bdata": "9hLaS2gv6T8AAAAAAIDoP1K4HoXrUeg/OqiDOqiD6j9AJsULZFLsP/v6+vr6+uo/TqfT6XQ67T9nZmZmZmbmP+osprOYzuI/BqLSkT0D4T+6ubm5ubnpPw==",
          "dtype": "f8"
         },
         "yaxis": "y2"
        },
        {
         "legendgroup": "Dilma Rousseff",
         "marker": {
          "color": "black",
          "size": 10,
          "symbol": "circle"
         },
         "mode": "markers",
         "name": "Dilma Rousseff",
         "showlegend": false,
         "type": "scatter",
         "x": {
          "bdata": "3wfgBw==",
          "dtype": "i2"
         },
         "xaxis": "x2",
         "y": {
          "bdata": "9hLaS2gv6T8AAAAAAIDoPw==",
          "dtype": "f8"
         },
         "yaxis": "y2"
        },
        {
         "legendgroup": "Michel Temer",
         "marker": {
          "color": "black",
          "size": 10,
          "symbol": "circle"
         },
         "mode": "markers",
         "name": "Michel Temer",
         "showlegend": false,
         "type": "scatter",
         "x": {
          "bdata": "4AfhB+IH",
          "dtype": "i2"
         },
         "xaxis": "x2",
         "y": {
          "bdata": "UrgehetR6D86qIM6qIPqP0AmxQtkUuw/",
          "dtype": "f8"
         },
         "yaxis": "y2"
        },
        {
         "legendgroup": "Jair Bolsonaro",
         "marker": {
          "color": "black",
          "size": 10,
          "symbol": "circle"
         },
         "mode": "markers",
         "name": "Jair Bolsonaro",
         "showlegend": false,
         "type": "scatter",
         "x": {
          "bdata": "4wfkB+UH5gc=",
          "dtype": "i2"
         },
         "xaxis": "x2",
         "y": {
          "bdata": "+/r6+vr66j9Op9PpdDrtP2dmZmZmZuY/6iyms5jO4j8=",
          "dtype": "f8"
         },
         "yaxis": "y2"
        },
        {
         "legendgroup": "Luiz Inácio Lula da Silva",
         "marker": {
          "color": "black",
          "size": 10,
          "symbol": "circle"
         },
         "mode": "markers",
         "name": "Luiz Inácio Lula da Silva",
         "showlegend": false,
         "type": "scatter",
         "x": {
          "bdata": "5wfoBw==",
          "dtype": "i2"
         },
         "xaxis": "x2",
         "y": {
          "bdata": "BqLSkT0D4T+6ubm5ubnpPw==",
          "dtype": "f8"
         },
         "yaxis": "y2"
        },
        {
         "legendgroup": "contra",
         "line": {
          "color": "red",
          "dash": "dash"
         },
         "marker": {
          "color": "red"
         },
         "mode": "lines+markers",
         "name": "contra",
         "showlegend": false,
         "type": "scatter",
         "x": {
          "bdata": "3wfgB+AH4QfiB+MH5AflB+YH5wfoBw==",
          "dtype": "i2"
         },
         "xaxis": "x3",
         "y": {
          "bdata": "O1lsOlls6j/kVu3fgPXtP/3VX/3VX+0/0k2VaAFk7D+UyDRsN8vrPxdBICFuVeo/n00oRi4O6z/BIkrAIkrsPzG7XYYQs+s/9cw/sGPD6z/oeZ7neZ7qPw==",
          "dtype": "f8"
         },
         "yaxis": "y3"
        },
        {
         "legendgroup": "Dilma Rousseff",
         "marker": {
          "color": "black",
          "size": 10,
          "symbol": "circle"
         },
         "mode": "markers",
         "name": "Dilma Rousseff",
         "showlegend": false,
         "type": "scatter",
         "x": {
          "bdata": "3wfgBw==",
          "dtype": "i2"
         },
         "xaxis": "x3",
         "y": {
          "bdata": "O1lsOlls6j/kVu3fgPXtPw==",
          "dtype": "f8"
         },
         "yaxis": "y3"
        },
        {
         "legendgroup": "Michel Temer",
         "marker": {
          "color": "black",
          "size": 10,
          "symbol": "circle"
         },
         "mode": "markers",
         "name": "Michel Temer",
         "showlegend": false,
         "type": "scatter",
         "x": {
          "bdata": "4AfhB+IH",
          "dtype": "i2"
         },
         "xaxis": "x3",
         "y": {
          "bdata": "/dVf/dVf7T/STZVoAWTsP5TINGw3y+s/",
          "dtype": "f8"
         },
         "yaxis": "y3"
        },
        {
         "legendgroup": "Jair Bolsonaro",
         "marker": {
          "color": "black",
          "size": 10,
          "symbol": "circle"
         },
         "mode": "markers",
         "name": "Jair Bolsonaro",
         "showlegend": false,
         "type": "scatter",
         "x": {
          "bdata": "4wfkB+UH5gc=",
          "dtype": "i2"
         },
         "xaxis": "x3",
         "y": {
          "bdata": "F0EgIW5V6j+fTShGLg7rP8EiSsAiSuw/MbtdhhCz6z8=",
          "dtype": "f8"
         },
         "yaxis": "y3"
        },
        {
         "legendgroup": "Luiz Inácio Lula da Silva",
         "marker": {
          "color": "black",
          "size": 10,
          "symbol": "circle"
         },
         "mode": "markers",
         "name": "Luiz Inácio Lula da Silva",
         "showlegend": false,
         "type": "scatter",
         "x": {
          "bdata": "5wfoBw==",
          "dtype": "i2"
         },
         "xaxis": "x3",
         "y": {
          "bdata": "9cw/sGPD6z/oeZ7neZ7qPw==",
          "dtype": "f8"
         },
         "yaxis": "y3"
        },
        {
         "legendgroup": "contra",
         "line": {
          "color": "red",
          "dash": "dash"
         },
         "marker": {
          "color": "red"
         },
         "mode": "lines+markers",
         "name": "contra",
         "showlegend": false,
         "type": "scatter",
         "x": {
          "bdata": "3wfgB+AH4QfiB+MH5AflB+YH5wfoBw==",
          "dtype": "i2"
         },
         "xaxis": "x4",
         "y": {
          "bdata": "PkS95gTV7T+gn5+fn5/vPzQzMzMzs+8/ixxCM7AN7z82/4xpMsDsP9UwOziCSOs/mwjkmgjk6j+u8sXwT1zrP15dXV1dXe0/BKw7kiU26z8lT/b7aFbpPw==",
          "dtype": "f8"
         },
         "yaxis": "y4"
        },
        {
         "legendgroup": "Dilma Rousseff",
         "marker": {
          "color": "black",
          "size": 10,
          "symbol": "circle"
         },
         "mode": "markers",
         "name": "Dilma Rousseff",
         "showlegend": false,
         "type": "scatter",
         "x": {
          "bdata": "3wfgBw==",
          "dtype": "i2"
         },
         "xaxis": "x4",
         "y": {
          "bdata": "PkS95gTV7T+gn5+fn5/vPw==",
          "dtype": "f8"
         },
         "yaxis": "y4"
        },
        {
         "legendgroup": "Michel Temer",
         "marker": {
          "color": "black",
          "size": 10,
          "symbol": "circle"
         },
         "mode": "markers",
         "name": "Michel Temer",
         "showlegend": false,
         "type": "scatter",
         "x": {
          "bdata": "4AfhB+IH",
          "dtype": "i2"
         },
         "xaxis": "x4",
         "y": {
          "bdata": "NDMzMzOz7z+LHEIzsA3vPzb/jGkywOw/",
          "dtype": "f8"
         },
         "yaxis": "y4"
        },
        {
         "legendgroup": "Jair Bolsonaro",
         "marker": {
          "color": "black",
          "size": 10,
          "symbol": "circle"
         },
         "mode": "markers",
         "name": "Jair Bolsonaro",
         "showlegend": false,
         "type": "scatter",
         "x": {
          "bdata": "4wfkB+UH5gc=",
          "dtype": "i2"
         },
         "xaxis": "x4",
         "y": {
          "bdata": "1TA7OIJI6z+bCOSaCOTqP67yxfBPXOs/Xl1dXV1d7T8=",
          "dtype": "f8"
         },
         "yaxis": "y4"
        },
        {
         "legendgroup": "Luiz Inácio Lula da Silva",
         "marker": {
          "color": "black",
          "size": 10,
          "symbol": "circle"
         },
         "mode": "markers",
         "name": "Luiz Inácio Lula da Silva",
         "showlegend": false,
         "type": "scatter",
         "x": {
          "bdata": "5wfoBw==",
          "dtype": "i2"
         },
         "xaxis": "x4",
         "y": {
          "bdata": "BKw7kiU26z8lT/b7aFbpPw==",
          "dtype": "f8"
         },
         "yaxis": "y4"
        },
        {
         "legendgroup": "alinhada",
         "line": {
          "color": "blue",
          "dash": "solid"
         },
         "marker": {
          "color": "blue"
         },
         "mode": "lines+markers",
         "name": "alinhada",
         "showlegend": false,
         "type": "scatter",
         "x": {
          "bdata": "3wfgB+AH4QfiB+MH5AflB+YH5wfoBw==",
          "dtype": "i2"
         },
         "xaxis": "x5",
         "y": {
          "bdata": "dqHodaHo5T/N2xkS83bmP7kmArkmAuk/AqVqljW+5z+Xb/mWb/nmPy8UaZ//Cec/HlMDe8fU5j9rMwkHq2TmP8B9s9aDguU/wM4fti+R5z87nQ1z70HnPw==",
          "dtype": "f8"
         },
         "yaxis": "y5"
        },
        {
         "legendgroup": "Dilma Rousseff",
         "marker": {
          "color": "black",
          "size": 10,
          "symbol": "circle"
         },
         "mode": "markers",
         "name": "Dilma Rousseff",
         "showlegend": false,
         "type": "scatter",
         "x": {
          "bdata": "3wfgBw==",
          "dtype": "i2"
         },
         "xaxis": "x5",
         "y": {
          "bdata": "dqHodaHo5T/N2xkS83bmPw==",
          "dtype": "f8"
         },
         "yaxis": "y5"
        },
        {
         "legendgroup": "Michel Temer",
         "marker": {
          "color": "black",
          "size": 10,
          "symbol": "circle"
         },
         "mode": "markers",
         "name": "Michel Temer",
         "showlegend": false,
         "type": "scatter",
         "x": {
          "bdata": "4AfhB+IH",
          "dtype": "i2"
         },
         "xaxis": "x5",
         "y": {
          "bdata": "uSYCuSYC6T8CpWqWNb7nP5dv+ZZv+eY/",
          "dtype": "f8"
         },
         "yaxis": "y5"
        },
        {
         "legendgroup": "Jair Bolsonaro",
         "marker": {
          "color": "black",
          "size": 10,
          "symbol": "circle"
         },
         "mode": "markers",
         "name": "Jair Bolsonaro",
         "showlegend": false,
         "type": "scatter",
         "x": {
          "bdata": "4wfkB+UH5gc=",
          "dtype": "i2"
         },
         "xaxis": "x5",
         "y": {
          "bdata": "LxRpn/8J5z8eUwN7x9TmP2szCQerZOY/wH2z1oOC5T8=",
          "dtype": "f8"
         },
         "yaxis": "y5"
        },
        {
         "legendgroup": "Luiz Inácio Lula da Silva",
         "marker": {
          "color": "black",
          "size": 10,
          "symbol": "circle"
         },
         "mode": "markers",
         "name": "Luiz Inácio Lula da Silva",
         "showlegend": false,
         "type": "scatter",
         "x": {
          "bdata": "5wfoBw==",
          "dtype": "i2"
         },
         "xaxis": "x5",
         "y": {
          "bdata": "wM4fti+R5z87nQ1z70HnPw==",
          "dtype": "f8"
         },
         "yaxis": "y5"
        },
        {
         "legendgroup": "alinhada",
         "line": {
          "color": "blue",
          "dash": "solid"
         },
         "marker": {
          "color": "blue"
         },
         "mode": "lines+markers",
         "name": "alinhada",
         "showlegend": false,
         "type": "scatter",
         "x": {
          "bdata": "3wfgB+AH4QfiB+MH5AflB+YH5wfoBw==",
          "dtype": "i2"
         },
         "xaxis": "x6",
         "y": {
          "bdata": "hxtuuOGG6z9JsRbgJOzrPzKdxXQW0+k/KR5IJ6VC7D+yVC3iDOrrP+QLlFIHces//RITOMcQ5j9nNQ4uND/mP57H6sMk4uU/S4IAOfAY6T9z89wzTYroPw==",
          "dtype": "f8"
         },
         "yaxis": "y6"
        },
        {
         "legendgroup": "Dilma Rousseff",
         "marker": {
          "color": "black",
          "size": 10,
          "symbol": "circle"
         },
         "mode": "markers",
         "name": "Dilma Rousseff",
         "showlegend": false,
         "type": "scatter",
         "x": {
          "bdata": "3wfgBw==",
          "dtype": "i2"
         },
         "xaxis": "x6",
         "y": {
          "bdata": "hxtuuOGG6z9JsRbgJOzrPw==",
          "dtype": "f8"
         },
         "yaxis": "y6"
        },
        {
         "legendgroup": "Michel Temer",
         "marker": {
          "color": "black",
          "size": 10,
          "symbol": "circle"
         },
         "mode": "markers",
         "name": "Michel Temer",
         "showlegend": false,
         "type": "scatter",
         "x": {
          "bdata": "4AfhB+IH",
          "dtype": "i2"
         },
         "xaxis": "x6",
         "y": {
          "bdata": "Mp3FdBbT6T8pHkgnpULsP7JULeIM6us/",
          "dtype": "f8"
         },
         "yaxis": "y6"
        },
        {
         "legendgroup": "Jair Bolsonaro",
         "marker": {
          "color": "black",
          "size": 10,
          "symbol": "circle"
         },
         "mode": "markers",
         "name": "Jair Bolsonaro",
         "showlegend": false,
         "type": "scatter",
         "x": {
          "bdata": "4wfkB+UH5gc=",
          "dtype": "i2"
         },
         "xaxis": "x6",
         "y": {
          "bdata": "5AuUUgdx6z/9EhM4xxDmP2c1Di40P+Y/nsfqwyTi5T8=",
          "dtype": "f8"
         },
         "yaxis": "y6"
        },
        {
         "legendgroup": "Luiz Inácio Lula da Silva",
         "marker": {
          "color": "black",
          "size": 10,
          "symbol": "circle"
         },
         "mode": "markers",
         "name": "Luiz Inácio Lula da Silva",
         "showlegend": false,
         "type": "scatter",
         "x": {
          "bdata": "5wfoBw==",
          "dtype": "i2"
         },
         "xaxis": "x6",
         "y": {
          "bdata": "S4IAOfAY6T9z89wzTYroPw==",
          "dtype": "f8"
         },
         "yaxis": "y6"
        },
        {
         "legendgroup": "alinhada",
         "line": {
          "color": "blue",
          "dash": "solid"
         },
         "marker": {
          "color": "blue"
         },
         "mode": "lines+markers",
         "name": "alinhada",
         "showlegend": false,
         "type": "scatter",
         "x": {
          "bdata": "3wfgB+AH4QfiB+MH5AflB+YH5gfnB+cH6AfoBw==",
          "dtype": "i2"
         },
         "xaxis": "x7",
         "y": {
          "bdata": "VzurndXO6j8RuLEMSoXpPy666KKLLuo/G0yRz7rB5D+yKIuyKIviPz6tceK6B+U/uJm8EYJk5j/uZMCeXtTkPwAAAAAAAAAAz3zxYKE64z/39vb29vbmP7SX0F5Ce+k/kCplJBus5z+73yi73yjrPw==",
          "dtype": "f8"
         },
         "yaxis": "y7"
        },
        {
         "legendgroup": "neutra",
         "line": {
          "color": "black",
          "dash": "dash"
         },
         "marker": {
          "color": "black"
         },
         "mode": "lines+markers",
         "name": "neutra",
         "showlegend": false,
         "type": "scatter",
         "x": {
          "bdata": "3wffB+AH4AfgB+AH4QfhB+IH4gfjB+MH4wfkB+QH5AflB+UH5QfmB+YH5gfnB+cH5wfoB+gH6Ac=",
          "dtype": "i2"
         },
         "xaxis": "x7",
         "y": {
          "bdata": "o4suuuii6T8atQZykrnqPxM7sRM7ses/j+A+gvsI6j+rqqqqqqrqP2mR7Xw/NeY/nDC/q8VN6D9aD6PfHfjqPzN+u9ST8es/h+p2qG6H6j98IgPp/bnmP9J5iyGdt+Q/jmkTUIp66T+jzjRuYNTpPxx0ikVFTLY/Nh7NH2w86j+0tLS0tLToP5goHMVjusg/dFhhEP8V6z9IUFMh2vDpPz6SV6ThB+k/P94kfWvV6T+VjUz12rrrPxWQ8JMLUec/vw7GrDR67D8MdhmhBAbrPy1PItOw3eQ/vNKEFZvH6z8=",
          "dtype": "f8"
         },
         "yaxis": "y7"
        },
        {
         "legendgroup": "Dilma Rousseff",
         "marker": {
          "color": "black",
          "size": 10,
          "symbol": "circle"
         },
         "mode": "markers",
         "name": "Dilma Rousseff",
         "showlegend": false,
         "type": "scatter",
         "x": {
          "bdata": "3wffB98H4AfgB+AH",
          "dtype": "i2"
         },
         "xaxis": "x7",
         "y": {
          "bdata": "VzurndXO6j+jiy666KLpPxq1BnKSueo/EbixDEqF6T8TO7ETO7HrP4/gPoL7COo/",
          "dtype": "f8"
         },
         "yaxis": "y7"
        },
        {
         "legendgroup": "Michel Temer",
         "marker": {
          "color": "black",
          "size": 10,
          "symbol": "circle"
         },
         "mode": "markers",
         "name": "Michel Temer",
         "showlegend": false,
         "type": "scatter",
         "x": {
          "bdata": "4AfgB+AH4QfhB+EH4gfiB+IH",
          "dtype": "i2"
         },
         "xaxis": "x7",
         "y": {
          "bdata": "q6qqqqqq6j9pke18PzXmPy666KKLLuo/nDC/q8VN6D9aD6PfHfjqPxtMkc+6weQ/M3671JPx6z+H6naobofqP7Ioi7Ioi+I/",
          "dtype": "f8"
         },
         "yaxis": "y7"
        },
        {
         "legendgroup": "Jair Bolsonaro",
         "marker": {
          "color": "black",
          "size": 10,
          "symbol": "circle"
         },
         "mode": "markers",
         "name": "Jair Bolsonaro",
         "showlegend": false,
         "type": "scatter",
         "x": {
          "bdata": "4wfjB+MH4wfkB+QH5AfkB+UH5QflB+UH5gfmB+YH5gfmBw==",
          "dtype": "i2"
         },
         "xaxis": "x7",
         "y": {
          "bdata": "fCID6f255j/SeYshnbfkPz6tceK6B+U/jmkTUIp66T+jzjRuYNTpPxx0ikVFTLY/uJm8EYJk5j82Hs0fbDzqP7S0tLS0tOg/mCgcxWO6yD/uZMCeXtTkP3RYYRD/Fes/AAAAAAAAAABIUFMh2vDpPz6SV6ThB+k/z3zxYKE64z8/3iR9a9XpPw==",
          "dtype": "f8"
         },
         "yaxis": "y7"
        },
        {
         "legendgroup": "Luiz Inácio Lula da Silva",
         "marker": {
          "color": "black",
          "size": 10,
          "symbol": "circle"
         },
         "mode": "markers",
         "name": "Luiz Inácio Lula da Silva",
         "showlegend": false,
         "type": "scatter",
         "x": {
          "bdata": "5wfnB+cH5wfnB+gH6AfoB+gH6Ac=",
          "dtype": "i2"
         },
         "xaxis": "x7",
         "y": {
          "bdata": "9/b29vb25j+0l9BeQnvpP5WNTPXauus/FZDwkwtR5z+/DsasNHrsP5AqZSQbrOc/u98ou98o6z8MdhmhBAbrPy1PItOw3eQ/vNKEFZvH6z8=",
          "dtype": "f8"
         },
         "yaxis": "y7"
        },
        {
         "legendgroup": "contra",
         "line": {
          "color": "red",
          "dash": "dash"
         },
         "marker": {
          "color": "red"
         },
         "mode": "lines+markers",
         "name": "contra",
         "showlegend": false,
         "type": "scatter",
         "x": {
          "bdata": "3wfgB+AH4QfiB+MH5AflB+YH5wfoBw==",
          "dtype": "i2"
         },
         "xaxis": "x8",
         "y": {
          "bdata": "bLmx5caW6z8ubhVskDzkPyIZUM9Urus/7JVjiKRQ6z8AAAAAAKTpP93pNQ1HHeY/F9bXjhNo5j8sYn0PmuDpP6FCJ8xYZ+k/hmAdbd6n6j+W1KCnG3XqPw==",
          "dtype": "f8"
         },
         "yaxis": "y8"
        },
        {
         "legendgroup": "Dilma Rousseff",
         "marker": {
          "color": "black",
          "size": 10,
          "symbol": "circle"
         },
         "mode": "markers",
         "name": "Dilma Rousseff",
         "showlegend": false,
         "type": "scatter",
         "x": {
          "bdata": "3wfgBw==",
          "dtype": "i2"
         },
         "xaxis": "x8",
         "y": {
          "bdata": "bLmx5caW6z8ubhVskDzkPw==",
          "dtype": "f8"
         },
         "yaxis": "y8"
        },
        {
         "legendgroup": "Michel Temer",
         "marker": {
          "color": "black",
          "size": 10,
          "symbol": "circle"
         },
         "mode": "markers",
         "name": "Michel Temer",
         "showlegend": false,
         "type": "scatter",
         "x": {
          "bdata": "4AfhB+IH",
          "dtype": "i2"
         },
         "xaxis": "x8",
         "y": {
          "bdata": "IhlQz1Su6z/slWOIpFDrPwAAAAAApOk/",
          "dtype": "f8"
         },
         "yaxis": "y8"
        },
        {
         "legendgroup": "Jair Bolsonaro",
         "marker": {
          "color": "black",
          "size": 10,
          "symbol": "circle"
         },
         "mode": "markers",
         "name": "Jair Bolsonaro",
         "showlegend": false,
         "type": "scatter",
         "x": {
          "bdata": "4wfkB+UH5gc=",
          "dtype": "i2"
         },
         "xaxis": "x8",
         "y": {
          "bdata": "3ek1DUcd5j8X1teOE2jmPyxifQ+a4Ok/oUInzFhn6T8=",
          "dtype": "f8"
         },
         "yaxis": "y8"
        },
        {
         "legendgroup": "Luiz Inácio Lula da Silva",
         "marker": {
          "color": "black",
          "size": 10,
          "symbol": "circle"
         },
         "mode": "markers",
         "name": "Luiz Inácio Lula da Silva",
         "showlegend": false,
         "type": "scatter",
         "x": {
          "bdata": "5wfoBw==",
          "dtype": "i2"
         },
         "xaxis": "x8",
         "y": {
          "bdata": "hmAdbd6n6j+W1KCnG3XqPw==",
          "dtype": "f8"
         },
         "yaxis": "y8"
        },
        {
         "legendgroup": "alinhada",
         "line": {
          "color": "blue",
          "dash": "solid"
         },
         "marker": {
          "color": "blue"
         },
         "mode": "lines+markers",
         "name": "alinhada",
         "showlegend": false,
         "type": "scatter",
         "x": {
          "bdata": "3wfgB+AH4QfiB+MH5AflB+YH5wfoBw==",
          "dtype": "i2"
         },
         "xaxis": "x9",
         "y": {
          "bdata": "SZgYd0vx5j8doR+gyhHmP5YYfNE38OI/PlcClBgS4j+dNd2kXQHlP7H1bcBQTd8/wK6djHtq2T+HD/iGCV7hP9S4TQ6uFOA/shIrsRIr5T9qxrELTbDmPw==",
          "dtype": "f8"
         },
         "yaxis": "y9"
        },
        {
         "legendgroup": "Dilma Rousseff",
         "marker": {
          "color": "black",
          "size": 10,
          "symbol": "circle"
         },
         "mode": "markers",
         "name": "Dilma Rousseff",
         "showlegend": false,
         "type": "scatter",
         "x": {
          "bdata": "3wfgBw==",
          "dtype": "i2"
         },
         "xaxis": "x9",
         "y": {
          "bdata": "SZgYd0vx5j8doR+gyhHmPw==",
          "dtype": "f8"
         },
         "yaxis": "y9"
        },
        {
         "legendgroup": "Michel Temer",
         "marker": {
          "color": "black",
          "size": 10,
          "symbol": "circle"
         },
         "mode": "markers",
         "name": "Michel Temer",
         "showlegend": false,
         "type": "scatter",
         "x": {
          "bdata": "4AfhB+IH",
          "dtype": "i2"
         },
         "xaxis": "x9",
         "y": {
          "bdata": "lhh80Tfw4j8+VwKUGBLiP5013aRdAeU/",
          "dtype": "f8"
         },
         "yaxis": "y9"
        },
        {
         "legendgroup": "Jair Bolsonaro",
         "marker": {
          "color": "black",
          "size": 10,
          "symbol": "circle"
         },
         "mode": "markers",
         "name": "Jair Bolsonaro",
         "showlegend": false,
         "type": "scatter",
         "x": {
          "bdata": "4wfkB+UH5gc=",
          "dtype": "i2"
         },
         "xaxis": "x9",
         "y": {
          "bdata": "sfVtwFBN3z/Arp2Me2rZP4cP+IYJXuE/1LhNDq4U4D8=",
          "dtype": "f8"
         },
         "yaxis": "y9"
        },
        {
         "legendgroup": "Luiz Inácio Lula da Silva",
         "marker": {
          "color": "black",
          "size": 10,
          "symbol": "circle"
         },
         "mode": "markers",
         "name": "Luiz Inácio Lula da Silva",
         "showlegend": false,
         "type": "scatter",
         "x": {
          "bdata": "5wfoBw==",
          "dtype": "i2"
         },
         "xaxis": "x9",
         "y": {
          "bdata": "shIrsRIr5T9qxrELTbDmPw==",
          "dtype": "f8"
         },
         "yaxis": "y9"
        },
        {
         "legendgroup": "alinhada",
         "line": {
          "color": "blue",
          "dash": "solid"
         },
         "marker": {
          "color": "blue"
         },
         "mode": "lines+markers",
         "name": "alinhada",
         "showlegend": false,
         "type": "scatter",
         "x": {
          "bdata": "3wfgB+AH4QfiB+MH5AflB+YH5wfoBw==",
          "dtype": "i2"
         },
         "xaxis": "x10",
         "y": {
          "bdata": "RA2TxUzQ6j9HbuRGbuTqP4+pgb1jaug/fQ6pCcZb6T9C1Z8nmVjnP68rNhq6D+Y/Ei4GuXwK6D+DojNHy4boP/qbv/mbv+k/UrgehetR6D9eQ3kN5TXkPw==",
          "dtype": "f8"
         },
         "yaxis": "y10"
        },
        {
         "legendgroup": "Dilma Rousseff",
         "marker": {
          "color": "black",
          "size": 10,
          "symbol": "circle"
         },
         "mode": "markers",
         "name": "Dilma Rousseff",
         "showlegend": false,
         "type": "scatter",
         "x": {
          "bdata": "3wfgBw==",
          "dtype": "i2"
         },
         "xaxis": "x10",
         "y": {
          "bdata": "RA2TxUzQ6j9HbuRGbuTqPw==",
          "dtype": "f8"
         },
         "yaxis": "y10"
        },
        {
         "legendgroup": "Michel Temer",
         "marker": {
          "color": "black",
          "size": 10,
          "symbol": "circle"
         },
         "mode": "markers",
         "name": "Michel Temer",
         "showlegend": false,
         "type": "scatter",
         "x": {
          "bdata": "4AfhB+IH",
          "dtype": "i2"
         },
         "xaxis": "x10",
         "y": {
          "bdata": "j6mBvWNq6D99DqkJxlvpP0LVnyeZWOc/",
          "dtype": "f8"
         },
         "yaxis": "y10"
        },
        {
         "legendgroup": "Jair Bolsonaro",
         "marker": {
          "color": "black",
          "size": 10,
          "symbol": "circle"
         },
         "mode": "markers",
         "name": "Jair Bolsonaro",
         "showlegend": false,
         "type": "scatter",
         "x": {
          "bdata": "4wfkB+UH5gc=",
          "dtype": "i2"
         },
         "xaxis": "x10",
         "y": {
          "bdata": "rys2GroP5j8SLga5fAroP4OiM0fLhug/+pu/+Zu/6T8=",
          "dtype": "f8"
         },
         "yaxis": "y10"
        },
        {
         "legendgroup": "Luiz Inácio Lula da Silva",
         "marker": {
          "color": "black",
          "size": 10,
          "symbol": "circle"
         },
         "mode": "markers",
         "name": "Luiz Inácio Lula da Silva",
         "showlegend": false,
         "type": "scatter",
         "x": {
          "bdata": "5wfoBw==",
          "dtype": "i2"
         },
         "xaxis": "x10",
         "y": {
          "bdata": "UrgehetR6D9eQ3kN5TXkPw==",
          "dtype": "f8"
         },
         "yaxis": "y10"
        },
        {
         "legendgroup": "contra",
         "line": {
          "color": "red",
          "dash": "dash"
         },
         "marker": {
          "color": "red"
         },
         "mode": "lines+markers",
         "name": "contra",
         "showlegend": false,
         "type": "scatter",
         "x": {
          "bdata": "3wfgB+AH4QfiB+MH5AflB+YH5wfoBw==",
          "dtype": "i2"
         },
         "xaxis": "x11",
         "y": {
          "bdata": "f2Wi0E1J5T8oGYtqmB3sP/2uFjdhfuc/xZnWnvw75z/yLCP6gOroPyupraS2kuo/4JrGFv8o6z982aDJlw3qP5qZmZmZmek/elrojl0N6z8bJ9/8kbjqPw==",
          "dtype": "f8"
         },
         "yaxis": "y11"
        },
        {
         "legendgroup": "Dilma Rousseff",
         "marker": {
          "color": "black",
          "size": 10,
          "symbol": "circle"
         },
         "mode": "markers",
         "name": "Dilma Rousseff",
         "showlegend": false,
         "type": "scatter",
         "x": {
          "bdata": "3wfgBw==",
          "dtype": "i2"
         },
         "xaxis": "x11",
         "y": {
          "bdata": "f2Wi0E1J5T8oGYtqmB3sPw==",
          "dtype": "f8"
         },
         "yaxis": "y11"
        },
        {
         "legendgroup": "Michel Temer",
         "marker": {
          "color": "black",
          "size": 10,
          "symbol": "circle"
         },
         "mode": "markers",
         "name": "Michel Temer",
         "showlegend": false,
         "type": "scatter",
         "x": {
          "bdata": "4AfhB+IH",
          "dtype": "i2"
         },
         "xaxis": "x11",
         "y": {
          "bdata": "/a4WN2F+5z/Fmdae/DvnP/IsI/qA6ug/",
          "dtype": "f8"
         },
         "yaxis": "y11"
        },
        {
         "legendgroup": "Jair Bolsonaro",
         "marker": {
          "color": "black",
          "size": 10,
          "symbol": "circle"
         },
         "mode": "markers",
         "name": "Jair Bolsonaro",
         "showlegend": false,
         "type": "scatter",
         "x": {
          "bdata": "4wfkB+UH5gc=",
          "dtype": "i2"
         },
         "xaxis": "x11",
         "y": {
          "bdata": "K6mtpLaS6j/gmsYW/yjrP3zZoMmXDeo/mpmZmZmZ6T8=",
          "dtype": "f8"
         },
         "yaxis": "y11"
        },
        {
         "legendgroup": "Luiz Inácio Lula da Silva",
         "marker": {
          "color": "black",
          "size": 10,
          "symbol": "circle"
         },
         "mode": "markers",
         "name": "Luiz Inácio Lula da Silva",
         "showlegend": false,
         "type": "scatter",
         "x": {
          "bdata": "5wfoBw==",
          "dtype": "i2"
         },
         "xaxis": "x11",
         "y": {
          "bdata": "elrojl0N6z8bJ9/8kbjqPw==",
          "dtype": "f8"
         },
         "yaxis": "y11"
        },
        {
         "legendgroup": "contra",
         "line": {
          "color": "red",
          "dash": "dash"
         },
         "marker": {
          "color": "red"
         },
         "mode": "lines+markers",
         "name": "contra",
         "showlegend": false,
         "type": "scatter",
         "x": {
          "bdata": "3wfgB+AH4QfiB+MH5AflB+YH5wfoBw==",
          "dtype": "i2"
         },
         "xaxis": "x12",
         "y": {
          "bdata": "FJqja9Rs7T+Ay1ws56jtPxZZkRVZke0/zBLCj0Q87T8SMhe+YNrsP0UCNihw1Os/zv9j71rA6j9WL5UsigDqPyBlJTAhQeo/Slw2guoZ6z8WLmPTGFLsPw==",
          "dtype": "f8"
         },
         "yaxis": "y12"
        },
        {
         "legendgroup": "Dilma Rousseff",
         "marker": {
          "color": "black",
          "size": 10,
          "symbol": "circle"
         },
         "mode": "markers",
         "name": "Dilma Rousseff",
         "showlegend": false,
         "type": "scatter",
         "x": {
          "bdata": "3wfgBw==",
          "dtype": "i2"
         },
         "xaxis": "x12",
         "y": {
          "bdata": "FJqja9Rs7T+Ay1ws56jtPw==",
          "dtype": "f8"
         },
         "yaxis": "y12"
        },
        {
         "legendgroup": "Michel Temer",
         "marker": {
          "color": "black",
          "size": 10,
          "symbol": "circle"
         },
         "mode": "markers",
         "name": "Michel Temer",
         "showlegend": false,
         "type": "scatter",
         "x": {
          "bdata": "4AfhB+IH",
          "dtype": "i2"
         },
         "xaxis": "x12",
         "y": {
          "bdata": "FlmRFVmR7T/MEsKPRDztPxIyF75g2uw/",
          "dtype": "f8"
         },
         "yaxis": "y12"
        },
        {
         "legendgroup": "Jair Bolsonaro",
         "marker": {
          "color": "black",
          "size": 10,
          "symbol": "circle"
         },
         "mode": "markers",
         "name": "Jair Bolsonaro",
         "showlegend": false,
         "type": "scatter",
         "x": {
          "bdata": "4wfkB+UH5gc=",
          "dtype": "i2"
         },
         "xaxis": "x12",
         "y": {
          "bdata": "RQI2KHDU6z/O/2PvWsDqP1YvlSyKAOo/IGUlMCFB6j8=",
          "dtype": "f8"
         },
         "yaxis": "y12"
        },
        {
         "legendgroup": "Luiz Inácio Lula da Silva",
         "marker": {
          "color": "black",
          "size": 10,
          "symbol": "circle"
         },
         "mode": "markers",
         "name": "Luiz Inácio Lula da Silva",
         "showlegend": false,
         "type": "scatter",
         "x": {
          "bdata": "5wfoBw==",
          "dtype": "i2"
         },
         "xaxis": "x12",
         "y": {
          "bdata": "Slw2guoZ6z8WLmPTGFLsPw==",
          "dtype": "f8"
         },
         "yaxis": "y12"
        },
        {
         "legendgroup": "alinhada",
         "line": {
          "color": "blue",
          "dash": "solid"
         },
         "marker": {
          "color": "blue"
         },
         "mode": "lines+markers",
         "name": "alinhada",
         "showlegend": false,
         "type": "scatter",
         "x": {
          "bdata": "5gfnB+gH",
          "dtype": "i2"
         },
         "xaxis": "x13",
         "y": {
          "bdata": "AAAAAAAAAAC0l9BeQnvpP7vfKLvfKOs/",
          "dtype": "f8"
         },
         "yaxis": "y13"
        },
        {
         "legendgroup": "Dilma Rousseff",
         "marker": {
          "color": "black",
          "size": 10,
          "symbol": "circle"
         },
         "mode": "markers",
         "name": "Dilma Rousseff",
         "showlegend": false,
         "type": "scatter",
         "x": [],
         "xaxis": "x13",
         "y": [],
         "yaxis": "y13"
        },
        {
         "legendgroup": "Michel Temer",
         "marker": {
          "color": "black",
          "size": 10,
          "symbol": "circle"
         },
         "mode": "markers",
         "name": "Michel Temer",
         "showlegend": false,
         "type": "scatter",
         "x": [],
         "xaxis": "x13",
         "y": [],
         "yaxis": "y13"
        },
        {
         "legendgroup": "Jair Bolsonaro",
         "marker": {
          "color": "black",
          "size": 10,
          "symbol": "circle"
         },
         "mode": "markers",
         "name": "Jair Bolsonaro",
         "showlegend": false,
         "type": "scatter",
         "x": {
          "bdata": "5gc=",
          "dtype": "i2"
         },
         "xaxis": "x13",
         "y": {
          "bdata": "AAAAAAAAAAA=",
          "dtype": "f8"
         },
         "yaxis": "y13"
        },
        {
         "legendgroup": "Luiz Inácio Lula da Silva",
         "marker": {
          "color": "black",
          "size": 10,
          "symbol": "circle"
         },
         "mode": "markers",
         "name": "Luiz Inácio Lula da Silva",
         "showlegend": false,
         "type": "scatter",
         "x": {
          "bdata": "5wfoBw==",
          "dtype": "i2"
         },
         "xaxis": "x13",
         "y": {
          "bdata": "tJfQXkJ76T+73yi73yjrPw==",
          "dtype": "f8"
         },
         "yaxis": "y13"
        }
       ],
       "layout": {
        "annotations": [
         {
          "font": {
           "size": 16
          },
          "showarrow": false,
          "text": "Agência ANVISA",
          "x": 0.225,
          "xanchor": "center",
          "xref": "paper",
          "y": 0.9999999999999999,
          "yanchor": "bottom",
          "yref": "paper"
         },
         {
          "font": {
           "size": 16
          },
          "showarrow": false,
          "text": "Agência EBC",
          "x": 0.775,
          "xanchor": "center",
          "xref": "paper",
          "y": 0.9999999999999999,
          "yanchor": "bottom",
          "yref": "paper"
         },
         {
          "font": {
           "size": 16
          },
          "showarrow": false,
          "text": "Agência FUNAI",
          "x": 0.225,
          "xanchor": "center",
          "xref": "paper",
          "y": 0.8469387755102039,
          "yanchor": "bottom",
          "yref": "paper"
         },
         {
          "font": {
           "size": 16
          },
          "showarrow": false,
          "text": "Agência IBAMA",
          "x": 0.775,
          "xanchor": "center",
          "xref": "paper",
          "y": 0.8469387755102039,
          "yanchor": "bottom",
          "yref": "paper"
         },
         {
          "font": {
           "size": 16
          },
          "showarrow": false,
          "text": "Agência CGU",
          "x": 0.225,
          "xanchor": "center",
          "xref": "paper",
          "y": 0.6938775510204082,
          "yanchor": "bottom",
          "yref": "paper"
         },
         {
          "font": {
           "size": 16
          },
          "showarrow": false,
          "text": "Agência MAPA",
          "x": 0.775,
          "xanchor": "center",
          "xref": "paper",
          "y": 0.6938775510204082,
          "yanchor": "bottom",
          "yref": "paper"
         },
         {
          "font": {
           "size": 16
          },
          "showarrow": false,
          "text": "Agência MD",
          "x": 0.225,
          "xanchor": "center",
          "xref": "paper",
          "y": 0.5408163265306122,
          "yanchor": "bottom",
          "yref": "paper"
         },
         {
          "font": {
           "size": 16
          },
          "showarrow": false,
          "text": "Agência MEC",
          "x": 0.775,
          "xanchor": "center",
          "xref": "paper",
          "y": 0.5408163265306122,
          "yanchor": "bottom",
          "yref": "paper"
         },
         {
          "font": {
           "size": 16
          },
          "showarrow": false,
          "text": "Agência MF",
          "x": 0.225,
          "xanchor": "center",
          "xref": "paper",
          "y": 0.3877551020408163,
          "yanchor": "bottom",
          "yref": "paper"
         },
         {
          "font": {
           "size": 16
          },
          "showarrow": false,
          "text": "Agência MJSP",
          "x": 0.775,
          "xanchor": "center",
          "xref": "paper",
          "y": 0.3877551020408163,
          "yanchor": "bottom",
          "yref": "paper"
         },
         {
          "font": {
           "size": 16
          },
          "showarrow": false,
          "text": "Agência MMA",
          "x": 0.225,
          "xanchor": "center",
          "xref": "paper",
          "y": 0.2346938775510204,
          "yanchor": "bottom",
          "yref": "paper"
         },
         {
          "font": {
           "size": 16
          },
          "showarrow": false,
          "text": "Agência MS",
          "x": 0.775,
          "xanchor": "center",
          "xref": "paper",
          "y": 0.2346938775510204,
          "yanchor": "bottom",
          "yref": "paper"
         },
         {
          "font": {
           "size": 16
          },
          "showarrow": false,
          "text": "Agência MDA",
          "x": 0.225,
          "xanchor": "center",
          "xref": "paper",
          "y": 0.08163265306122448,
          "yanchor": "bottom",
          "yref": "paper"
         }
        ],
        "height": 2100,
        "legend": {
         "orientation": "h",
         "x": 0.5,
         "y": -0.2
        },
        "showlegend": true,
        "template": {
         "data": {
          "bar": [
           {
            "error_x": {
             "color": "#2a3f5f"
            },
            "error_y": {
             "color": "#2a3f5f"
            },
            "marker": {
             "line": {
              "color": "#E5ECF6",
              "width": 0.5
             },
             "pattern": {
              "fillmode": "overlay",
              "size": 10,
              "solidity": 0.2
             }
            },
            "type": "bar"
           }
          ],
          "barpolar": [
           {
            "marker": {
             "line": {
              "color": "#E5ECF6",
              "width": 0.5
             },
             "pattern": {
              "fillmode": "overlay",
              "size": 10,
              "solidity": 0.2
             }
            },
            "type": "barpolar"
           }
          ],
          "carpet": [
           {
            "aaxis": {
             "endlinecolor": "#2a3f5f",
             "gridcolor": "white",
             "linecolor": "white",
             "minorgridcolor": "white",
             "startlinecolor": "#2a3f5f"
            },
            "baxis": {
             "endlinecolor": "#2a3f5f",
             "gridcolor": "white",
             "linecolor": "white",
             "minorgridcolor": "white",
             "startlinecolor": "#2a3f5f"
            },
            "type": "carpet"
           }
          ],
          "choropleth": [
           {
            "colorbar": {
             "outlinewidth": 0,
             "ticks": ""
            },
            "type": "choropleth"
           }
          ],
          "contour": [
           {
            "colorbar": {
             "outlinewidth": 0,
             "ticks": ""
            },
            "colorscale": [
             [
              0,
              "#0d0887"
             ],
             [
              0.1111111111111111,
              "#46039f"
             ],
             [
              0.2222222222222222,
              "#7201a8"
             ],
             [
              0.3333333333333333,
              "#9c179e"
             ],
             [
              0.4444444444444444,
              "#bd3786"
             ],
             [
              0.5555555555555556,
              "#d8576b"
             ],
             [
              0.6666666666666666,
              "#ed7953"
             ],
             [
              0.7777777777777778,
              "#fb9f3a"
             ],
             [
              0.8888888888888888,
              "#fdca26"
             ],
             [
              1,
              "#f0f921"
             ]
            ],
            "type": "contour"
           }
          ],
          "contourcarpet": [
           {
            "colorbar": {
             "outlinewidth": 0,
             "ticks": ""
            },
            "type": "contourcarpet"
           }
          ],
          "heatmap": [
           {
            "colorbar": {
             "outlinewidth": 0,
             "ticks": ""
            },
            "colorscale": [
             [
              0,
              "#0d0887"
             ],
             [
              0.1111111111111111,
              "#46039f"
             ],
             [
              0.2222222222222222,
              "#7201a8"
             ],
             [
              0.3333333333333333,
              "#9c179e"
             ],
             [
              0.4444444444444444,
              "#bd3786"
             ],
             [
              0.5555555555555556,
              "#d8576b"
             ],
             [
              0.6666666666666666,
              "#ed7953"
             ],
             [
              0.7777777777777778,
              "#fb9f3a"
             ],
             [
              0.8888888888888888,
              "#fdca26"
             ],
             [
              1,
              "#f0f921"
             ]
            ],
            "type": "heatmap"
           }
          ],
          "histogram": [
           {
            "marker": {
             "pattern": {
              "fillmode": "overlay",
              "size": 10,
              "solidity": 0.2
             }
            },
            "type": "histogram"
           }
          ],
          "histogram2d": [
           {
            "colorbar": {
             "outlinewidth": 0,
             "ticks": ""
            },
            "colorscale": [
             [
              0,
              "#0d0887"
             ],
             [
              0.1111111111111111,
              "#46039f"
             ],
             [
              0.2222222222222222,
              "#7201a8"
             ],
             [
              0.3333333333333333,
              "#9c179e"
             ],
             [
              0.4444444444444444,
              "#bd3786"
             ],
             [
              0.5555555555555556,
              "#d8576b"
             ],
             [
              0.6666666666666666,
              "#ed7953"
             ],
             [
              0.7777777777777778,
              "#fb9f3a"
             ],
             [
              0.8888888888888888,
              "#fdca26"
             ],
             [
              1,
              "#f0f921"
             ]
            ],
            "type": "histogram2d"
           }
          ],
          "histogram2dcontour": [
           {
            "colorbar": {
             "outlinewidth": 0,
             "ticks": ""
            },
            "colorscale": [
             [
              0,
              "#0d0887"
             ],
             [
              0.1111111111111111,
              "#46039f"
             ],
             [
              0.2222222222222222,
              "#7201a8"
             ],
             [
              0.3333333333333333,
              "#9c179e"
             ],
             [
              0.4444444444444444,
              "#bd3786"
             ],
             [
              0.5555555555555556,
              "#d8576b"
             ],
             [
              0.6666666666666666,
              "#ed7953"
             ],
             [
              0.7777777777777778,
              "#fb9f3a"
             ],
             [
              0.8888888888888888,
              "#fdca26"
             ],
             [
              1,
              "#f0f921"
             ]
            ],
            "type": "histogram2dcontour"
           }
          ],
          "mesh3d": [
           {
            "colorbar": {
             "outlinewidth": 0,
             "ticks": ""
            },
            "type": "mesh3d"
           }
          ],
          "parcoords": [
           {
            "line": {
             "colorbar": {
              "outlinewidth": 0,
              "ticks": ""
             }
            },
            "type": "parcoords"
           }
          ],
          "pie": [
           {
            "automargin": true,
            "type": "pie"
           }
          ],
          "scatter": [
           {
            "fillpattern": {
             "fillmode": "overlay",
             "size": 10,
             "solidity": 0.2
            },
            "type": "scatter"
           }
          ],
          "scatter3d": [
           {
            "line": {
             "colorbar": {
              "outlinewidth": 0,
              "ticks": ""
             }
            },
            "marker": {
             "colorbar": {
              "outlinewidth": 0,
              "ticks": ""
             }
            },
            "type": "scatter3d"
           }
          ],
          "scattercarpet": [
           {
            "marker": {
             "colorbar": {
              "outlinewidth": 0,
              "ticks": ""
             }
            },
            "type": "scattercarpet"
           }
          ],
          "scattergeo": [
           {
            "marker": {
             "colorbar": {
              "outlinewidth": 0,
              "ticks": ""
             }
            },
            "type": "scattergeo"
           }
          ],
          "scattergl": [
           {
            "marker": {
             "colorbar": {
              "outlinewidth": 0,
              "ticks": ""
             }
            },
            "type": "scattergl"
           }
          ],
          "scattermap": [
           {
            "marker": {
             "colorbar": {
              "outlinewidth": 0,
              "ticks": ""
             }
            },
            "type": "scattermap"
           }
          ],
          "scattermapbox": [
           {
            "marker": {
             "colorbar": {
              "outlinewidth": 0,
              "ticks": ""
             }
            },
            "type": "scattermapbox"
           }
          ],
          "scatterpolar": [
           {
            "marker": {
             "colorbar": {
              "outlinewidth": 0,
              "ticks": ""
             }
            },
            "type": "scatterpolar"
           }
          ],
          "scatterpolargl": [
           {
            "marker": {
             "colorbar": {
              "outlinewidth": 0,
              "ticks": ""
             }
            },
            "type": "scatterpolargl"
           }
          ],
          "scatterternary": [
           {
            "marker": {
             "colorbar": {
              "outlinewidth": 0,
              "ticks": ""
             }
            },
            "type": "scatterternary"
           }
          ],
          "surface": [
           {
            "colorbar": {
             "outlinewidth": 0,
             "ticks": ""
            },
            "colorscale": [
             [
              0,
              "#0d0887"
             ],
             [
              0.1111111111111111,
              "#46039f"
             ],
             [
              0.2222222222222222,
              "#7201a8"
             ],
             [
              0.3333333333333333,
              "#9c179e"
             ],
             [
              0.4444444444444444,
              "#bd3786"
             ],
             [
              0.5555555555555556,
              "#d8576b"
             ],
             [
              0.6666666666666666,
              "#ed7953"
             ],
             [
              0.7777777777777778,
              "#fb9f3a"
             ],
             [
              0.8888888888888888,
              "#fdca26"
             ],
             [
              1,
              "#f0f921"
             ]
            ],
            "type": "surface"
           }
          ],
          "table": [
           {
            "cells": {
             "fill": {
              "color": "#EBF0F8"
             },
             "line": {
              "color": "white"
             }
            },
            "header": {
             "fill": {
              "color": "#C8D4E3"
             },
             "line": {
              "color": "white"
             }
            },
            "type": "table"
           }
          ]
         },
         "layout": {
          "annotationdefaults": {
           "arrowcolor": "#2a3f5f",
           "arrowhead": 0,
           "arrowwidth": 1
          },
          "autotypenumbers": "strict",
          "coloraxis": {
           "colorbar": {
            "outlinewidth": 0,
            "ticks": ""
           }
          },
          "colorscale": {
           "diverging": [
            [
             0,
             "#8e0152"
            ],
            [
             0.1,
             "#c51b7d"
            ],
            [
             0.2,
             "#de77ae"
            ],
            [
             0.3,
             "#f1b6da"
            ],
            [
             0.4,
             "#fde0ef"
            ],
            [
             0.5,
             "#f7f7f7"
            ],
            [
             0.6,
             "#e6f5d0"
            ],
            [
             0.7,
             "#b8e186"
            ],
            [
             0.8,
             "#7fbc41"
            ],
            [
             0.9,
             "#4d9221"
            ],
            [
             1,
             "#276419"
            ]
           ],
           "sequential": [
            [
             0,
             "#0d0887"
            ],
            [
             0.1111111111111111,
             "#46039f"
            ],
            [
             0.2222222222222222,
             "#7201a8"
            ],
            [
             0.3333333333333333,
             "#9c179e"
            ],
            [
             0.4444444444444444,
             "#bd3786"
            ],
            [
             0.5555555555555556,
             "#d8576b"
            ],
            [
             0.6666666666666666,
             "#ed7953"
            ],
            [
             0.7777777777777778,
             "#fb9f3a"
            ],
            [
             0.8888888888888888,
             "#fdca26"
            ],
            [
             1,
             "#f0f921"
            ]
           ],
           "sequentialminus": [
            [
             0,
             "#0d0887"
            ],
            [
             0.1111111111111111,
             "#46039f"
            ],
            [
             0.2222222222222222,
             "#7201a8"
            ],
            [
             0.3333333333333333,
             "#9c179e"
            ],
            [
             0.4444444444444444,
             "#bd3786"
            ],
            [
             0.5555555555555556,
             "#d8576b"
            ],
            [
             0.6666666666666666,
             "#ed7953"
            ],
            [
             0.7777777777777778,
             "#fb9f3a"
            ],
            [
             0.8888888888888888,
             "#fdca26"
            ],
            [
             1,
             "#f0f921"
            ]
           ]
          },
          "colorway": [
           "#636efa",
           "#EF553B",
           "#00cc96",
           "#ab63fa",
           "#FFA15A",
           "#19d3f3",
           "#FF6692",
           "#B6E880",
           "#FF97FF",
           "#FECB52"
          ],
          "font": {
           "color": "#2a3f5f"
          },
          "geo": {
           "bgcolor": "white",
           "lakecolor": "white",
           "landcolor": "#E5ECF6",
           "showlakes": true,
           "showland": true,
           "subunitcolor": "white"
          },
          "hoverlabel": {
           "align": "left"
          },
          "hovermode": "closest",
          "mapbox": {
           "style": "light"
          },
          "paper_bgcolor": "white",
          "plot_bgcolor": "#E5ECF6",
          "polar": {
           "angularaxis": {
            "gridcolor": "white",
            "linecolor": "white",
            "ticks": ""
           },
           "bgcolor": "#E5ECF6",
           "radialaxis": {
            "gridcolor": "white",
            "linecolor": "white",
            "ticks": ""
           }
          },
          "scene": {
           "xaxis": {
            "backgroundcolor": "#E5ECF6",
            "gridcolor": "white",
            "gridwidth": 2,
            "linecolor": "white",
            "showbackground": true,
            "ticks": "",
            "zerolinecolor": "white"
           },
           "yaxis": {
            "backgroundcolor": "#E5ECF6",
            "gridcolor": "white",
            "gridwidth": 2,
            "linecolor": "white",
            "showbackground": true,
            "ticks": "",
            "zerolinecolor": "white"
           },
           "zaxis": {
            "backgroundcolor": "#E5ECF6",
            "gridcolor": "white",
            "gridwidth": 2,
            "linecolor": "white",
            "showbackground": true,
            "ticks": "",
            "zerolinecolor": "white"
           }
          },
          "shapedefaults": {
           "line": {
            "color": "#2a3f5f"
           }
          },
          "ternary": {
           "aaxis": {
            "gridcolor": "white",
            "linecolor": "white",
            "ticks": ""
           },
           "baxis": {
            "gridcolor": "white",
            "linecolor": "white",
            "ticks": ""
           },
           "bgcolor": "#E5ECF6",
           "caxis": {
            "gridcolor": "white",
            "linecolor": "white",
            "ticks": ""
           }
          },
          "title": {
           "x": 0.05
          },
          "xaxis": {
           "automargin": true,
           "gridcolor": "white",
           "linecolor": "white",
           "ticks": "",
           "title": {
            "standoff": 15
           },
           "zerolinecolor": "white",
           "zerolinewidth": 2
          },
          "yaxis": {
           "automargin": true,
           "gridcolor": "white",
           "linecolor": "white",
           "ticks": "",
           "title": {
            "standoff": 15
           },
           "zerolinecolor": "white",
           "zerolinewidth": 2
          }
         }
        },
        "title": {
         "text": "Média de Conformidade das Agências ao Longo dos Anos"
        },
        "width": 1200,
        "xaxis": {
         "anchor": "y",
         "domain": [
          0,
          0.45
         ]
        },
        "xaxis10": {
         "anchor": "y10",
         "domain": [
          0.55,
          1
         ]
        },
        "xaxis11": {
         "anchor": "y11",
         "domain": [
          0,
          0.45
         ]
        },
        "xaxis12": {
         "anchor": "y12",
         "domain": [
          0.55,
          1
         ]
        },
        "xaxis13": {
         "anchor": "y13",
         "domain": [
          0,
          0.45
         ]
        },
        "xaxis14": {
         "anchor": "y14",
         "domain": [
          0.55,
          1
         ]
        },
        "xaxis2": {
         "anchor": "y2",
         "domain": [
          0.55,
          1
         ]
        },
        "xaxis3": {
         "anchor": "y3",
         "domain": [
          0,
          0.45
         ]
        },
        "xaxis4": {
         "anchor": "y4",
         "domain": [
          0.55,
          1
         ]
        },
        "xaxis5": {
         "anchor": "y5",
         "domain": [
          0,
          0.45
         ]
        },
        "xaxis6": {
         "anchor": "y6",
         "domain": [
          0.55,
          1
         ]
        },
        "xaxis7": {
         "anchor": "y7",
         "domain": [
          0,
          0.45
         ]
        },
        "xaxis8": {
         "anchor": "y8",
         "domain": [
          0.55,
          1
         ]
        },
        "xaxis9": {
         "anchor": "y9",
         "domain": [
          0,
          0.45
         ]
        },
        "yaxis": {
         "anchor": "x",
         "domain": [
          0.9183673469387754,
          0.9999999999999999
         ]
        },
        "yaxis10": {
         "anchor": "x10",
         "domain": [
          0.30612244897959184,
          0.3877551020408163
         ]
        },
        "yaxis11": {
         "anchor": "x11",
         "domain": [
          0.15306122448979592,
          0.2346938775510204
         ]
        },
        "yaxis12": {
         "anchor": "x12",
         "domain": [
          0.15306122448979592,
          0.2346938775510204
         ]
        },
        "yaxis13": {
         "anchor": "x13",
         "domain": [
          0,
          0.08163265306122448
         ]
        },
        "yaxis14": {
         "anchor": "x14",
         "domain": [
          0,
          0.08163265306122448
         ]
        },
        "yaxis2": {
         "anchor": "x2",
         "domain": [
          0.9183673469387754,
          0.9999999999999999
         ]
        },
        "yaxis3": {
         "anchor": "x3",
         "domain": [
          0.7653061224489794,
          0.8469387755102039
         ]
        },
        "yaxis4": {
         "anchor": "x4",
         "domain": [
          0.7653061224489794,
          0.8469387755102039
         ]
        },
        "yaxis5": {
         "anchor": "x5",
         "domain": [
          0.6122448979591837,
          0.6938775510204082
         ]
        },
        "yaxis6": {
         "anchor": "x6",
         "domain": [
          0.6122448979591837,
          0.6938775510204082
         ]
        },
        "yaxis7": {
         "anchor": "x7",
         "domain": [
          0.4591836734693877,
          0.5408163265306122
         ]
        },
        "yaxis8": {
         "anchor": "x8",
         "domain": [
          0.4591836734693877,
          0.5408163265306122
         ]
        },
        "yaxis9": {
         "anchor": "x9",
         "domain": [
          0.30612244897959184,
          0.3877551020408163
         ]
        }
       }
      }
     },
     "metadata": {},
     "output_type": "display_data"
    }
   ],
   "source": [
    "from plots import plot_grid_all_agencies\n",
    "\n",
    "fig = plot_grid_all_agencies(final_df, width=1200)\n",
    "fig.show()"
   ]
  },
  {
   "cell_type": "markdown",
   "metadata": {},
   "source": [
    "O que mais queria é o seguinte: pega a média das alinhada e das contra só para todos os presidentes que não sejam Bolsonaro. Depois, pega a média para Bolsonaro. Depois compara - test of means (two-tailed T test) - para ver se tem uma diferença estatisticamente significante entre ex. CGU durante presidentes regulares  V. CGU durante Bolsonaro. Faça isso para cada agência, se puder, e depois para todos as agências (alinhada/contra) de forma agregada."
   ]
  }
 ],
 "metadata": {
  "kernelspec": {
   "display_name": "venv",
   "language": "python",
   "name": "python3"
  },
  "language_info": {
   "codemirror_mode": {
    "name": "ipython",
    "version": 3
   },
   "file_extension": ".py",
   "mimetype": "text/x-python",
   "name": "python",
   "nbconvert_exporter": "python",
   "pygments_lexer": "ipython3",
   "version": "3.13.1"
  }
 },
 "nbformat": 4,
 "nbformat_minor": 2
}

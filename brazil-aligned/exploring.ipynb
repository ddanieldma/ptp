{
 "cells": [
  {
   "cell_type": "code",
   "execution_count": null,
   "metadata": {},
   "outputs": [],
   "source": [
    "import pandas as pd\n",
    "from utils import print_equals\n",
    "import scipy.stats as stats\n",
    "\n",
    "from pathlib import Path\n",
    "\n",
    "import openpyxl\n",
    "from openpyxl import load_workbook"
   ]
  },
  {
   "cell_type": "markdown",
   "metadata": {},
   "source": [
    "### Comparando média de conformidade das agências contra governos populistas e a favor de governos populistas antes, depois e durante o governo bolsonaro"
   ]
  },
  {
   "cell_type": "code",
   "execution_count": 4,
   "metadata": {},
   "outputs": [],
   "source": [
    "from transform import INTERIM_DIR\n",
    "\n",
    "final_df = pd.read_parquet(INTERIM_DIR / \"data-parquet-final-1.parquet\")"
   ]
  },
  {
   "cell_type": "code",
   "execution_count": 5,
   "metadata": {},
   "outputs": [
    {
     "ename": "NameError",
     "evalue": "name 'final_df' is not defined",
     "output_type": "error",
     "traceback": [
      "\u001b[1;31m---------------------------------------------------------------------------\u001b[0m",
      "\u001b[1;31mNameError\u001b[0m                                 Traceback (most recent call last)",
      "Cell \u001b[1;32mIn[5], line 5\u001b[0m\n\u001b[0;32m      2\u001b[0m \u001b[38;5;28;01mimport\u001b[39;00m\u001b[38;5;250m \u001b[39m\u001b[38;5;21;01mplotly\u001b[39;00m\u001b[38;5;21;01m.\u001b[39;00m\u001b[38;5;21;01mgraph_objects\u001b[39;00m\u001b[38;5;250m \u001b[39m\u001b[38;5;28;01mas\u001b[39;00m\u001b[38;5;250m \u001b[39m\u001b[38;5;21;01mgo\u001b[39;00m\n\u001b[0;32m      4\u001b[0m \u001b[38;5;66;03m# Filtering \"contra\" and \"alinhada\" agencies\u001b[39;00m\n\u001b[1;32m----> 5\u001b[0m df_plot_1 \u001b[38;5;241m=\u001b[39m \u001b[43mfinal_df\u001b[49m\u001b[38;5;241m.\u001b[39mcopy()\n\u001b[0;32m      6\u001b[0m df_plot_1 \u001b[38;5;241m=\u001b[39m df_plot_1[df_plot_1[\u001b[38;5;124m'\u001b[39m\u001b[38;5;124mcategory\u001b[39m\u001b[38;5;124m'\u001b[39m]\u001b[38;5;241m.\u001b[39misin([\u001b[38;5;124m'\u001b[39m\u001b[38;5;124mcontra\u001b[39m\u001b[38;5;124m'\u001b[39m, \u001b[38;5;124m'\u001b[39m\u001b[38;5;124malinhada\u001b[39m\u001b[38;5;124m'\u001b[39m])]\n\u001b[0;32m      8\u001b[0m \u001b[38;5;66;03m# Calculating mean of conformity by each year and category\u001b[39;00m\n",
      "\u001b[1;31mNameError\u001b[0m: name 'final_df' is not defined"
     ]
    }
   ],
   "source": [
    "import plotly.express as px\n",
    "import plotly.graph_objects as go\n",
    "\n",
    "# Filtering \"contra\" and \"alinhada\" agencies\n",
    "df_plot_1 = final_df.copy()\n",
    "df_plot_1 = df_plot_1[df_plot_1['category'].isin(['contra', 'alinhada'])]\n",
    "\n",
    "# Calculating mean of conformity by each year and category\n",
    "df_plot_1 = df_plot_1.groupby(['year', 'category'])['conc_parc'].mean().reset_index()\n",
    "\n",
    "# Getting the president of each year\n",
    "df_presidents = final_df[['year', 'president']].drop_duplicates()\n",
    "df_plot_1 = df_plot_1.merge(df_presidents, on='year', how='left')\n",
    "\n",
    "# Criar gráfico\n",
    "fig = px.line(\n",
    "    df_plot_1, x='year', y='conc_parc',\n",
    "    color='category',  # Apenas duas linhas para as categorys\n",
    "    line_dash='category',\n",
    "    markers=True, \n",
    "    hover_data={'year': True, 'conc_parc': True, 'president': True},\n",
    "    labels={'conc_parc': 'Média de Conformidade', 'year': 'Ano', 'category': 'category'}\n",
    ")\n",
    "\n",
    "# Adicionar pontos específicos para os presidentes\n",
    "for presidente in df_presidents['president'].unique():\n",
    "    df_pres = df_plot_1[df_plot_1['president'] == presidente]\n",
    "    fig.add_trace(go.Scatter(\n",
    "        x=df_pres['year'], y=df_pres['conc_parc'],\n",
    "        mode='markers',\n",
    "        marker=dict(size=10, symbol='circle'),\n",
    "        name=presidente\n",
    "    ))\n",
    "\n",
    "\n",
    "fig.update_layout(\n",
    "    title='Média de Conformidade das Agências \"Contra\" e \"Alinhadas\" ao Longo dos Anos',\n",
    "    xaxis_title='Ano',\n",
    "    yaxis_title='Média de Conformidade',\n",
    "    legend_title='Legenda',\n",
    "    hovermode='x unified'\n",
    ")\n",
    "\n",
    "fig.show()\n"
   ]
  },
  {
   "cell_type": "code",
   "execution_count": 10,
   "metadata": {},
   "outputs": [
    {
     "data": {
      "application/vnd.plotly.v1+json": {
       "config": {
        "plotlyServerURL": "https://plot.ly"
       },
       "data": [
        {
         "legendgroup": "contra",
         "line": {
          "color": "red",
          "dash": "dash"
         },
         "marker": {
          "color": "red"
         },
         "mode": "lines+markers",
         "name": "contra",
         "showlegend": true,
         "type": "scatter",
         "x": {
          "bdata": "3wfgB+AH4QfiB+MH5AflB+YH5wfoBw==",
          "dtype": "i2"
         },
         "xaxis": "x",
         "y": {
          "bdata": "VH1gP1KX6T/QYAgNhtDoPwGr40sZs+s/FneqdCIS7D+u2j5ga8TsP1ZAopdIw+s/bTqa+1H17T/GYA5r/RXuP95H8SSA3Ow/43Qdn8Zc6j+q2/2AUtDqPw==",
          "dtype": "f8"
         },
         "yaxis": "y"
        },
        {
         "legendgroup": "Dilma Rousseff",
         "marker": {
          "color": "black",
          "size": 10,
          "symbol": "circle"
         },
         "mode": "markers",
         "name": "Dilma Rousseff",
         "showlegend": true,
         "type": "scatter",
         "x": {
          "bdata": "3wfgBw==",
          "dtype": "i2"
         },
         "xaxis": "x",
         "y": {
          "bdata": "VH1gP1KX6T/QYAgNhtDoPw==",
          "dtype": "f8"
         },
         "yaxis": "y"
        },
        {
         "legendgroup": "Michel Temer",
         "marker": {
          "color": "black",
          "size": 10,
          "symbol": "circle"
         },
         "mode": "markers",
         "name": "Michel Temer",
         "showlegend": true,
         "type": "scatter",
         "x": {
          "bdata": "4AfhB+IH",
          "dtype": "i2"
         },
         "xaxis": "x",
         "y": {
          "bdata": "AavjSxmz6z8Wd6p0IhLsP67aPmBrxOw/",
          "dtype": "f8"
         },
         "yaxis": "y"
        },
        {
         "legendgroup": "Jair Bolsonaro",
         "marker": {
          "color": "black",
          "size": 10,
          "symbol": "circle"
         },
         "mode": "markers",
         "name": "Jair Bolsonaro",
         "showlegend": true,
         "type": "scatter",
         "x": {
          "bdata": "4wfkB+UH5gc=",
          "dtype": "i2"
         },
         "xaxis": "x",
         "y": {
          "bdata": "VkCil0jD6z9tOpr7UfXtP8ZgDmv9Fe4/3kfxJIDc7D8=",
          "dtype": "f8"
         },
         "yaxis": "y"
        },
        {
         "legendgroup": "Luiz Inácio Lula da Silva",
         "marker": {
          "color": "black",
          "size": 10,
          "symbol": "circle"
         },
         "mode": "markers",
         "name": "Luiz Inácio Lula da Silva",
         "showlegend": true,
         "type": "scatter",
         "x": {
          "bdata": "5wfoBw==",
          "dtype": "i2"
         },
         "xaxis": "x",
         "y": {
          "bdata": "43Qdn8Zc6j+q2/2AUtDqPw==",
          "dtype": "f8"
         },
         "yaxis": "y"
        },
        {
         "legendgroup": "contra",
         "line": {
          "color": "red",
          "dash": "dash"
         },
         "marker": {
          "color": "red"
         },
         "mode": "lines+markers",
         "name": "contra",
         "showlegend": false,
         "type": "scatter",
         "x": {
          "bdata": "3wfgB+AH4QfiB+MH5AflB+YH5wfoBw==",
          "dtype": "i2"
         },
         "xaxis": "x2",
         "y": {
          "bdata": "9hLaS2gv6T8AAAAAAIDoP1K4HoXrUeg/OqiDOqiD6j9AJsULZFLsP/v6+vr6+uo/TqfT6XQ67T9nZmZmZmbmP+osprOYzuI/BqLSkT0D4T+6ubm5ubnpPw==",
          "dtype": "f8"
         },
         "yaxis": "y2"
        },
        {
         "legendgroup": "Dilma Rousseff",
         "marker": {
          "color": "black",
          "size": 10,
          "symbol": "circle"
         },
         "mode": "markers",
         "name": "Dilma Rousseff",
         "showlegend": false,
         "type": "scatter",
         "x": {
          "bdata": "3wfgBw==",
          "dtype": "i2"
         },
         "xaxis": "x2",
         "y": {
          "bdata": "9hLaS2gv6T8AAAAAAIDoPw==",
          "dtype": "f8"
         },
         "yaxis": "y2"
        },
        {
         "legendgroup": "Michel Temer",
         "marker": {
          "color": "black",
          "size": 10,
          "symbol": "circle"
         },
         "mode": "markers",
         "name": "Michel Temer",
         "showlegend": false,
         "type": "scatter",
         "x": {
          "bdata": "4AfhB+IH",
          "dtype": "i2"
         },
         "xaxis": "x2",
         "y": {
          "bdata": "UrgehetR6D86qIM6qIPqP0AmxQtkUuw/",
          "dtype": "f8"
         },
         "yaxis": "y2"
        },
        {
         "legendgroup": "Jair Bolsonaro",
         "marker": {
          "color": "black",
          "size": 10,
          "symbol": "circle"
         },
         "mode": "markers",
         "name": "Jair Bolsonaro",
         "showlegend": false,
         "type": "scatter",
         "x": {
          "bdata": "4wfkB+UH5gc=",
          "dtype": "i2"
         },
         "xaxis": "x2",
         "y": {
          "bdata": "+/r6+vr66j9Op9PpdDrtP2dmZmZmZuY/6iyms5jO4j8=",
          "dtype": "f8"
         },
         "yaxis": "y2"
        },
        {
         "legendgroup": "Luiz Inácio Lula da Silva",
         "marker": {
          "color": "black",
          "size": 10,
          "symbol": "circle"
         },
         "mode": "markers",
         "name": "Luiz Inácio Lula da Silva",
         "showlegend": false,
         "type": "scatter",
         "x": {
          "bdata": "5wfoBw==",
          "dtype": "i2"
         },
         "xaxis": "x2",
         "y": {
          "bdata": "BqLSkT0D4T+6ubm5ubnpPw==",
          "dtype": "f8"
         },
         "yaxis": "y2"
        },
        {
         "legendgroup": "contra",
         "line": {
          "color": "red",
          "dash": "dash"
         },
         "marker": {
          "color": "red"
         },
         "mode": "lines+markers",
         "name": "contra",
         "showlegend": false,
         "type": "scatter",
         "x": {
          "bdata": "3wfgB+AH4QfiB+MH5AflB+YH5wfoBw==",
          "dtype": "i2"
         },
         "xaxis": "x3",
         "y": {
          "bdata": "O1lsOlls6j/kVu3fgPXtP/3VX/3VX+0/0k2VaAFk7D+UyDRsN8vrPxdBICFuVeo/n00oRi4O6z/BIkrAIkrsPzG7XYYQs+s/9cw/sGPD6z/oeZ7neZ7qPw==",
          "dtype": "f8"
         },
         "yaxis": "y3"
        },
        {
         "legendgroup": "Dilma Rousseff",
         "marker": {
          "color": "black",
          "size": 10,
          "symbol": "circle"
         },
         "mode": "markers",
         "name": "Dilma Rousseff",
         "showlegend": false,
         "type": "scatter",
         "x": {
          "bdata": "3wfgBw==",
          "dtype": "i2"
         },
         "xaxis": "x3",
         "y": {
          "bdata": "O1lsOlls6j/kVu3fgPXtPw==",
          "dtype": "f8"
         },
         "yaxis": "y3"
        },
        {
         "legendgroup": "Michel Temer",
         "marker": {
          "color": "black",
          "size": 10,
          "symbol": "circle"
         },
         "mode": "markers",
         "name": "Michel Temer",
         "showlegend": false,
         "type": "scatter",
         "x": {
          "bdata": "4AfhB+IH",
          "dtype": "i2"
         },
         "xaxis": "x3",
         "y": {
          "bdata": "/dVf/dVf7T/STZVoAWTsP5TINGw3y+s/",
          "dtype": "f8"
         },
         "yaxis": "y3"
        },
        {
         "legendgroup": "Jair Bolsonaro",
         "marker": {
          "color": "black",
          "size": 10,
          "symbol": "circle"
         },
         "mode": "markers",
         "name": "Jair Bolsonaro",
         "showlegend": false,
         "type": "scatter",
         "x": {
          "bdata": "4wfkB+UH5gc=",
          "dtype": "i2"
         },
         "xaxis": "x3",
         "y": {
          "bdata": "F0EgIW5V6j+fTShGLg7rP8EiSsAiSuw/MbtdhhCz6z8=",
          "dtype": "f8"
         },
         "yaxis": "y3"
        },
        {
         "legendgroup": "Luiz Inácio Lula da Silva",
         "marker": {
          "color": "black",
          "size": 10,
          "symbol": "circle"
         },
         "mode": "markers",
         "name": "Luiz Inácio Lula da Silva",
         "showlegend": false,
         "type": "scatter",
         "x": {
          "bdata": "5wfoBw==",
          "dtype": "i2"
         },
         "xaxis": "x3",
         "y": {
          "bdata": "9cw/sGPD6z/oeZ7neZ7qPw==",
          "dtype": "f8"
         },
         "yaxis": "y3"
        },
        {
         "legendgroup": "contra",
         "line": {
          "color": "red",
          "dash": "dash"
         },
         "marker": {
          "color": "red"
         },
         "mode": "lines+markers",
         "name": "contra",
         "showlegend": false,
         "type": "scatter",
         "x": {
          "bdata": "3wfgB+AH4QfiB+MH5AflB+YH5wfoBw==",
          "dtype": "i2"
         },
         "xaxis": "x4",
         "y": {
          "bdata": "PkS95gTV7T+gn5+fn5/vPzQzMzMzs+8/ixxCM7AN7z82/4xpMsDsP9UwOziCSOs/mwjkmgjk6j+u8sXwT1zrP15dXV1dXe0/BKw7kiU26z8lT/b7aFbpPw==",
          "dtype": "f8"
         },
         "yaxis": "y4"
        },
        {
         "legendgroup": "Dilma Rousseff",
         "marker": {
          "color": "black",
          "size": 10,
          "symbol": "circle"
         },
         "mode": "markers",
         "name": "Dilma Rousseff",
         "showlegend": false,
         "type": "scatter",
         "x": {
          "bdata": "3wfgBw==",
          "dtype": "i2"
         },
         "xaxis": "x4",
         "y": {
          "bdata": "PkS95gTV7T+gn5+fn5/vPw==",
          "dtype": "f8"
         },
         "yaxis": "y4"
        },
        {
         "legendgroup": "Michel Temer",
         "marker": {
          "color": "black",
          "size": 10,
          "symbol": "circle"
         },
         "mode": "markers",
         "name": "Michel Temer",
         "showlegend": false,
         "type": "scatter",
         "x": {
          "bdata": "4AfhB+IH",
          "dtype": "i2"
         },
         "xaxis": "x4",
         "y": {
          "bdata": "NDMzMzOz7z+LHEIzsA3vPzb/jGkywOw/",
          "dtype": "f8"
         },
         "yaxis": "y4"
        },
        {
         "legendgroup": "Jair Bolsonaro",
         "marker": {
          "color": "black",
          "size": 10,
          "symbol": "circle"
         },
         "mode": "markers",
         "name": "Jair Bolsonaro",
         "showlegend": false,
         "type": "scatter",
         "x": {
          "bdata": "4wfkB+UH5gc=",
          "dtype": "i2"
         },
         "xaxis": "x4",
         "y": {
          "bdata": "1TA7OIJI6z+bCOSaCOTqP67yxfBPXOs/Xl1dXV1d7T8=",
          "dtype": "f8"
         },
         "yaxis": "y4"
        },
        {
         "legendgroup": "Luiz Inácio Lula da Silva",
         "marker": {
          "color": "black",
          "size": 10,
          "symbol": "circle"
         },
         "mode": "markers",
         "name": "Luiz Inácio Lula da Silva",
         "showlegend": false,
         "type": "scatter",
         "x": {
          "bdata": "5wfoBw==",
          "dtype": "i2"
         },
         "xaxis": "x4",
         "y": {
          "bdata": "BKw7kiU26z8lT/b7aFbpPw==",
          "dtype": "f8"
         },
         "yaxis": "y4"
        },
        {
         "legendgroup": "alinhada",
         "line": {
          "color": "blue",
          "dash": "solid"
         },
         "marker": {
          "color": "blue"
         },
         "mode": "lines+markers",
         "name": "alinhada",
         "showlegend": false,
         "type": "scatter",
         "x": {
          "bdata": "3wfgB+AH4QfiB+MH5AflB+YH5wfoBw==",
          "dtype": "i2"
         },
         "xaxis": "x5",
         "y": {
          "bdata": "dqHodaHo5T/N2xkS83bmP7kmArkmAuk/AqVqljW+5z+Xb/mWb/nmPy8UaZ//Cec/HlMDe8fU5j9rMwkHq2TmP8B9s9aDguU/wM4fti+R5z87nQ1z70HnPw==",
          "dtype": "f8"
         },
         "yaxis": "y5"
        },
        {
         "legendgroup": "Dilma Rousseff",
         "marker": {
          "color": "black",
          "size": 10,
          "symbol": "circle"
         },
         "mode": "markers",
         "name": "Dilma Rousseff",
         "showlegend": false,
         "type": "scatter",
         "x": {
          "bdata": "3wfgBw==",
          "dtype": "i2"
         },
         "xaxis": "x5",
         "y": {
          "bdata": "dqHodaHo5T/N2xkS83bmPw==",
          "dtype": "f8"
         },
         "yaxis": "y5"
        },
        {
         "legendgroup": "Michel Temer",
         "marker": {
          "color": "black",
          "size": 10,
          "symbol": "circle"
         },
         "mode": "markers",
         "name": "Michel Temer",
         "showlegend": false,
         "type": "scatter",
         "x": {
          "bdata": "4AfhB+IH",
          "dtype": "i2"
         },
         "xaxis": "x5",
         "y": {
          "bdata": "uSYCuSYC6T8CpWqWNb7nP5dv+ZZv+eY/",
          "dtype": "f8"
         },
         "yaxis": "y5"
        },
        {
         "legendgroup": "Jair Bolsonaro",
         "marker": {
          "color": "black",
          "size": 10,
          "symbol": "circle"
         },
         "mode": "markers",
         "name": "Jair Bolsonaro",
         "showlegend": false,
         "type": "scatter",
         "x": {
          "bdata": "4wfkB+UH5gc=",
          "dtype": "i2"
         },
         "xaxis": "x5",
         "y": {
          "bdata": "LxRpn/8J5z8eUwN7x9TmP2szCQerZOY/wH2z1oOC5T8=",
          "dtype": "f8"
         },
         "yaxis": "y5"
        },
        {
         "legendgroup": "Luiz Inácio Lula da Silva",
         "marker": {
          "color": "black",
          "size": 10,
          "symbol": "circle"
         },
         "mode": "markers",
         "name": "Luiz Inácio Lula da Silva",
         "showlegend": false,
         "type": "scatter",
         "x": {
          "bdata": "5wfoBw==",
          "dtype": "i2"
         },
         "xaxis": "x5",
         "y": {
          "bdata": "wM4fti+R5z87nQ1z70HnPw==",
          "dtype": "f8"
         },
         "yaxis": "y5"
        },
        {
         "legendgroup": "alinhada",
         "line": {
          "color": "blue",
          "dash": "solid"
         },
         "marker": {
          "color": "blue"
         },
         "mode": "lines+markers",
         "name": "alinhada",
         "showlegend": false,
         "type": "scatter",
         "x": {
          "bdata": "3wfgB+AH4QfiB+MH5AflB+YH5wfoBw==",
          "dtype": "i2"
         },
         "xaxis": "x6",
         "y": {
          "bdata": "hxtuuOGG6z9JsRbgJOzrPzKdxXQW0+k/KR5IJ6VC7D+yVC3iDOrrP+QLlFIHces//RITOMcQ5j9nNQ4uND/mP57H6sMk4uU/S4IAOfAY6T9z89wzTYroPw==",
          "dtype": "f8"
         },
         "yaxis": "y6"
        },
        {
         "legendgroup": "Dilma Rousseff",
         "marker": {
          "color": "black",
          "size": 10,
          "symbol": "circle"
         },
         "mode": "markers",
         "name": "Dilma Rousseff",
         "showlegend": false,
         "type": "scatter",
         "x": {
          "bdata": "3wfgBw==",
          "dtype": "i2"
         },
         "xaxis": "x6",
         "y": {
          "bdata": "hxtuuOGG6z9JsRbgJOzrPw==",
          "dtype": "f8"
         },
         "yaxis": "y6"
        },
        {
         "legendgroup": "Michel Temer",
         "marker": {
          "color": "black",
          "size": 10,
          "symbol": "circle"
         },
         "mode": "markers",
         "name": "Michel Temer",
         "showlegend": false,
         "type": "scatter",
         "x": {
          "bdata": "4AfhB+IH",
          "dtype": "i2"
         },
         "xaxis": "x6",
         "y": {
          "bdata": "Mp3FdBbT6T8pHkgnpULsP7JULeIM6us/",
          "dtype": "f8"
         },
         "yaxis": "y6"
        },
        {
         "legendgroup": "Jair Bolsonaro",
         "marker": {
          "color": "black",
          "size": 10,
          "symbol": "circle"
         },
         "mode": "markers",
         "name": "Jair Bolsonaro",
         "showlegend": false,
         "type": "scatter",
         "x": {
          "bdata": "4wfkB+UH5gc=",
          "dtype": "i2"
         },
         "xaxis": "x6",
         "y": {
          "bdata": "5AuUUgdx6z/9EhM4xxDmP2c1Di40P+Y/nsfqwyTi5T8=",
          "dtype": "f8"
         },
         "yaxis": "y6"
        },
        {
         "legendgroup": "Luiz Inácio Lula da Silva",
         "marker": {
          "color": "black",
          "size": 10,
          "symbol": "circle"
         },
         "mode": "markers",
         "name": "Luiz Inácio Lula da Silva",
         "showlegend": false,
         "type": "scatter",
         "x": {
          "bdata": "5wfoBw==",
          "dtype": "i2"
         },
         "xaxis": "x6",
         "y": {
          "bdata": "S4IAOfAY6T9z89wzTYroPw==",
          "dtype": "f8"
         },
         "yaxis": "y6"
        },
        {
         "legendgroup": "alinhada",
         "line": {
          "color": "blue",
          "dash": "solid"
         },
         "marker": {
          "color": "blue"
         },
         "mode": "lines+markers",
         "name": "alinhada",
         "showlegend": false,
         "type": "scatter",
         "x": {
          "bdata": "3wfgB+AH4QfiB+MH5AflB+YH5gfnB+cH6AfoBw==",
          "dtype": "i2"
         },
         "xaxis": "x7",
         "y": {
          "bdata": "VzurndXO6j8RuLEMSoXpPy666KKLLuo/G0yRz7rB5D+yKIuyKIviPz6tceK6B+U/uJm8EYJk5j/uZMCeXtTkPwAAAAAAAAAAz3zxYKE64z/39vb29vbmP7SX0F5Ce+k/kCplJBus5z+73yi73yjrPw==",
          "dtype": "f8"
         },
         "yaxis": "y7"
        },
        {
         "legendgroup": "neutra",
         "line": {
          "color": "black",
          "dash": "dash"
         },
         "marker": {
          "color": "black"
         },
         "mode": "lines+markers",
         "name": "neutra",
         "showlegend": false,
         "type": "scatter",
         "x": {
          "bdata": "3wffB+AH4AfgB+AH4QfhB+IH4gfjB+MH4wfkB+QH5AflB+UH5QfmB+YH5gfnB+cH5wfoB+gH6Ac=",
          "dtype": "i2"
         },
         "xaxis": "x7",
         "y": {
          "bdata": "o4suuuii6T8atQZykrnqPxM7sRM7ses/j+A+gvsI6j+rqqqqqqrqP2mR7Xw/NeY/nDC/q8VN6D9aD6PfHfjqPzN+u9ST8es/h+p2qG6H6j98IgPp/bnmP9J5iyGdt+Q/jmkTUIp66T+jzjRuYNTpPxx0ikVFTLY/Nh7NH2w86j+0tLS0tLToP5goHMVjusg/dFhhEP8V6z9IUFMh2vDpPz6SV6ThB+k/P94kfWvV6T+VjUz12rrrPxWQ8JMLUec/vw7GrDR67D8MdhmhBAbrPy1PItOw3eQ/vNKEFZvH6z8=",
          "dtype": "f8"
         },
         "yaxis": "y7"
        },
        {
         "legendgroup": "Dilma Rousseff",
         "marker": {
          "color": "black",
          "size": 10,
          "symbol": "circle"
         },
         "mode": "markers",
         "name": "Dilma Rousseff",
         "showlegend": false,
         "type": "scatter",
         "x": {
          "bdata": "3wffB98H4AfgB+AH",
          "dtype": "i2"
         },
         "xaxis": "x7",
         "y": {
          "bdata": "VzurndXO6j+jiy666KLpPxq1BnKSueo/EbixDEqF6T8TO7ETO7HrP4/gPoL7COo/",
          "dtype": "f8"
         },
         "yaxis": "y7"
        },
        {
         "legendgroup": "Michel Temer",
         "marker": {
          "color": "black",
          "size": 10,
          "symbol": "circle"
         },
         "mode": "markers",
         "name": "Michel Temer",
         "showlegend": false,
         "type": "scatter",
         "x": {
          "bdata": "4AfgB+AH4QfhB+EH4gfiB+IH",
          "dtype": "i2"
         },
         "xaxis": "x7",
         "y": {
          "bdata": "q6qqqqqq6j9pke18PzXmPy666KKLLuo/nDC/q8VN6D9aD6PfHfjqPxtMkc+6weQ/M3671JPx6z+H6naobofqP7Ioi7Ioi+I/",
          "dtype": "f8"
         },
         "yaxis": "y7"
        },
        {
         "legendgroup": "Jair Bolsonaro",
         "marker": {
          "color": "black",
          "size": 10,
          "symbol": "circle"
         },
         "mode": "markers",
         "name": "Jair Bolsonaro",
         "showlegend": false,
         "type": "scatter",
         "x": {
          "bdata": "4wfjB+MH4wfkB+QH5AfkB+UH5QflB+UH5gfmB+YH5gfmBw==",
          "dtype": "i2"
         },
         "xaxis": "x7",
         "y": {
          "bdata": "fCID6f255j/SeYshnbfkPz6tceK6B+U/jmkTUIp66T+jzjRuYNTpPxx0ikVFTLY/uJm8EYJk5j82Hs0fbDzqP7S0tLS0tOg/mCgcxWO6yD/uZMCeXtTkP3RYYRD/Fes/AAAAAAAAAABIUFMh2vDpPz6SV6ThB+k/z3zxYKE64z8/3iR9a9XpPw==",
          "dtype": "f8"
         },
         "yaxis": "y7"
        },
        {
         "legendgroup": "Luiz Inácio Lula da Silva",
         "marker": {
          "color": "black",
          "size": 10,
          "symbol": "circle"
         },
         "mode": "markers",
         "name": "Luiz Inácio Lula da Silva",
         "showlegend": false,
         "type": "scatter",
         "x": {
          "bdata": "5wfnB+cH5wfnB+gH6AfoB+gH6Ac=",
          "dtype": "i2"
         },
         "xaxis": "x7",
         "y": {
          "bdata": "9/b29vb25j+0l9BeQnvpP5WNTPXauus/FZDwkwtR5z+/DsasNHrsP5AqZSQbrOc/u98ou98o6z8MdhmhBAbrPy1PItOw3eQ/vNKEFZvH6z8=",
          "dtype": "f8"
         },
         "yaxis": "y7"
        },
        {
         "legendgroup": "contra",
         "line": {
          "color": "red",
          "dash": "dash"
         },
         "marker": {
          "color": "red"
         },
         "mode": "lines+markers",
         "name": "contra",
         "showlegend": false,
         "type": "scatter",
         "x": {
          "bdata": "3wfgB+AH4QfiB+MH5AflB+YH5wfoBw==",
          "dtype": "i2"
         },
         "xaxis": "x8",
         "y": {
          "bdata": "bLmx5caW6z8ubhVskDzkPyIZUM9Urus/7JVjiKRQ6z8AAAAAAKTpP93pNQ1HHeY/F9bXjhNo5j8sYn0PmuDpP6FCJ8xYZ+k/hmAdbd6n6j+W1KCnG3XqPw==",
          "dtype": "f8"
         },
         "yaxis": "y8"
        },
        {
         "legendgroup": "Dilma Rousseff",
         "marker": {
          "color": "black",
          "size": 10,
          "symbol": "circle"
         },
         "mode": "markers",
         "name": "Dilma Rousseff",
         "showlegend": false,
         "type": "scatter",
         "x": {
          "bdata": "3wfgBw==",
          "dtype": "i2"
         },
         "xaxis": "x8",
         "y": {
          "bdata": "bLmx5caW6z8ubhVskDzkPw==",
          "dtype": "f8"
         },
         "yaxis": "y8"
        },
        {
         "legendgroup": "Michel Temer",
         "marker": {
          "color": "black",
          "size": 10,
          "symbol": "circle"
         },
         "mode": "markers",
         "name": "Michel Temer",
         "showlegend": false,
         "type": "scatter",
         "x": {
          "bdata": "4AfhB+IH",
          "dtype": "i2"
         },
         "xaxis": "x8",
         "y": {
          "bdata": "IhlQz1Su6z/slWOIpFDrPwAAAAAApOk/",
          "dtype": "f8"
         },
         "yaxis": "y8"
        },
        {
         "legendgroup": "Jair Bolsonaro",
         "marker": {
          "color": "black",
          "size": 10,
          "symbol": "circle"
         },
         "mode": "markers",
         "name": "Jair Bolsonaro",
         "showlegend": false,
         "type": "scatter",
         "x": {
          "bdata": "4wfkB+UH5gc=",
          "dtype": "i2"
         },
         "xaxis": "x8",
         "y": {
          "bdata": "3ek1DUcd5j8X1teOE2jmPyxifQ+a4Ok/oUInzFhn6T8=",
          "dtype": "f8"
         },
         "yaxis": "y8"
        },
        {
         "legendgroup": "Luiz Inácio Lula da Silva",
         "marker": {
          "color": "black",
          "size": 10,
          "symbol": "circle"
         },
         "mode": "markers",
         "name": "Luiz Inácio Lula da Silva",
         "showlegend": false,
         "type": "scatter",
         "x": {
          "bdata": "5wfoBw==",
          "dtype": "i2"
         },
         "xaxis": "x8",
         "y": {
          "bdata": "hmAdbd6n6j+W1KCnG3XqPw==",
          "dtype": "f8"
         },
         "yaxis": "y8"
        },
        {
         "legendgroup": "alinhada",
         "line": {
          "color": "blue",
          "dash": "solid"
         },
         "marker": {
          "color": "blue"
         },
         "mode": "lines+markers",
         "name": "alinhada",
         "showlegend": false,
         "type": "scatter",
         "x": {
          "bdata": "3wfgB+AH4QfiB+MH5AflB+YH5wfoBw==",
          "dtype": "i2"
         },
         "xaxis": "x9",
         "y": {
          "bdata": "SZgYd0vx5j8doR+gyhHmP5YYfNE38OI/PlcClBgS4j+dNd2kXQHlP7H1bcBQTd8/wK6djHtq2T+HD/iGCV7hP9S4TQ6uFOA/shIrsRIr5T9qxrELTbDmPw==",
          "dtype": "f8"
         },
         "yaxis": "y9"
        },
        {
         "legendgroup": "Dilma Rousseff",
         "marker": {
          "color": "black",
          "size": 10,
          "symbol": "circle"
         },
         "mode": "markers",
         "name": "Dilma Rousseff",
         "showlegend": false,
         "type": "scatter",
         "x": {
          "bdata": "3wfgBw==",
          "dtype": "i2"
         },
         "xaxis": "x9",
         "y": {
          "bdata": "SZgYd0vx5j8doR+gyhHmPw==",
          "dtype": "f8"
         },
         "yaxis": "y9"
        },
        {
         "legendgroup": "Michel Temer",
         "marker": {
          "color": "black",
          "size": 10,
          "symbol": "circle"
         },
         "mode": "markers",
         "name": "Michel Temer",
         "showlegend": false,
         "type": "scatter",
         "x": {
          "bdata": "4AfhB+IH",
          "dtype": "i2"
         },
         "xaxis": "x9",
         "y": {
          "bdata": "lhh80Tfw4j8+VwKUGBLiP5013aRdAeU/",
          "dtype": "f8"
         },
         "yaxis": "y9"
        },
        {
         "legendgroup": "Jair Bolsonaro",
         "marker": {
          "color": "black",
          "size": 10,
          "symbol": "circle"
         },
         "mode": "markers",
         "name": "Jair Bolsonaro",
         "showlegend": false,
         "type": "scatter",
         "x": {
          "bdata": "4wfkB+UH5gc=",
          "dtype": "i2"
         },
         "xaxis": "x9",
         "y": {
          "bdata": "sfVtwFBN3z/Arp2Me2rZP4cP+IYJXuE/1LhNDq4U4D8=",
          "dtype": "f8"
         },
         "yaxis": "y9"
        },
        {
         "legendgroup": "Luiz Inácio Lula da Silva",
         "marker": {
          "color": "black",
          "size": 10,
          "symbol": "circle"
         },
         "mode": "markers",
         "name": "Luiz Inácio Lula da Silva",
         "showlegend": false,
         "type": "scatter",
         "x": {
          "bdata": "5wfoBw==",
          "dtype": "i2"
         },
         "xaxis": "x9",
         "y": {
          "bdata": "shIrsRIr5T9qxrELTbDmPw==",
          "dtype": "f8"
         },
         "yaxis": "y9"
        },
        {
         "legendgroup": "alinhada",
         "line": {
          "color": "blue",
          "dash": "solid"
         },
         "marker": {
          "color": "blue"
         },
         "mode": "lines+markers",
         "name": "alinhada",
         "showlegend": false,
         "type": "scatter",
         "x": {
          "bdata": "3wfgB+AH4QfiB+MH5AflB+YH5wfoBw==",
          "dtype": "i2"
         },
         "xaxis": "x10",
         "y": {
          "bdata": "RA2TxUzQ6j9HbuRGbuTqP4+pgb1jaug/fQ6pCcZb6T9C1Z8nmVjnP68rNhq6D+Y/Ei4GuXwK6D+DojNHy4boP/qbv/mbv+k/UrgehetR6D9eQ3kN5TXkPw==",
          "dtype": "f8"
         },
         "yaxis": "y10"
        },
        {
         "legendgroup": "Dilma Rousseff",
         "marker": {
          "color": "black",
          "size": 10,
          "symbol": "circle"
         },
         "mode": "markers",
         "name": "Dilma Rousseff",
         "showlegend": false,
         "type": "scatter",
         "x": {
          "bdata": "3wfgBw==",
          "dtype": "i2"
         },
         "xaxis": "x10",
         "y": {
          "bdata": "RA2TxUzQ6j9HbuRGbuTqPw==",
          "dtype": "f8"
         },
         "yaxis": "y10"
        },
        {
         "legendgroup": "Michel Temer",
         "marker": {
          "color": "black",
          "size": 10,
          "symbol": "circle"
         },
         "mode": "markers",
         "name": "Michel Temer",
         "showlegend": false,
         "type": "scatter",
         "x": {
          "bdata": "4AfhB+IH",
          "dtype": "i2"
         },
         "xaxis": "x10",
         "y": {
          "bdata": "j6mBvWNq6D99DqkJxlvpP0LVnyeZWOc/",
          "dtype": "f8"
         },
         "yaxis": "y10"
        },
        {
         "legendgroup": "Jair Bolsonaro",
         "marker": {
          "color": "black",
          "size": 10,
          "symbol": "circle"
         },
         "mode": "markers",
         "name": "Jair Bolsonaro",
         "showlegend": false,
         "type": "scatter",
         "x": {
          "bdata": "4wfkB+UH5gc=",
          "dtype": "i2"
         },
         "xaxis": "x10",
         "y": {
          "bdata": "rys2GroP5j8SLga5fAroP4OiM0fLhug/+pu/+Zu/6T8=",
          "dtype": "f8"
         },
         "yaxis": "y10"
        },
        {
         "legendgroup": "Luiz Inácio Lula da Silva",
         "marker": {
          "color": "black",
          "size": 10,
          "symbol": "circle"
         },
         "mode": "markers",
         "name": "Luiz Inácio Lula da Silva",
         "showlegend": false,
         "type": "scatter",
         "x": {
          "bdata": "5wfoBw==",
          "dtype": "i2"
         },
         "xaxis": "x10",
         "y": {
          "bdata": "UrgehetR6D9eQ3kN5TXkPw==",
          "dtype": "f8"
         },
         "yaxis": "y10"
        },
        {
         "legendgroup": "contra",
         "line": {
          "color": "red",
          "dash": "dash"
         },
         "marker": {
          "color": "red"
         },
         "mode": "lines+markers",
         "name": "contra",
         "showlegend": false,
         "type": "scatter",
         "x": {
          "bdata": "3wfgB+AH4QfiB+MH5AflB+YH5wfoBw==",
          "dtype": "i2"
         },
         "xaxis": "x11",
         "y": {
          "bdata": "f2Wi0E1J5T8oGYtqmB3sP/2uFjdhfuc/xZnWnvw75z/yLCP6gOroPyupraS2kuo/4JrGFv8o6z982aDJlw3qP5qZmZmZmek/elrojl0N6z8bJ9/8kbjqPw==",
          "dtype": "f8"
         },
         "yaxis": "y11"
        },
        {
         "legendgroup": "Dilma Rousseff",
         "marker": {
          "color": "black",
          "size": 10,
          "symbol": "circle"
         },
         "mode": "markers",
         "name": "Dilma Rousseff",
         "showlegend": false,
         "type": "scatter",
         "x": {
          "bdata": "3wfgBw==",
          "dtype": "i2"
         },
         "xaxis": "x11",
         "y": {
          "bdata": "f2Wi0E1J5T8oGYtqmB3sPw==",
          "dtype": "f8"
         },
         "yaxis": "y11"
        },
        {
         "legendgroup": "Michel Temer",
         "marker": {
          "color": "black",
          "size": 10,
          "symbol": "circle"
         },
         "mode": "markers",
         "name": "Michel Temer",
         "showlegend": false,
         "type": "scatter",
         "x": {
          "bdata": "4AfhB+IH",
          "dtype": "i2"
         },
         "xaxis": "x11",
         "y": {
          "bdata": "/a4WN2F+5z/Fmdae/DvnP/IsI/qA6ug/",
          "dtype": "f8"
         },
         "yaxis": "y11"
        },
        {
         "legendgroup": "Jair Bolsonaro",
         "marker": {
          "color": "black",
          "size": 10,
          "symbol": "circle"
         },
         "mode": "markers",
         "name": "Jair Bolsonaro",
         "showlegend": false,
         "type": "scatter",
         "x": {
          "bdata": "4wfkB+UH5gc=",
          "dtype": "i2"
         },
         "xaxis": "x11",
         "y": {
          "bdata": "K6mtpLaS6j/gmsYW/yjrP3zZoMmXDeo/mpmZmZmZ6T8=",
          "dtype": "f8"
         },
         "yaxis": "y11"
        },
        {
         "legendgroup": "Luiz Inácio Lula da Silva",
         "marker": {
          "color": "black",
          "size": 10,
          "symbol": "circle"
         },
         "mode": "markers",
         "name": "Luiz Inácio Lula da Silva",
         "showlegend": false,
         "type": "scatter",
         "x": {
          "bdata": "5wfoBw==",
          "dtype": "i2"
         },
         "xaxis": "x11",
         "y": {
          "bdata": "elrojl0N6z8bJ9/8kbjqPw==",
          "dtype": "f8"
         },
         "yaxis": "y11"
        },
        {
         "legendgroup": "contra",
         "line": {
          "color": "red",
          "dash": "dash"
         },
         "marker": {
          "color": "red"
         },
         "mode": "lines+markers",
         "name": "contra",
         "showlegend": false,
         "type": "scatter",
         "x": {
          "bdata": "3wfgB+AH4QfiB+MH5AflB+YH5wfoBw==",
          "dtype": "i2"
         },
         "xaxis": "x12",
         "y": {
          "bdata": "FJqja9Rs7T+Ay1ws56jtPxZZkRVZke0/zBLCj0Q87T8SMhe+YNrsP0UCNihw1Os/zv9j71rA6j9WL5UsigDqPyBlJTAhQeo/Slw2guoZ6z8WLmPTGFLsPw==",
          "dtype": "f8"
         },
         "yaxis": "y12"
        },
        {
         "legendgroup": "Dilma Rousseff",
         "marker": {
          "color": "black",
          "size": 10,
          "symbol": "circle"
         },
         "mode": "markers",
         "name": "Dilma Rousseff",
         "showlegend": false,
         "type": "scatter",
         "x": {
          "bdata": "3wfgBw==",
          "dtype": "i2"
         },
         "xaxis": "x12",
         "y": {
          "bdata": "FJqja9Rs7T+Ay1ws56jtPw==",
          "dtype": "f8"
         },
         "yaxis": "y12"
        },
        {
         "legendgroup": "Michel Temer",
         "marker": {
          "color": "black",
          "size": 10,
          "symbol": "circle"
         },
         "mode": "markers",
         "name": "Michel Temer",
         "showlegend": false,
         "type": "scatter",
         "x": {
          "bdata": "4AfhB+IH",
          "dtype": "i2"
         },
         "xaxis": "x12",
         "y": {
          "bdata": "FlmRFVmR7T/MEsKPRDztPxIyF75g2uw/",
          "dtype": "f8"
         },
         "yaxis": "y12"
        },
        {
         "legendgroup": "Jair Bolsonaro",
         "marker": {
          "color": "black",
          "size": 10,
          "symbol": "circle"
         },
         "mode": "markers",
         "name": "Jair Bolsonaro",
         "showlegend": false,
         "type": "scatter",
         "x": {
          "bdata": "4wfkB+UH5gc=",
          "dtype": "i2"
         },
         "xaxis": "x12",
         "y": {
          "bdata": "RQI2KHDU6z/O/2PvWsDqP1YvlSyKAOo/IGUlMCFB6j8=",
          "dtype": "f8"
         },
         "yaxis": "y12"
        },
        {
         "legendgroup": "Luiz Inácio Lula da Silva",
         "marker": {
          "color": "black",
          "size": 10,
          "symbol": "circle"
         },
         "mode": "markers",
         "name": "Luiz Inácio Lula da Silva",
         "showlegend": false,
         "type": "scatter",
         "x": {
          "bdata": "5wfoBw==",
          "dtype": "i2"
         },
         "xaxis": "x12",
         "y": {
          "bdata": "Slw2guoZ6z8WLmPTGFLsPw==",
          "dtype": "f8"
         },
         "yaxis": "y12"
        },
        {
         "legendgroup": "alinhada",
         "line": {
          "color": "blue",
          "dash": "solid"
         },
         "marker": {
          "color": "blue"
         },
         "mode": "lines+markers",
         "name": "alinhada",
         "showlegend": false,
         "type": "scatter",
         "x": {
          "bdata": "5gfnB+gH",
          "dtype": "i2"
         },
         "xaxis": "x13",
         "y": {
          "bdata": "AAAAAAAAAAC0l9BeQnvpP7vfKLvfKOs/",
          "dtype": "f8"
         },
         "yaxis": "y13"
        },
        {
         "legendgroup": "Dilma Rousseff",
         "marker": {
          "color": "black",
          "size": 10,
          "symbol": "circle"
         },
         "mode": "markers",
         "name": "Dilma Rousseff",
         "showlegend": false,
         "type": "scatter",
         "x": [],
         "xaxis": "x13",
         "y": [],
         "yaxis": "y13"
        },
        {
         "legendgroup": "Michel Temer",
         "marker": {
          "color": "black",
          "size": 10,
          "symbol": "circle"
         },
         "mode": "markers",
         "name": "Michel Temer",
         "showlegend": false,
         "type": "scatter",
         "x": [],
         "xaxis": "x13",
         "y": [],
         "yaxis": "y13"
        },
        {
         "legendgroup": "Jair Bolsonaro",
         "marker": {
          "color": "black",
          "size": 10,
          "symbol": "circle"
         },
         "mode": "markers",
         "name": "Jair Bolsonaro",
         "showlegend": false,
         "type": "scatter",
         "x": {
          "bdata": "5gc=",
          "dtype": "i2"
         },
         "xaxis": "x13",
         "y": {
          "bdata": "AAAAAAAAAAA=",
          "dtype": "f8"
         },
         "yaxis": "y13"
        },
        {
         "legendgroup": "Luiz Inácio Lula da Silva",
         "marker": {
          "color": "black",
          "size": 10,
          "symbol": "circle"
         },
         "mode": "markers",
         "name": "Luiz Inácio Lula da Silva",
         "showlegend": false,
         "type": "scatter",
         "x": {
          "bdata": "5wfoBw==",
          "dtype": "i2"
         },
         "xaxis": "x13",
         "y": {
          "bdata": "tJfQXkJ76T+73yi73yjrPw==",
          "dtype": "f8"
         },
         "yaxis": "y13"
        }
       ],
       "layout": {
        "annotations": [
         {
          "font": {
           "size": 16
          },
          "showarrow": false,
          "text": "Agência ANVISA",
          "x": 0.225,
          "xanchor": "center",
          "xref": "paper",
          "y": 0.9999999999999999,
          "yanchor": "bottom",
          "yref": "paper"
         },
         {
          "font": {
           "size": 16
          },
          "showarrow": false,
          "text": "Agência EBC",
          "x": 0.775,
          "xanchor": "center",
          "xref": "paper",
          "y": 0.9999999999999999,
          "yanchor": "bottom",
          "yref": "paper"
         },
         {
          "font": {
           "size": 16
          },
          "showarrow": false,
          "text": "Agência FUNAI",
          "x": 0.225,
          "xanchor": "center",
          "xref": "paper",
          "y": 0.8469387755102039,
          "yanchor": "bottom",
          "yref": "paper"
         },
         {
          "font": {
           "size": 16
          },
          "showarrow": false,
          "text": "Agência IBAMA",
          "x": 0.775,
          "xanchor": "center",
          "xref": "paper",
          "y": 0.8469387755102039,
          "yanchor": "bottom",
          "yref": "paper"
         },
         {
          "font": {
           "size": 16
          },
          "showarrow": false,
          "text": "Agência CGU",
          "x": 0.225,
          "xanchor": "center",
          "xref": "paper",
          "y": 0.6938775510204082,
          "yanchor": "bottom",
          "yref": "paper"
         },
         {
          "font": {
           "size": 16
          },
          "showarrow": false,
          "text": "Agência MAPA",
          "x": 0.775,
          "xanchor": "center",
          "xref": "paper",
          "y": 0.6938775510204082,
          "yanchor": "bottom",
          "yref": "paper"
         },
         {
          "font": {
           "size": 16
          },
          "showarrow": false,
          "text": "Agência MD",
          "x": 0.225,
          "xanchor": "center",
          "xref": "paper",
          "y": 0.5408163265306122,
          "yanchor": "bottom",
          "yref": "paper"
         },
         {
          "font": {
           "size": 16
          },
          "showarrow": false,
          "text": "Agência MEC",
          "x": 0.775,
          "xanchor": "center",
          "xref": "paper",
          "y": 0.5408163265306122,
          "yanchor": "bottom",
          "yref": "paper"
         },
         {
          "font": {
           "size": 16
          },
          "showarrow": false,
          "text": "Agência MF",
          "x": 0.225,
          "xanchor": "center",
          "xref": "paper",
          "y": 0.3877551020408163,
          "yanchor": "bottom",
          "yref": "paper"
         },
         {
          "font": {
           "size": 16
          },
          "showarrow": false,
          "text": "Agência MJSP",
          "x": 0.775,
          "xanchor": "center",
          "xref": "paper",
          "y": 0.3877551020408163,
          "yanchor": "bottom",
          "yref": "paper"
         },
         {
          "font": {
           "size": 16
          },
          "showarrow": false,
          "text": "Agência MMA",
          "x": 0.225,
          "xanchor": "center",
          "xref": "paper",
          "y": 0.2346938775510204,
          "yanchor": "bottom",
          "yref": "paper"
         },
         {
          "font": {
           "size": 16
          },
          "showarrow": false,
          "text": "Agência MS",
          "x": 0.775,
          "xanchor": "center",
          "xref": "paper",
          "y": 0.2346938775510204,
          "yanchor": "bottom",
          "yref": "paper"
         },
         {
          "font": {
           "size": 16
          },
          "showarrow": false,
          "text": "Agência MDA",
          "x": 0.225,
          "xanchor": "center",
          "xref": "paper",
          "y": 0.08163265306122448,
          "yanchor": "bottom",
          "yref": "paper"
         }
        ],
        "height": 2100,
        "legend": {
         "orientation": "h",
         "x": 0.5,
         "y": -0.2
        },
        "showlegend": true,
        "template": {
         "data": {
          "bar": [
           {
            "error_x": {
             "color": "#2a3f5f"
            },
            "error_y": {
             "color": "#2a3f5f"
            },
            "marker": {
             "line": {
              "color": "#E5ECF6",
              "width": 0.5
             },
             "pattern": {
              "fillmode": "overlay",
              "size": 10,
              "solidity": 0.2
             }
            },
            "type": "bar"
           }
          ],
          "barpolar": [
           {
            "marker": {
             "line": {
              "color": "#E5ECF6",
              "width": 0.5
             },
             "pattern": {
              "fillmode": "overlay",
              "size": 10,
              "solidity": 0.2
             }
            },
            "type": "barpolar"
           }
          ],
          "carpet": [
           {
            "aaxis": {
             "endlinecolor": "#2a3f5f",
             "gridcolor": "white",
             "linecolor": "white",
             "minorgridcolor": "white",
             "startlinecolor": "#2a3f5f"
            },
            "baxis": {
             "endlinecolor": "#2a3f5f",
             "gridcolor": "white",
             "linecolor": "white",
             "minorgridcolor": "white",
             "startlinecolor": "#2a3f5f"
            },
            "type": "carpet"
           }
          ],
          "choropleth": [
           {
            "colorbar": {
             "outlinewidth": 0,
             "ticks": ""
            },
            "type": "choropleth"
           }
          ],
          "contour": [
           {
            "colorbar": {
             "outlinewidth": 0,
             "ticks": ""
            },
            "colorscale": [
             [
              0,
              "#0d0887"
             ],
             [
              0.1111111111111111,
              "#46039f"
             ],
             [
              0.2222222222222222,
              "#7201a8"
             ],
             [
              0.3333333333333333,
              "#9c179e"
             ],
             [
              0.4444444444444444,
              "#bd3786"
             ],
             [
              0.5555555555555556,
              "#d8576b"
             ],
             [
              0.6666666666666666,
              "#ed7953"
             ],
             [
              0.7777777777777778,
              "#fb9f3a"
             ],
             [
              0.8888888888888888,
              "#fdca26"
             ],
             [
              1,
              "#f0f921"
             ]
            ],
            "type": "contour"
           }
          ],
          "contourcarpet": [
           {
            "colorbar": {
             "outlinewidth": 0,
             "ticks": ""
            },
            "type": "contourcarpet"
           }
          ],
          "heatmap": [
           {
            "colorbar": {
             "outlinewidth": 0,
             "ticks": ""
            },
            "colorscale": [
             [
              0,
              "#0d0887"
             ],
             [
              0.1111111111111111,
              "#46039f"
             ],
             [
              0.2222222222222222,
              "#7201a8"
             ],
             [
              0.3333333333333333,
              "#9c179e"
             ],
             [
              0.4444444444444444,
              "#bd3786"
             ],
             [
              0.5555555555555556,
              "#d8576b"
             ],
             [
              0.6666666666666666,
              "#ed7953"
             ],
             [
              0.7777777777777778,
              "#fb9f3a"
             ],
             [
              0.8888888888888888,
              "#fdca26"
             ],
             [
              1,
              "#f0f921"
             ]
            ],
            "type": "heatmap"
           }
          ],
          "histogram": [
           {
            "marker": {
             "pattern": {
              "fillmode": "overlay",
              "size": 10,
              "solidity": 0.2
             }
            },
            "type": "histogram"
           }
          ],
          "histogram2d": [
           {
            "colorbar": {
             "outlinewidth": 0,
             "ticks": ""
            },
            "colorscale": [
             [
              0,
              "#0d0887"
             ],
             [
              0.1111111111111111,
              "#46039f"
             ],
             [
              0.2222222222222222,
              "#7201a8"
             ],
             [
              0.3333333333333333,
              "#9c179e"
             ],
             [
              0.4444444444444444,
              "#bd3786"
             ],
             [
              0.5555555555555556,
              "#d8576b"
             ],
             [
              0.6666666666666666,
              "#ed7953"
             ],
             [
              0.7777777777777778,
              "#fb9f3a"
             ],
             [
              0.8888888888888888,
              "#fdca26"
             ],
             [
              1,
              "#f0f921"
             ]
            ],
            "type": "histogram2d"
           }
          ],
          "histogram2dcontour": [
           {
            "colorbar": {
             "outlinewidth": 0,
             "ticks": ""
            },
            "colorscale": [
             [
              0,
              "#0d0887"
             ],
             [
              0.1111111111111111,
              "#46039f"
             ],
             [
              0.2222222222222222,
              "#7201a8"
             ],
             [
              0.3333333333333333,
              "#9c179e"
             ],
             [
              0.4444444444444444,
              "#bd3786"
             ],
             [
              0.5555555555555556,
              "#d8576b"
             ],
             [
              0.6666666666666666,
              "#ed7953"
             ],
             [
              0.7777777777777778,
              "#fb9f3a"
             ],
             [
              0.8888888888888888,
              "#fdca26"
             ],
             [
              1,
              "#f0f921"
             ]
            ],
            "type": "histogram2dcontour"
           }
          ],
          "mesh3d": [
           {
            "colorbar": {
             "outlinewidth": 0,
             "ticks": ""
            },
            "type": "mesh3d"
           }
          ],
          "parcoords": [
           {
            "line": {
             "colorbar": {
              "outlinewidth": 0,
              "ticks": ""
             }
            },
            "type": "parcoords"
           }
          ],
          "pie": [
           {
            "automargin": true,
            "type": "pie"
           }
          ],
          "scatter": [
           {
            "fillpattern": {
             "fillmode": "overlay",
             "size": 10,
             "solidity": 0.2
            },
            "type": "scatter"
           }
          ],
          "scatter3d": [
           {
            "line": {
             "colorbar": {
              "outlinewidth": 0,
              "ticks": ""
             }
            },
            "marker": {
             "colorbar": {
              "outlinewidth": 0,
              "ticks": ""
             }
            },
            "type": "scatter3d"
           }
          ],
          "scattercarpet": [
           {
            "marker": {
             "colorbar": {
              "outlinewidth": 0,
              "ticks": ""
             }
            },
            "type": "scattercarpet"
           }
          ],
          "scattergeo": [
           {
            "marker": {
             "colorbar": {
              "outlinewidth": 0,
              "ticks": ""
             }
            },
            "type": "scattergeo"
           }
          ],
          "scattergl": [
           {
            "marker": {
             "colorbar": {
              "outlinewidth": 0,
              "ticks": ""
             }
            },
            "type": "scattergl"
           }
          ],
          "scattermap": [
           {
            "marker": {
             "colorbar": {
              "outlinewidth": 0,
              "ticks": ""
             }
            },
            "type": "scattermap"
           }
          ],
          "scattermapbox": [
           {
            "marker": {
             "colorbar": {
              "outlinewidth": 0,
              "ticks": ""
             }
            },
            "type": "scattermapbox"
           }
          ],
          "scatterpolar": [
           {
            "marker": {
             "colorbar": {
              "outlinewidth": 0,
              "ticks": ""
             }
            },
            "type": "scatterpolar"
           }
          ],
          "scatterpolargl": [
           {
            "marker": {
             "colorbar": {
              "outlinewidth": 0,
              "ticks": ""
             }
            },
            "type": "scatterpolargl"
           }
          ],
          "scatterternary": [
           {
            "marker": {
             "colorbar": {
              "outlinewidth": 0,
              "ticks": ""
             }
            },
            "type": "scatterternary"
           }
          ],
          "surface": [
           {
            "colorbar": {
             "outlinewidth": 0,
             "ticks": ""
            },
            "colorscale": [
             [
              0,
              "#0d0887"
             ],
             [
              0.1111111111111111,
              "#46039f"
             ],
             [
              0.2222222222222222,
              "#7201a8"
             ],
             [
              0.3333333333333333,
              "#9c179e"
             ],
             [
              0.4444444444444444,
              "#bd3786"
             ],
             [
              0.5555555555555556,
              "#d8576b"
             ],
             [
              0.6666666666666666,
              "#ed7953"
             ],
             [
              0.7777777777777778,
              "#fb9f3a"
             ],
             [
              0.8888888888888888,
              "#fdca26"
             ],
             [
              1,
              "#f0f921"
             ]
            ],
            "type": "surface"
           }
          ],
          "table": [
           {
            "cells": {
             "fill": {
              "color": "#EBF0F8"
             },
             "line": {
              "color": "white"
             }
            },
            "header": {
             "fill": {
              "color": "#C8D4E3"
             },
             "line": {
              "color": "white"
             }
            },
            "type": "table"
           }
          ]
         },
         "layout": {
          "annotationdefaults": {
           "arrowcolor": "#2a3f5f",
           "arrowhead": 0,
           "arrowwidth": 1
          },
          "autotypenumbers": "strict",
          "coloraxis": {
           "colorbar": {
            "outlinewidth": 0,
            "ticks": ""
           }
          },
          "colorscale": {
           "diverging": [
            [
             0,
             "#8e0152"
            ],
            [
             0.1,
             "#c51b7d"
            ],
            [
             0.2,
             "#de77ae"
            ],
            [
             0.3,
             "#f1b6da"
            ],
            [
             0.4,
             "#fde0ef"
            ],
            [
             0.5,
             "#f7f7f7"
            ],
            [
             0.6,
             "#e6f5d0"
            ],
            [
             0.7,
             "#b8e186"
            ],
            [
             0.8,
             "#7fbc41"
            ],
            [
             0.9,
             "#4d9221"
            ],
            [
             1,
             "#276419"
            ]
           ],
           "sequential": [
            [
             0,
             "#0d0887"
            ],
            [
             0.1111111111111111,
             "#46039f"
            ],
            [
             0.2222222222222222,
             "#7201a8"
            ],
            [
             0.3333333333333333,
             "#9c179e"
            ],
            [
             0.4444444444444444,
             "#bd3786"
            ],
            [
             0.5555555555555556,
             "#d8576b"
            ],
            [
             0.6666666666666666,
             "#ed7953"
            ],
            [
             0.7777777777777778,
             "#fb9f3a"
            ],
            [
             0.8888888888888888,
             "#fdca26"
            ],
            [
             1,
             "#f0f921"
            ]
           ],
           "sequentialminus": [
            [
             0,
             "#0d0887"
            ],
            [
             0.1111111111111111,
             "#46039f"
            ],
            [
             0.2222222222222222,
             "#7201a8"
            ],
            [
             0.3333333333333333,
             "#9c179e"
            ],
            [
             0.4444444444444444,
             "#bd3786"
            ],
            [
             0.5555555555555556,
             "#d8576b"
            ],
            [
             0.6666666666666666,
             "#ed7953"
            ],
            [
             0.7777777777777778,
             "#fb9f3a"
            ],
            [
             0.8888888888888888,
             "#fdca26"
            ],
            [
             1,
             "#f0f921"
            ]
           ]
          },
          "colorway": [
           "#636efa",
           "#EF553B",
           "#00cc96",
           "#ab63fa",
           "#FFA15A",
           "#19d3f3",
           "#FF6692",
           "#B6E880",
           "#FF97FF",
           "#FECB52"
          ],
          "font": {
           "color": "#2a3f5f"
          },
          "geo": {
           "bgcolor": "white",
           "lakecolor": "white",
           "landcolor": "#E5ECF6",
           "showlakes": true,
           "showland": true,
           "subunitcolor": "white"
          },
          "hoverlabel": {
           "align": "left"
          },
          "hovermode": "closest",
          "mapbox": {
           "style": "light"
          },
          "paper_bgcolor": "white",
          "plot_bgcolor": "#E5ECF6",
          "polar": {
           "angularaxis": {
            "gridcolor": "white",
            "linecolor": "white",
            "ticks": ""
           },
           "bgcolor": "#E5ECF6",
           "radialaxis": {
            "gridcolor": "white",
            "linecolor": "white",
            "ticks": ""
           }
          },
          "scene": {
           "xaxis": {
            "backgroundcolor": "#E5ECF6",
            "gridcolor": "white",
            "gridwidth": 2,
            "linecolor": "white",
            "showbackground": true,
            "ticks": "",
            "zerolinecolor": "white"
           },
           "yaxis": {
            "backgroundcolor": "#E5ECF6",
            "gridcolor": "white",
            "gridwidth": 2,
            "linecolor": "white",
            "showbackground": true,
            "ticks": "",
            "zerolinecolor": "white"
           },
           "zaxis": {
            "backgroundcolor": "#E5ECF6",
            "gridcolor": "white",
            "gridwidth": 2,
            "linecolor": "white",
            "showbackground": true,
            "ticks": "",
            "zerolinecolor": "white"
           }
          },
          "shapedefaults": {
           "line": {
            "color": "#2a3f5f"
           }
          },
          "ternary": {
           "aaxis": {
            "gridcolor": "white",
            "linecolor": "white",
            "ticks": ""
           },
           "baxis": {
            "gridcolor": "white",
            "linecolor": "white",
            "ticks": ""
           },
           "bgcolor": "#E5ECF6",
           "caxis": {
            "gridcolor": "white",
            "linecolor": "white",
            "ticks": ""
           }
          },
          "title": {
           "x": 0.05
          },
          "xaxis": {
           "automargin": true,
           "gridcolor": "white",
           "linecolor": "white",
           "ticks": "",
           "title": {
            "standoff": 15
           },
           "zerolinecolor": "white",
           "zerolinewidth": 2
          },
          "yaxis": {
           "automargin": true,
           "gridcolor": "white",
           "linecolor": "white",
           "ticks": "",
           "title": {
            "standoff": 15
           },
           "zerolinecolor": "white",
           "zerolinewidth": 2
          }
         }
        },
        "title": {
         "text": "Média de Conformidade das Agências ao Longo dos Anos"
        },
        "width": 1200,
        "xaxis": {
         "anchor": "y",
         "domain": [
          0,
          0.45
         ]
        },
        "xaxis10": {
         "anchor": "y10",
         "domain": [
          0.55,
          1
         ]
        },
        "xaxis11": {
         "anchor": "y11",
         "domain": [
          0,
          0.45
         ]
        },
        "xaxis12": {
         "anchor": "y12",
         "domain": [
          0.55,
          1
         ]
        },
        "xaxis13": {
         "anchor": "y13",
         "domain": [
          0,
          0.45
         ]
        },
        "xaxis14": {
         "anchor": "y14",
         "domain": [
          0.55,
          1
         ]
        },
        "xaxis2": {
         "anchor": "y2",
         "domain": [
          0.55,
          1
         ]
        },
        "xaxis3": {
         "anchor": "y3",
         "domain": [
          0,
          0.45
         ]
        },
        "xaxis4": {
         "anchor": "y4",
         "domain": [
          0.55,
          1
         ]
        },
        "xaxis5": {
         "anchor": "y5",
         "domain": [
          0,
          0.45
         ]
        },
        "xaxis6": {
         "anchor": "y6",
         "domain": [
          0.55,
          1
         ]
        },
        "xaxis7": {
         "anchor": "y7",
         "domain": [
          0,
          0.45
         ]
        },
        "xaxis8": {
         "anchor": "y8",
         "domain": [
          0.55,
          1
         ]
        },
        "xaxis9": {
         "anchor": "y9",
         "domain": [
          0,
          0.45
         ]
        },
        "yaxis": {
         "anchor": "x",
         "domain": [
          0.9183673469387754,
          0.9999999999999999
         ]
        },
        "yaxis10": {
         "anchor": "x10",
         "domain": [
          0.30612244897959184,
          0.3877551020408163
         ]
        },
        "yaxis11": {
         "anchor": "x11",
         "domain": [
          0.15306122448979592,
          0.2346938775510204
         ]
        },
        "yaxis12": {
         "anchor": "x12",
         "domain": [
          0.15306122448979592,
          0.2346938775510204
         ]
        },
        "yaxis13": {
         "anchor": "x13",
         "domain": [
          0,
          0.08163265306122448
         ]
        },
        "yaxis14": {
         "anchor": "x14",
         "domain": [
          0,
          0.08163265306122448
         ]
        },
        "yaxis2": {
         "anchor": "x2",
         "domain": [
          0.9183673469387754,
          0.9999999999999999
         ]
        },
        "yaxis3": {
         "anchor": "x3",
         "domain": [
          0.7653061224489794,
          0.8469387755102039
         ]
        },
        "yaxis4": {
         "anchor": "x4",
         "domain": [
          0.7653061224489794,
          0.8469387755102039
         ]
        },
        "yaxis5": {
         "anchor": "x5",
         "domain": [
          0.6122448979591837,
          0.6938775510204082
         ]
        },
        "yaxis6": {
         "anchor": "x6",
         "domain": [
          0.6122448979591837,
          0.6938775510204082
         ]
        },
        "yaxis7": {
         "anchor": "x7",
         "domain": [
          0.4591836734693877,
          0.5408163265306122
         ]
        },
        "yaxis8": {
         "anchor": "x8",
         "domain": [
          0.4591836734693877,
          0.5408163265306122
         ]
        },
        "yaxis9": {
         "anchor": "x9",
         "domain": [
          0.30612244897959184,
          0.3877551020408163
         ]
        }
       }
      }
     },
     "metadata": {},
     "output_type": "display_data"
    }
   ],
   "source": [
    "from plots import plot_grid_all_agencies\n",
    "\n",
    "fig = plot_grid_all_agencies(final_df, width=1200)\n",
    "fig.show()"
   ]
  },
  {
   "cell_type": "markdown",
   "metadata": {},
   "source": [
    "O que mais queria é o seguinte: pega a média das alinhada e das contra só para todos os presidentes que não sejam Bolsonaro. Depois, pega a média para Bolsonaro. Depois compara - test of means (two-tailed T test) - para ver se tem uma diferença estatisticamente significante entre ex. CGU durante presidentes regulares  V. CGU durante Bolsonaro. Faça isso para cada agência, se puder, e depois para todos as agências (alinhada/contra) de forma agregada."
   ]
  },
  {
   "cell_type": "code",
   "execution_count": 8,
   "metadata": {},
   "outputs": [
    {
     "data": {
      "text/html": [
       "<div>\n",
       "<style scoped>\n",
       "    .dataframe tbody tr th:only-of-type {\n",
       "        vertical-align: middle;\n",
       "    }\n",
       "\n",
       "    .dataframe tbody tr th {\n",
       "        vertical-align: top;\n",
       "    }\n",
       "\n",
       "    .dataframe thead th {\n",
       "        text-align: right;\n",
       "    }\n",
       "</style>\n",
       "<table border=\"1\" class=\"dataframe\">\n",
       "  <thead>\n",
       "    <tr style=\"text-align: right;\">\n",
       "      <th></th>\n",
       "      <th>president</th>\n",
       "      <th>year</th>\n",
       "      <th>agency</th>\n",
       "      <th>conc_parc</th>\n",
       "      <th>category</th>\n",
       "    </tr>\n",
       "  </thead>\n",
       "  <tbody>\n",
       "    <tr>\n",
       "      <th>0</th>\n",
       "      <td>Dilma Rousseff</td>\n",
       "      <td>2015</td>\n",
       "      <td>ABGF - Agencia Brasileira Gestora de Fundos Ga...</td>\n",
       "      <td>0.339623</td>\n",
       "      <td>neutra</td>\n",
       "    </tr>\n",
       "    <tr>\n",
       "      <th>1</th>\n",
       "      <td>Dilma Rousseff</td>\n",
       "      <td>2015</td>\n",
       "      <td>AEB – Agência Espacial Brasileira</td>\n",
       "      <td>0.962264</td>\n",
       "      <td>neutra</td>\n",
       "    </tr>\n",
       "    <tr>\n",
       "      <th>2</th>\n",
       "      <td>Dilma Rousseff</td>\n",
       "      <td>2015</td>\n",
       "      <td>AMAZUL - Amazônia Azul Tecnologias de Defesa S.A.</td>\n",
       "      <td>0.909091</td>\n",
       "      <td>neutra</td>\n",
       "    </tr>\n",
       "    <tr>\n",
       "      <th>3</th>\n",
       "      <td>Dilma Rousseff</td>\n",
       "      <td>2015</td>\n",
       "      <td>AN – Arquivo Nacional</td>\n",
       "      <td>0.955128</td>\n",
       "      <td>neutra</td>\n",
       "    </tr>\n",
       "    <tr>\n",
       "      <th>4</th>\n",
       "      <td>Dilma Rousseff</td>\n",
       "      <td>2015</td>\n",
       "      <td>ANA – Agência Nacional de Águas</td>\n",
       "      <td>0.996875</td>\n",
       "      <td>neutra</td>\n",
       "    </tr>\n",
       "  </tbody>\n",
       "</table>\n",
       "</div>"
      ],
      "text/plain": [
       "        president  year                                             agency  \\\n",
       "0  Dilma Rousseff  2015  ABGF - Agencia Brasileira Gestora de Fundos Ga...   \n",
       "1  Dilma Rousseff  2015                  AEB – Agência Espacial Brasileira   \n",
       "2  Dilma Rousseff  2015  AMAZUL - Amazônia Azul Tecnologias de Defesa S.A.   \n",
       "3  Dilma Rousseff  2015                              AN – Arquivo Nacional   \n",
       "4  Dilma Rousseff  2015                    ANA – Agência Nacional de Águas   \n",
       "\n",
       "   conc_parc category  \n",
       "0   0.339623   neutra  \n",
       "1   0.962264   neutra  \n",
       "2   0.909091   neutra  \n",
       "3   0.955128   neutra  \n",
       "4   0.996875   neutra  "
      ]
     },
     "execution_count": 8,
     "metadata": {},
     "output_type": "execute_result"
    }
   ],
   "source": [
    "final_df.head(5)"
   ]
  },
  {
   "cell_type": "markdown",
   "metadata": {},
   "source": [
    "### Testing the filtering in president and in category"
   ]
  },
  {
   "cell_type": "code",
   "execution_count": 7,
   "metadata": {},
   "outputs": [
    {
     "name": "stdout",
     "output_type": "stream",
     "text": [
      "========================================\n",
      "Primeiras 5 linhas df só com empresas alinhadas:\n"
     ]
    },
    {
     "data": {
      "text/html": [
       "<div>\n",
       "<style scoped>\n",
       "    .dataframe tbody tr th:only-of-type {\n",
       "        vertical-align: middle;\n",
       "    }\n",
       "\n",
       "    .dataframe tbody tr th {\n",
       "        vertical-align: top;\n",
       "    }\n",
       "\n",
       "    .dataframe thead th {\n",
       "        text-align: right;\n",
       "    }\n",
       "</style>\n",
       "<table border=\"1\" class=\"dataframe\">\n",
       "  <thead>\n",
       "    <tr style=\"text-align: right;\">\n",
       "      <th></th>\n",
       "      <th>president</th>\n",
       "      <th>year</th>\n",
       "      <th>agency</th>\n",
       "      <th>conc_parc</th>\n",
       "      <th>category</th>\n",
       "    </tr>\n",
       "  </thead>\n",
       "  <tbody>\n",
       "    <tr>\n",
       "      <th>255</th>\n",
       "      <td>Dilma Rousseff</td>\n",
       "      <td>2015</td>\n",
       "      <td>CGU – Controladoria-Geral da União</td>\n",
       "      <td>0.684647</td>\n",
       "      <td>alinhada</td>\n",
       "    </tr>\n",
       "    <tr>\n",
       "      <th>256</th>\n",
       "      <td>Dilma Rousseff</td>\n",
       "      <td>2015</td>\n",
       "      <td>MAPA - Ministério da Agricultura e Pecuária</td>\n",
       "      <td>0.860215</td>\n",
       "      <td>alinhada</td>\n",
       "    </tr>\n",
       "    <tr>\n",
       "      <th>259</th>\n",
       "      <td>Dilma Rousseff</td>\n",
       "      <td>2015</td>\n",
       "      <td>MD – Ministério da Defesa</td>\n",
       "      <td>0.837748</td>\n",
       "      <td>alinhada</td>\n",
       "    </tr>\n",
       "    <tr>\n",
       "      <th>263</th>\n",
       "      <td>Dilma Rousseff</td>\n",
       "      <td>2015</td>\n",
       "      <td>MF - Ministério da Fazenda</td>\n",
       "      <td>0.716955</td>\n",
       "      <td>alinhada</td>\n",
       "    </tr>\n",
       "    <tr>\n",
       "      <th>265</th>\n",
       "      <td>Dilma Rousseff</td>\n",
       "      <td>2015</td>\n",
       "      <td>MJSP – Ministério da Justiça e Segurança Pública</td>\n",
       "      <td>0.837927</td>\n",
       "      <td>alinhada</td>\n",
       "    </tr>\n",
       "  </tbody>\n",
       "</table>\n",
       "</div>"
      ],
      "text/plain": [
       "          president  year                                            agency  \\\n",
       "255  Dilma Rousseff  2015                CGU – Controladoria-Geral da União   \n",
       "256  Dilma Rousseff  2015       MAPA - Ministério da Agricultura e Pecuária   \n",
       "259  Dilma Rousseff  2015                         MD – Ministério da Defesa   \n",
       "263  Dilma Rousseff  2015                        MF - Ministério da Fazenda   \n",
       "265  Dilma Rousseff  2015  MJSP – Ministério da Justiça e Segurança Pública   \n",
       "\n",
       "     conc_parc  category  \n",
       "255   0.684647  alinhada  \n",
       "256   0.860215  alinhada  \n",
       "259   0.837748  alinhada  \n",
       "263   0.716955  alinhada  \n",
       "265   0.837927  alinhada  "
      ]
     },
     "metadata": {},
     "output_type": "display_data"
    },
    {
     "name": "stdout",
     "output_type": "stream",
     "text": [
      "Tamanho df só com empresas alinhadas:\n",
      "58\n",
      "Nomes dos presidentes:\n",
      "['Dilma Rousseff' 'Michel Temer' 'Jair Bolsonaro'\n",
      " 'Luiz Inácio Lula da Silva']\n",
      "==============================\n",
      "Testando df sem bolsonaro:\n",
      "Primeiras 5 linhas:\n"
     ]
    },
    {
     "data": {
      "text/html": [
       "<div>\n",
       "<style scoped>\n",
       "    .dataframe tbody tr th:only-of-type {\n",
       "        vertical-align: middle;\n",
       "    }\n",
       "\n",
       "    .dataframe tbody tr th {\n",
       "        vertical-align: top;\n",
       "    }\n",
       "\n",
       "    .dataframe thead th {\n",
       "        text-align: right;\n",
       "    }\n",
       "</style>\n",
       "<table border=\"1\" class=\"dataframe\">\n",
       "  <thead>\n",
       "    <tr style=\"text-align: right;\">\n",
       "      <th></th>\n",
       "      <th>president</th>\n",
       "      <th>year</th>\n",
       "      <th>agency</th>\n",
       "      <th>conc_parc</th>\n",
       "      <th>category</th>\n",
       "    </tr>\n",
       "  </thead>\n",
       "  <tbody>\n",
       "    <tr>\n",
       "      <th>255</th>\n",
       "      <td>Dilma Rousseff</td>\n",
       "      <td>2015</td>\n",
       "      <td>CGU – Controladoria-Geral da União</td>\n",
       "      <td>0.684647</td>\n",
       "      <td>alinhada</td>\n",
       "    </tr>\n",
       "    <tr>\n",
       "      <th>256</th>\n",
       "      <td>Dilma Rousseff</td>\n",
       "      <td>2015</td>\n",
       "      <td>MAPA - Ministério da Agricultura e Pecuária</td>\n",
       "      <td>0.860215</td>\n",
       "      <td>alinhada</td>\n",
       "    </tr>\n",
       "    <tr>\n",
       "      <th>259</th>\n",
       "      <td>Dilma Rousseff</td>\n",
       "      <td>2015</td>\n",
       "      <td>MD – Ministério da Defesa</td>\n",
       "      <td>0.837748</td>\n",
       "      <td>alinhada</td>\n",
       "    </tr>\n",
       "    <tr>\n",
       "      <th>263</th>\n",
       "      <td>Dilma Rousseff</td>\n",
       "      <td>2015</td>\n",
       "      <td>MF - Ministério da Fazenda</td>\n",
       "      <td>0.716955</td>\n",
       "      <td>alinhada</td>\n",
       "    </tr>\n",
       "    <tr>\n",
       "      <th>265</th>\n",
       "      <td>Dilma Rousseff</td>\n",
       "      <td>2015</td>\n",
       "      <td>MJSP – Ministério da Justiça e Segurança Pública</td>\n",
       "      <td>0.837927</td>\n",
       "      <td>alinhada</td>\n",
       "    </tr>\n",
       "  </tbody>\n",
       "</table>\n",
       "</div>"
      ],
      "text/plain": [
       "          president  year                                            agency  \\\n",
       "255  Dilma Rousseff  2015                CGU – Controladoria-Geral da União   \n",
       "256  Dilma Rousseff  2015       MAPA - Ministério da Agricultura e Pecuária   \n",
       "259  Dilma Rousseff  2015                         MD – Ministério da Defesa   \n",
       "263  Dilma Rousseff  2015                        MF - Ministério da Fazenda   \n",
       "265  Dilma Rousseff  2015  MJSP – Ministério da Justiça e Segurança Pública   \n",
       "\n",
       "     conc_parc  category  \n",
       "255   0.684647  alinhada  \n",
       "256   0.860215  alinhada  \n",
       "259   0.837748  alinhada  \n",
       "263   0.716955  alinhada  \n",
       "265   0.837927  alinhada  "
      ]
     },
     "metadata": {},
     "output_type": "display_data"
    },
    {
     "name": "stdout",
     "output_type": "stream",
     "text": [
      "====================\n",
      "Quantidade de linhas:\n",
      "37\n",
      "Nomes dos presidentes:\n",
      "['Dilma Rousseff' 'Michel Temer' 'Luiz Inácio Lula da Silva']\n",
      "==============================\n",
      "Testando df com bolsonaro:\n",
      "Primeiras 5 linhas:\n"
     ]
    },
    {
     "data": {
      "text/html": [
       "<div>\n",
       "<style scoped>\n",
       "    .dataframe tbody tr th:only-of-type {\n",
       "        vertical-align: middle;\n",
       "    }\n",
       "\n",
       "    .dataframe tbody tr th {\n",
       "        vertical-align: top;\n",
       "    }\n",
       "\n",
       "    .dataframe thead th {\n",
       "        text-align: right;\n",
       "    }\n",
       "</style>\n",
       "<table border=\"1\" class=\"dataframe\">\n",
       "  <thead>\n",
       "    <tr style=\"text-align: right;\">\n",
       "      <th></th>\n",
       "      <th>president</th>\n",
       "      <th>year</th>\n",
       "      <th>agency</th>\n",
       "      <th>conc_parc</th>\n",
       "      <th>category</th>\n",
       "    </tr>\n",
       "  </thead>\n",
       "  <tbody>\n",
       "    <tr>\n",
       "      <th>1559</th>\n",
       "      <td>Jair Bolsonaro</td>\n",
       "      <td>2019</td>\n",
       "      <td>MF - Ministério da Fazenda</td>\n",
       "      <td>0.489094</td>\n",
       "      <td>alinhada</td>\n",
       "    </tr>\n",
       "    <tr>\n",
       "      <th>1649</th>\n",
       "      <td>Jair Bolsonaro</td>\n",
       "      <td>2019</td>\n",
       "      <td>CGU – Controladoria-Geral da União</td>\n",
       "      <td>0.719971</td>\n",
       "      <td>alinhada</td>\n",
       "    </tr>\n",
       "    <tr>\n",
       "      <th>1650</th>\n",
       "      <td>Jair Bolsonaro</td>\n",
       "      <td>2019</td>\n",
       "      <td>MAPA - Ministério da Agricultura e Pecuária</td>\n",
       "      <td>0.857547</td>\n",
       "      <td>alinhada</td>\n",
       "    </tr>\n",
       "    <tr>\n",
       "      <th>1652</th>\n",
       "      <td>Jair Bolsonaro</td>\n",
       "      <td>2019</td>\n",
       "      <td>MD – Ministério da Defesa</td>\n",
       "      <td>0.657194</td>\n",
       "      <td>alinhada</td>\n",
       "    </tr>\n",
       "    <tr>\n",
       "      <th>1656</th>\n",
       "      <td>Jair Bolsonaro</td>\n",
       "      <td>2019</td>\n",
       "      <td>MJSP – Ministério da Justiça e Segurança Pública</td>\n",
       "      <td>0.689420</td>\n",
       "      <td>alinhada</td>\n",
       "    </tr>\n",
       "  </tbody>\n",
       "</table>\n",
       "</div>"
      ],
      "text/plain": [
       "           president  year                                            agency  \\\n",
       "1559  Jair Bolsonaro  2019                        MF - Ministério da Fazenda   \n",
       "1649  Jair Bolsonaro  2019                CGU – Controladoria-Geral da União   \n",
       "1650  Jair Bolsonaro  2019       MAPA - Ministério da Agricultura e Pecuária   \n",
       "1652  Jair Bolsonaro  2019                         MD – Ministério da Defesa   \n",
       "1656  Jair Bolsonaro  2019  MJSP – Ministério da Justiça e Segurança Pública   \n",
       "\n",
       "      conc_parc  category  \n",
       "1559   0.489094  alinhada  \n",
       "1649   0.719971  alinhada  \n",
       "1650   0.857547  alinhada  \n",
       "1652   0.657194  alinhada  \n",
       "1656   0.689420  alinhada  "
      ]
     },
     "metadata": {},
     "output_type": "display_data"
    },
    {
     "name": "stdout",
     "output_type": "stream",
     "text": [
      "====================\n",
      "Quantidade de linhas:\n",
      "21\n",
      "====================\n",
      "Nomes dos presidentes:\n",
      "['Jair Bolsonaro']\n",
      "==============================\n"
     ]
    }
   ],
   "source": [
    "aligned_df = final_df[final_df[\"category\"] == \"alinhada\"]\n",
    "not_aligned_df = final_df[final_df[\"category\"] == \"contra\"]\n",
    "\n",
    "not_bolsonaro_aligned_df = aligned_df[aligned_df[\"president\"] != \"Jair Bolsonaro\"]\n",
    "bolsonaro_aligned_df = aligned_df[aligned_df[\"president\"] == \"Jair Bolsonaro\"]\n",
    "not_bolsonaro_not_aligned_df = not_aligned_df[not_aligned_df[\"president\"] != \"Jair Bolsonaro\"]\n",
    "bolsonaro_not_aligned_df = not_aligned_df[not_aligned_df[\"president\"] == \"Jair Bolsonaro\"]\n",
    "\n",
    "# Testing\n",
    "print_equals(40)\n",
    "print(\"Primeiras 5 linhas df só com empresas alinhadas:\")\n",
    "display(aligned_df.head(5))\n",
    "print(\"Tamanho df só com empresas alinhadas:\")\n",
    "print(len(aligned_df.index))\n",
    "print(\"Nomes dos presidentes:\")\n",
    "print(aligned_df[\"president\"].unique())\n",
    "print_equals(30)\n",
    "\n",
    "print(\"Testando df sem bolsonaro:\")\n",
    "print(\"Primeiras 5 linhas:\")\n",
    "display(not_bolsonaro_aligned_df.head(5))\n",
    "print_equals(20)\n",
    "print(\"Quantidade de linhas:\")\n",
    "print(len(not_bolsonaro_aligned_df.index))\n",
    "print(\"Nomes dos presidentes:\")\n",
    "print(not_bolsonaro_aligned_df[\"president\"].unique())\n",
    "print_equals(30)\n",
    "\n",
    "print(\"Testando df com bolsonaro:\")\n",
    "print(\"Primeiras 5 linhas:\")\n",
    "display(bolsonaro_aligned_df.head(5))\n",
    "print_equals(20)\n",
    "print(\"Quantidade de linhas:\")\n",
    "print(len(bolsonaro_aligned_df.index))\n",
    "print_equals(20)\n",
    "print(\"Nomes dos presidentes:\")\n",
    "print(bolsonaro_aligned_df[\"president\"].unique())\n",
    "print_equals(30)"
   ]
  },
  {
   "cell_type": "code",
   "execution_count": null,
   "metadata": {},
   "outputs": [],
   "source": [
    "# Defining functions\n",
    "\n",
    "def two_tailed_t_test(dist_1: pd.Series, dist_2: pd.Series, alpha: float = 0.5) -> bool:\n",
    "    \"\"\"\n",
    "    Function to evaluate the two-tailed t-test and print the results\n",
    "    \"\"\"\n",
    "    _, p_value = stats.ttest_ind(dist_1, dist_2)\n",
    "\n",
    "    if p_value < alpha:\n",
    "        return True\n",
    "    else:\n",
    "        return False\n",
    "\n",
    "def two_tailed_t_test_aligned_not_aligned_bolsonaro(\n",
    "        not_bolsonaro_aligned_conceded_distribution: pd.Series,\n",
    "        bolsonaro_aligned_conceded_distribution: pd.Series,\n",
    "        not_bolsonaro_not_aligned_conceded_distribution: pd.Series,\n",
    "        bolsonaro_not_aligned_conceded_distribution: pd.Series,\n",
    "        alpha: float | list[float] = 0.5\n",
    "    ):\n",
    "    \n",
    "    # two-tailed t-test to evaluate difference between aligned agencies\n",
    "    print(f\"Two-tailed t-tests with alpha = {alpha}\")\n",
    "\n",
    "    print(\"For the aligned agencies:\")\n",
    "    if two_tailed_t_test(not_bolsonaro_aligned_conceded_distribution, bolsonaro_aligned_conceded_distribution):\n",
    "        print(f\"There's a significant difference between the periods with and without Bolsonaro in the presidence\")\n",
    "    else:\n",
    "        print(f\"There's NOT a significant difference between the periods with and without Bolsonaro in the presidence\")\n",
    "    \n",
    "    print(\"For the not-aligned agencies:\")\n",
    "    if two_tailed_t_test(not_bolsonaro_not_aligned_conceded_distribution, bolsonaro_not_aligned_conceded_distribution):\n",
    "        print(f\"There's a significant difference between the periods with and without Bolsonaro in the presidence\")\n",
    "    else:\n",
    "        print(f\"There's NOT a significant difference between the periods with and without Bolsonaro in the presidence\")\n",
    "\n",
    "def two_tailed_t_test_aligned_not_aligned_bolsonaro_every_agency(final_df: pd.DataFrame, alpha: float = 0.5):\n",
    "    print(f\"Two-tailed t-tests with alpha = {alpha}\")\n",
    "    \n",
    "    not_neutral_agencies = final_df[final_df[\"category\"] != \"neutra\"]\n",
    "\n",
    "    rejected_null_h = {}\n",
    "    for agency in not_neutral_agencies[\"agency\"].unique():\n",
    "        # filtering by the agency\n",
    "        current_agency_df = final_df[final_df[\"agency\"] == agency]\n",
    "        \n",
    "        # Filtering by Bolsonaro\n",
    "        bolsonaro_df = current_agency_df[current_agency_df[\"president\"] == \"Jair Bolsonaro\"]\n",
    "        not_bolsonaro_df = current_agency_df[current_agency_df[\"president\"] != \"Jair Bolsonaro\"]\n",
    "\n",
    "        # Getting the desired column\n",
    "        dist_bolsonaro = bolsonaro_df[\"conc_parc\"]\n",
    "        dist_not_bolsonaro = not_bolsonaro_df[\"conc_parc\"]\n",
    "\n",
    "        rejected_null_h[agency] = two_tailed_t_test(dist_bolsonaro, dist_not_bolsonaro, alpha)\n",
    "\n",
    "    # Mapping the results of the tests to the dataframe\n",
    "    not_neutral_agencies[\"changed_during_bolsonaro\"] = not_neutral_agencies[\"agency\"].map(rejected_null_h)\n",
    "    return not_neutral_agencies"
   ]
  },
  {
   "cell_type": "code",
   "execution_count": null,
   "metadata": {},
   "outputs": [
    {
     "name": "stdout",
     "output_type": "stream",
     "text": [
      "two-tailed t-tests with alpha = 0.5\n",
      "For the aligned agencies:\n",
      "There's a significant difference between the periods with and without Bolsonaro in the presidence\n",
      "For the not-aligned agencies:\n",
      "There's NOT a significant difference between the periods with and without Bolsonaro in the presidence\n"
     ]
    }
   ],
   "source": [
    "# Executing the computation the agencies aggregated\n",
    "not_bolsonaro_aligned_conceded_distribution = not_bolsonaro_aligned_df[\"conc_parc\"]\n",
    "bolsonaro_aligned_conceded_distribution = bolsonaro_aligned_df[\"conc_parc\"]\n",
    "not_bolsonaro_not_aligned_conceded_distribution = not_bolsonaro_not_aligned_df[\"conc_parc\"]\n",
    "bolsonaro_not_aligned_conceded_distribution = bolsonaro_not_aligned_df[\"conc_parc\"]\n",
    "\n",
    "two_tailed_t_test_aligned_not_aligned_bolsonaro(\n",
    "    not_bolsonaro_aligned_conceded_distribution,\n",
    "    bolsonaro_aligned_conceded_distribution,\n",
    "    not_bolsonaro_not_aligned_conceded_distribution,\n",
    "    bolsonaro_not_aligned_conceded_distribution\n",
    ")"
   ]
  },
  {
   "cell_type": "code",
   "execution_count": null,
   "metadata": {},
   "outputs": [
    {
     "name": "stdout",
     "output_type": "stream",
     "text": [
      "Nº of not neutral agencies: 13\n",
      "==============================\n",
      "Nº of agencies that changed during Bolsonaro presidence 11:\n",
      "1. ANVISA – Agência Nacional de Vigilância Sanitária\n",
      "2. FUNAI – Fundação Nacional dos Povos Indígenas\n",
      "3. IBAMA – Instituto Brasileiro do Meio Ambiente e dos Recursos Naturais Renováveis\n",
      "4. CGU – Controladoria-Geral da União\n",
      "5. MAPA - Ministério da Agricultura e Pecuária\n",
      "6. MD – Ministério da Defesa\n",
      "7. MEC – Ministério da Educação\n",
      "8. MF - Ministério da Fazenda\n",
      "9. MMA – Ministério do Meio Ambiente e Mudança do Clima\n",
      "10. MS – Ministério da Saúde\n",
      "11. MDA - Ministério do Desenvolvimento Agrário e Agricultura Familiar\n",
      "====================\n",
      "Nº of agencies that didn't changed during Bolsonaro presidence 2:\n",
      "1. EBC – Empresa Brasil de Comunicação S.A.\n",
      "2. MJSP – Ministério da Justiça e Segurança Pública\n"
     ]
    },
    {
     "name": "stderr",
     "output_type": "stream",
     "text": [
      "C:\\Users\\daniel.almeida\\AppData\\Local\\Temp\\ipykernel_18488\\4133115096.py:19: SettingWithCopyWarning: \n",
      "A value is trying to be set on a copy of a slice from a DataFrame.\n",
      "Try using .loc[row_indexer,col_indexer] = value instead\n",
      "\n",
      "See the caveats in the documentation: https://pandas.pydata.org/pandas-docs/stable/user_guide/indexing.html#returning-a-view-versus-a-copy\n",
      "  not_neutral_agencies[\"changed_during_bolsonaro\"] = not_neutral_agencies[\"agency\"].map(rejected_null_h)\n"
     ]
    }
   ],
   "source": [
    "# All agencies\n",
    "\n",
    "num_not_neutral_agencies = len(final_df[final_df[\"category\"] != \"neutra\"][\"agency\"].unique())\n",
    "print(f\"Nº of not neutral agencies: {num_not_neutral_agencies}\")\n",
    "\n",
    "# Executing the computation for each agency\n",
    "all_agencies_df = two_tailed_t_test_aligned_not_aligned_bolsonaro_every_agency(final_df)\n",
    "\n",
    "agencies_that_not_changed = list(all_agencies_df[~all_agencies_df[\"changed_during_bolsonaro\"]][\"agency\"].unique())\n",
    "agencies_that_changed = list(all_agencies_df[all_agencies_df[\"changed_during_bolsonaro\"]][\"agency\"].unique())\n",
    "num_agencies_that_not_changed = len(agencies_that_not_changed)\n",
    "num_agencies_that_changed = len(agencies_that_changed)\n",
    "\n",
    "print_equals(30)\n",
    "print(f\"Nº of agencies that changed during Bolsonaro presidence {num_agencies_that_changed}:\")\n",
    "for idx, agency in enumerate(agencies_that_changed):\n",
    "    print(f\"{idx + 1}. {agency}\")\n",
    "print_equals(20)\n",
    "print(f\"Nº of agencies that didn't changed during Bolsonaro presidence {num_agencies_that_not_changed}:\")\n",
    "for idx, agency in enumerate(agencies_that_not_changed):\n",
    "    print(f\"{idx + 1}. {agency}\")"
   ]
  },
  {
   "cell_type": "markdown",
   "metadata": {},
   "source": [
    "How did each president’s cabinets perform relative to others? I would like total cabinet numbers per president and per year aggregated for all variables. Put these aggregate totals in one table, in a separate tab."
   ]
  }
 ],
 "metadata": {
  "kernelspec": {
   "display_name": "venv",
   "language": "python",
   "name": "python3"
  },
  "language_info": {
   "codemirror_mode": {
    "name": "ipython",
    "version": 3
   },
   "file_extension": ".py",
   "mimetype": "text/x-python",
   "name": "python",
   "nbconvert_exporter": "python",
   "pygments_lexer": "ipython3",
   "version": "3.12.1"
  }
 },
 "nbformat": 4,
 "nbformat_minor": 2
}

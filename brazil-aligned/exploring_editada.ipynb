{
 "cells": [
  {
   "cell_type": "code",
   "execution_count": 1,
   "metadata": {},
   "outputs": [],
   "source": [
    "import pandas as pd"
   ]
  },
  {
   "cell_type": "code",
   "execution_count": 2,
   "metadata": {},
   "outputs": [],
   "source": [
    "from pathlib import Path\n",
    "\n",
    "DATA_DIR = Path(\"data\")\n",
    "RAW_DIR = DATA_DIR / \"raw\"\n",
    "INTERIM_DIR = DATA_DIR / \"interim\"\n",
    "\n",
    "# Constants and setup\n",
    "FILE_PATH = RAW_DIR / 'Brazil-Aligned and Non-Aligned All Presidents(editada).xlsx'\n",
    "SHEET_NAME = 'Cabinet & Bureaucracy'\n",
    "AGENCY_COLUMN = 'D'"
   ]
  },
  {
   "cell_type": "code",
   "execution_count": null,
   "metadata": {},
   "outputs": [],
   "source": [
    "df = pd.read_excel(FILE_PATH, SHEET_NAME)\n",
    "\n",
    "# Saving as parquet\n",
    "df.to_parquet(RAW_DIR / \"data-editada-parquet-raw.parquet\")"
   ]
  },
  {
   "cell_type": "markdown",
   "metadata": {},
   "source": [
    "### First, apply all the transformations in the new dataset"
   ]
  },
  {
   "cell_type": "code",
   "execution_count": 14,
   "metadata": {},
   "outputs": [],
   "source": [
    "df = pd.read_parquet(RAW_DIR / \"data-editada-parquet-raw.parquet\")"
   ]
  },
  {
   "cell_type": "code",
   "execution_count": 1,
   "metadata": {},
   "outputs": [],
   "source": [
    "from transform import transform_dataset_from_excel\n",
    "from pathlib import Path\n",
    "\n",
    "file_path = Path(\"data\") / \"raw\" / \"Brazil-Aligned and Non-Aligned All Presidents(editada).xlsx\"\n",
    "\n",
    "columns = [\n",
    "        'President',\n",
    "        'Party',\n",
    "        'Year',\n",
    "        'Agency',\n",
    "        '% Concedico e Parcialmente',\n",
    "    ]\n",
    "\n",
    "df_transformed = transform_dataset_from_excel(file_path=file_path, columns=columns)"
   ]
  },
  {
   "cell_type": "code",
   "execution_count": 2,
   "metadata": {},
   "outputs": [
    {
     "data": {
      "text/html": [
       "<div>\n",
       "<style scoped>\n",
       "    .dataframe tbody tr th:only-of-type {\n",
       "        vertical-align: middle;\n",
       "    }\n",
       "\n",
       "    .dataframe tbody tr th {\n",
       "        vertical-align: top;\n",
       "    }\n",
       "\n",
       "    .dataframe thead th {\n",
       "        text-align: right;\n",
       "    }\n",
       "</style>\n",
       "<table border=\"1\" class=\"dataframe\">\n",
       "  <thead>\n",
       "    <tr style=\"text-align: right;\">\n",
       "      <th></th>\n",
       "      <th>president</th>\n",
       "      <th>party</th>\n",
       "      <th>year</th>\n",
       "      <th>agency</th>\n",
       "      <th>conc_parc</th>\n",
       "      <th>category</th>\n",
       "    </tr>\n",
       "  </thead>\n",
       "  <tbody>\n",
       "    <tr>\n",
       "      <th>0</th>\n",
       "      <td>Dilma Rousseff</td>\n",
       "      <td>NaN</td>\n",
       "      <td>2015</td>\n",
       "      <td>ABGF - Agencia Brasileira Gestora de Fundos Ga...</td>\n",
       "      <td>0.339623</td>\n",
       "      <td>neutra</td>\n",
       "    </tr>\n",
       "    <tr>\n",
       "      <th>1</th>\n",
       "      <td>Dilma Rousseff</td>\n",
       "      <td>NaN</td>\n",
       "      <td>2015</td>\n",
       "      <td>AEB – Agência Espacial Brasileira</td>\n",
       "      <td>0.962264</td>\n",
       "      <td>neutra</td>\n",
       "    </tr>\n",
       "    <tr>\n",
       "      <th>2</th>\n",
       "      <td>Dilma Rousseff</td>\n",
       "      <td>NaN</td>\n",
       "      <td>2015</td>\n",
       "      <td>AMAZUL - Amazônia Azul Tecnologias de Defesa S.A.</td>\n",
       "      <td>0.909091</td>\n",
       "      <td>neutra</td>\n",
       "    </tr>\n",
       "    <tr>\n",
       "      <th>3</th>\n",
       "      <td>Dilma Rousseff</td>\n",
       "      <td>NaN</td>\n",
       "      <td>2015</td>\n",
       "      <td>AN – Arquivo Nacional</td>\n",
       "      <td>0.955128</td>\n",
       "      <td>neutra</td>\n",
       "    </tr>\n",
       "    <tr>\n",
       "      <th>4</th>\n",
       "      <td>Dilma Rousseff</td>\n",
       "      <td>NaN</td>\n",
       "      <td>2015</td>\n",
       "      <td>ANA – Agência Nacional de Águas</td>\n",
       "      <td>0.996875</td>\n",
       "      <td>neutra</td>\n",
       "    </tr>\n",
       "  </tbody>\n",
       "</table>\n",
       "</div>"
      ],
      "text/plain": [
       "        president party  year  \\\n",
       "0  Dilma Rousseff   NaN  2015   \n",
       "1  Dilma Rousseff   NaN  2015   \n",
       "2  Dilma Rousseff   NaN  2015   \n",
       "3  Dilma Rousseff   NaN  2015   \n",
       "4  Dilma Rousseff   NaN  2015   \n",
       "\n",
       "                                              agency  conc_parc category  \n",
       "0  ABGF - Agencia Brasileira Gestora de Fundos Ga...   0.339623   neutra  \n",
       "1                  AEB – Agência Espacial Brasileira   0.962264   neutra  \n",
       "2  AMAZUL - Amazônia Azul Tecnologias de Defesa S.A.   0.909091   neutra  \n",
       "3                              AN – Arquivo Nacional   0.955128   neutra  \n",
       "4                    ANA – Agência Nacional de Águas   0.996875   neutra  "
      ]
     },
     "execution_count": 2,
     "metadata": {},
     "output_type": "execute_result"
    }
   ],
   "source": [
    "df_transformed.head(5)"
   ]
  }
 ],
 "metadata": {
  "kernelspec": {
   "display_name": "venv",
   "language": "python",
   "name": "python3"
  },
  "language_info": {
   "codemirror_mode": {
    "name": "ipython",
    "version": 3
   },
   "file_extension": ".py",
   "mimetype": "text/x-python",
   "name": "python",
   "nbconvert_exporter": "python",
   "pygments_lexer": "ipython3",
   "version": "3.12.1"
  }
 },
 "nbformat": 4,
 "nbformat_minor": 2
}
